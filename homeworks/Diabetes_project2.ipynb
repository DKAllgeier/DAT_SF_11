{
 "metadata": {
  "name": "",
  "signature": "sha256:3074d3cdba04fef7af10c06880e3c2be4fd13b44d10b730d61da072d9501e632"
 },
 "nbformat": 3,
 "nbformat_minor": 0,
 "worksheets": [
  {
   "cells": [
    {
     "cell_type": "code",
     "collapsed": false,
     "input": [
      "#import needed packages\n",
      "import pandas as pd \n",
      "import numpy as np \n",
      "import matplotlib.pyplot as plt \n",
      "import seaborn as sns\n",
      "\n",
      "from sklearn import preprocessing\n",
      "%matplotlib inline "
     ],
     "language": "python",
     "metadata": {},
     "outputs": [],
     "prompt_number": 1
    },
    {
     "cell_type": "code",
     "collapsed": false,
     "input": [
      "#import dataset\n",
      "diabetes=pd.read_csv('../../../../Downloads/dataset_diabetes/diabetic_data.csv')"
     ],
     "language": "python",
     "metadata": {},
     "outputs": [],
     "prompt_number": 2
    },
    {
     "cell_type": "code",
     "collapsed": false,
     "input": [
      "#drop arbitrary variables\n",
      "diabetes.drop(['encounter_id','patient_nbr'], inplace=True, axis=1)"
     ],
     "language": "python",
     "metadata": {},
     "outputs": [],
     "prompt_number": 3
    },
    {
     "cell_type": "code",
     "collapsed": false,
     "input": [
      "from sklearn.cross_validation import cross_val_score\n",
      "from sklearn.ensemble import RandomForestClassifier\n",
      "from sklearn.tree import DecisionTreeClassifier\n",
      "from sklearn import preprocessing"
     ],
     "language": "python",
     "metadata": {},
     "outputs": [],
     "prompt_number": 4
    },
    {
     "cell_type": "code",
     "collapsed": false,
     "input": [
      "#Label encoder\n",
      "le=preprocessing.LabelEncoder()"
     ],
     "language": "python",
     "metadata": {},
     "outputs": [],
     "prompt_number": 5
    },
    {
     "cell_type": "code",
     "collapsed": false,
     "input": [
      "diab_data = pd.DataFrame()\n",
      "#save label encoders in a dictionary to have complete list. Need to save to run through test data.\n",
      "label_encoders = {}\n",
      "\n",
      "for column in diabetes.columns:\n",
      "    if diabetes[column].dtype == 'object':\n",
      "        #create new label encoders each time so not saving over the same label encoder. Need it for changing the test data.\n",
      "        label_encoders[column] = preprocessing.LabelEncoder()\n",
      "        diab_data[column] = label_encoders[column].fit_transform(diabetes[column])\n",
      "    else:\n",
      "        diab_data[column] = diabetes[column]"
     ],
     "language": "python",
     "metadata": {},
     "outputs": [],
     "prompt_number": 6
    },
    {
     "cell_type": "code",
     "collapsed": false,
     "input": [
      "#X_data all features except outcome\n",
      "X_data = diab_data.drop('readmitted', axis = 1)"
     ],
     "language": "python",
     "metadata": {},
     "outputs": [],
     "prompt_number": 8
    },
    {
     "cell_type": "code",
     "collapsed": false,
     "input": [
      "#outcome feature\n",
      "y=diab_data['readmitted']"
     ],
     "language": "python",
     "metadata": {},
     "outputs": [],
     "prompt_number": 9
    },
    {
     "cell_type": "code",
     "collapsed": false,
     "input": [
      "#scale X_data\n",
      "from sklearn.preprocessing import StandardScaler\n",
      "\n",
      "scale = StandardScaler()"
     ],
     "language": "python",
     "metadata": {},
     "outputs": [],
     "prompt_number": 10
    },
    {
     "cell_type": "code",
     "collapsed": false,
     "input": [
      "X_scaled = scale.fit_transform(X_data)"
     ],
     "language": "python",
     "metadata": {},
     "outputs": [],
     "prompt_number": 12
    },
    {
     "cell_type": "code",
     "collapsed": false,
     "input": [
      "#Split the Data\n",
      "from sklearn.cross_validation import train_test_split\n",
      "\n",
      "X_train, X_test, y_train, y_test = train_test_split(X_scaled, y, test_size=0.3)\n",
      "print X_train.shape, X_test.shape"
     ],
     "language": "python",
     "metadata": {},
     "outputs": [
      {
       "output_type": "stream",
       "stream": "stdout",
       "text": [
        "(71236, 47) (30530, 47)\n"
       ]
      }
     ],
     "prompt_number": 14
    },
    {
     "cell_type": "code",
     "collapsed": false,
     "input": [
      "#random forest model\n",
      "rf_model = RandomForestClassifier(n_estimators=100,max_depth=15,criterion='entropy')\n",
      "rf_model.fit(X_train,y_train)"
     ],
     "language": "python",
     "metadata": {},
     "outputs": [
      {
       "metadata": {},
       "output_type": "pyout",
       "prompt_number": 15,
       "text": [
        "RandomForestClassifier(bootstrap=True, compute_importances=None,\n",
        "            criterion='entropy', max_depth=15, max_features='auto',\n",
        "            max_leaf_nodes=None, min_density=None, min_samples_leaf=1,\n",
        "            min_samples_split=2, n_estimators=100, n_jobs=1,\n",
        "            oob_score=False, random_state=None, verbose=0)"
       ]
      }
     ],
     "prompt_number": 15
    },
    {
     "cell_type": "code",
     "collapsed": false,
     "input": [
      "y_pred = rf_model.predict(X_test)"
     ],
     "language": "python",
     "metadata": {},
     "outputs": [],
     "prompt_number": 16
    },
    {
     "cell_type": "code",
     "collapsed": false,
     "input": [
      "#plotting confusion matrix\n",
      "from sklearn.metrics import confusion_matrix\n",
      "\n",
      "def plot_confusion_matrix(y_pred, y):\n",
      "    plt.imshow(confusion_matrix(y, y_pred),\n",
      "               cmap=plt.cm.binary, interpolation='nearest')\n",
      "    plt.colorbar()\n",
      "    plt.xlabel('true value')\n",
      "    plt.ylabel('predicted value')"
     ],
     "language": "python",
     "metadata": {},
     "outputs": [],
     "prompt_number": 17
    },
    {
     "cell_type": "code",
     "collapsed": false,
     "input": [
      "plot_confusion_matrix( y_pred,y_test)"
     ],
     "language": "python",
     "metadata": {},
     "outputs": [
      {
       "metadata": {},
       "output_type": "display_data",
       "png": "[encoded data removed]",
       "text": [
        "<matplotlib.figure.Figure at 0x104e9fa90>"
       ]
      }
     ],
     "prompt_number": 18
    },
    {
     "cell_type": "code",
     "collapsed": false,
     "input": [
      "from sklearn.metrics import classification_report\n",
      "print classification_report(y_test,y_pred)"
     ],
     "language": "python",
     "metadata": {},
     "outputs": [
      {
       "output_type": "stream",
       "stream": "stdout",
       "text": [
        "             precision    recall  f1-score   support\n",
        "\n",
        "          0       0.52      0.00      0.01      3476\n",
        "          1       0.51      0.33      0.41     10607\n",
        "          2       0.61      0.87      0.72     16447\n",
        "\n",
        "avg / total       0.56      0.59      0.53     30530\n",
        "\n"
       ]
      }
     ],
     "prompt_number": 19
    },
    {
     "cell_type": "code",
     "collapsed": false,
     "input": [
      "rf_model.fit(X_train,y_train)\n",
      "sorted(zip(rf_model.feature_importances_, X_data.columns.values), reverse=True)"
     ],
     "language": "python",
     "metadata": {},
     "outputs": [
      {
       "metadata": {},
       "output_type": "pyout",
       "prompt_number": 20,
       "text": [
        "[(0.1046964290059787, 'number_inpatient'),\n",
        " (0.070332457112687402, 'diag_1'),\n",
        " (0.066590768522776719, 'num_lab_procedures'),\n",
        " (0.06509812879576754, 'discharge_disposition_id'),\n",
        " (0.064454461825314877, 'diag_2'),\n",
        " (0.063475340887986467, 'num_medications'),\n",
        " (0.062638988524269482, 'diag_3'),\n",
        " (0.043716060373456163, 'time_in_hospital'),\n",
        " (0.041855922404166461, 'number_diagnoses'),\n",
        " (0.041376393516526451, 'age'),\n",
        " (0.038153567121304209, 'medical_specialty'),\n",
        " (0.033647889688875617, 'payer_code'),\n",
        " (0.031486118484997196, 'num_procedures'),\n",
        " (0.031046682134882053, 'number_emergency'),\n",
        " (0.028043896665825307, 'number_outpatient'),\n",
        " (0.026591890205462057, 'admission_source_id'),\n",
        " (0.025597307680499656, 'admission_type_id'),\n",
        " (0.021439585626264045, 'insulin'),\n",
        " (0.018800512513623871, 'race'),\n",
        " (0.015418805050154834, 'A1Cresult'),\n",
        " (0.013121506221544533, 'gender'),\n",
        " (0.011788465185380778, 'metformin'),\n",
        " (0.010237572845233259, 'glipizide'),\n",
        " (0.0098492737222789211, 'diabetesMed'),\n",
        " (0.0093407866697875, 'change'),\n",
        " (0.0087507795988388676, 'glyburide'),\n",
        " (0.0086962235149168829, 'weight'),\n",
        " (0.0081853417899289856, 'max_glu_serum'),\n",
        " (0.0067869253600148696, 'pioglitazone'),\n",
        " (0.0063170820011121476, 'rosiglitazone'),\n",
        " (0.0056875306643372455, 'glimepiride'),\n",
        " (0.0028411288042561943, 'repaglinide'),\n",
        " (0.0013851632942774601, 'glyburide-metformin'),\n",
        " (0.0013406483258822089, 'nateglinide'),\n",
        " (0.00074446675286276437, 'acarbose'),\n",
        " (0.00021751415967335454, 'chlorpropamide'),\n",
        " (8.9189465064105393e-05, 'miglitol'),\n",
        " (6.5557972889795224e-05, 'tolazamide'),\n",
        " (5.0891651434871403e-05, 'glipizide-metformin'),\n",
        " (2.8435703675134425e-05, 'tolbutamide'),\n",
        " (7.1080264146568858e-06, 'acetohexamide'),\n",
        " (6.8408417840643565e-06, 'glimepiride-pioglitazone'),\n",
        " (3.612875923560642e-07, 'metformin-rosiglitazone'),\n",
        " (0.0, 'troglitazone'),\n",
        " (0.0, 'metformin-pioglitazone'),\n",
        " (0.0, 'examide'),\n",
        " (0.0, 'citoglipton')]"
       ]
      }
     ],
     "prompt_number": 20
    },
    {
     "cell_type": "code",
     "collapsed": false,
     "input": [],
     "language": "python",
     "metadata": {},
     "outputs": []
    }
   ],
   "metadata": {}
  }
 ]
}