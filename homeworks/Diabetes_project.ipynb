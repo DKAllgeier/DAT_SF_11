{
 "metadata": {
  "name": "",
  "signature": "sha256:d4c41371f33971d8f0d803b7a91259bcb7cb9cc02078fa791354dbeb2c48fcec"
 },
 "nbformat": 3,
 "nbformat_minor": 0,
 "worksheets": [
  {
   "cells": [
    {
     "cell_type": "code",
     "collapsed": false,
     "input": [
      "#import needed packages\n",
      "import pandas as pd \n",
      "import numpy as np \n",
      "import matplotlib.pyplot as plt \n",
      "import seaborn as sns\n",
      "\n",
      "from sklearn import preprocessing\n",
      "%matplotlib inline "
     ],
     "language": "python",
     "metadata": {},
     "outputs": [],
     "prompt_number": 19
    },
    {
     "cell_type": "code",
     "collapsed": false,
     "input": [
      "diabetes=pd.read_csv('../../../../Downloads/dataset_diabetes/diabetic_data.csv')"
     ],
     "language": "python",
     "metadata": {},
     "outputs": [],
     "prompt_number": 3
    },
    {
     "cell_type": "code",
     "collapsed": false,
     "input": [
      "diabetes.head(5)"
     ],
     "language": "python",
     "metadata": {},
     "outputs": [
      {
       "html": [
        "<div style=\"max-height:1000px;max-width:1500px;overflow:auto;\">\n",
        "<table border=\"1\" class=\"dataframe\">\n",
        "  <thead>\n",
        "    <tr style=\"text-align: right;\">\n",
        "      <th></th>\n",
        "      <th>encounter_id</th>\n",
        "      <th>patient_nbr</th>\n",
        "      <th>race</th>\n",
        "      <th>gender</th>\n",
        "      <th>age</th>\n",
        "      <th>weight</th>\n",
        "      <th>admission_type_id</th>\n",
        "      <th>discharge_disposition_id</th>\n",
        "      <th>admission_source_id</th>\n",
        "      <th>time_in_hospital</th>\n",
        "      <th>...</th>\n",
        "      <th>citoglipton</th>\n",
        "      <th>insulin</th>\n",
        "      <th>glyburide-metformin</th>\n",
        "      <th>glipizide-metformin</th>\n",
        "      <th>glimepiride-pioglitazone</th>\n",
        "      <th>metformin-rosiglitazone</th>\n",
        "      <th>metformin-pioglitazone</th>\n",
        "      <th>change</th>\n",
        "      <th>diabetesMed</th>\n",
        "      <th>readmitted</th>\n",
        "    </tr>\n",
        "  </thead>\n",
        "  <tbody>\n",
        "    <tr>\n",
        "      <th>0</th>\n",
        "      <td> 2278392</td>\n",
        "      <td>  8222157</td>\n",
        "      <td>       Caucasian</td>\n",
        "      <td> Female</td>\n",
        "      <td>  [0-10)</td>\n",
        "      <td> ?</td>\n",
        "      <td> 6</td>\n",
        "      <td> 25</td>\n",
        "      <td> 1</td>\n",
        "      <td> 1</td>\n",
        "      <td>...</td>\n",
        "      <td> No</td>\n",
        "      <td>     No</td>\n",
        "      <td> No</td>\n",
        "      <td> No</td>\n",
        "      <td> No</td>\n",
        "      <td> No</td>\n",
        "      <td> No</td>\n",
        "      <td> No</td>\n",
        "      <td>  No</td>\n",
        "      <td>  NO</td>\n",
        "    </tr>\n",
        "    <tr>\n",
        "      <th>1</th>\n",
        "      <td>  149190</td>\n",
        "      <td> 55629189</td>\n",
        "      <td>       Caucasian</td>\n",
        "      <td> Female</td>\n",
        "      <td> [10-20)</td>\n",
        "      <td> ?</td>\n",
        "      <td> 1</td>\n",
        "      <td>  1</td>\n",
        "      <td> 7</td>\n",
        "      <td> 3</td>\n",
        "      <td>...</td>\n",
        "      <td> No</td>\n",
        "      <td>     Up</td>\n",
        "      <td> No</td>\n",
        "      <td> No</td>\n",
        "      <td> No</td>\n",
        "      <td> No</td>\n",
        "      <td> No</td>\n",
        "      <td> Ch</td>\n",
        "      <td> Yes</td>\n",
        "      <td> &gt;30</td>\n",
        "    </tr>\n",
        "    <tr>\n",
        "      <th>2</th>\n",
        "      <td>   64410</td>\n",
        "      <td> 86047875</td>\n",
        "      <td> AfricanAmerican</td>\n",
        "      <td> Female</td>\n",
        "      <td> [20-30)</td>\n",
        "      <td> ?</td>\n",
        "      <td> 1</td>\n",
        "      <td>  1</td>\n",
        "      <td> 7</td>\n",
        "      <td> 2</td>\n",
        "      <td>...</td>\n",
        "      <td> No</td>\n",
        "      <td>     No</td>\n",
        "      <td> No</td>\n",
        "      <td> No</td>\n",
        "      <td> No</td>\n",
        "      <td> No</td>\n",
        "      <td> No</td>\n",
        "      <td> No</td>\n",
        "      <td> Yes</td>\n",
        "      <td>  NO</td>\n",
        "    </tr>\n",
        "    <tr>\n",
        "      <th>3</th>\n",
        "      <td>  500364</td>\n",
        "      <td> 82442376</td>\n",
        "      <td>       Caucasian</td>\n",
        "      <td>   Male</td>\n",
        "      <td> [30-40)</td>\n",
        "      <td> ?</td>\n",
        "      <td> 1</td>\n",
        "      <td>  1</td>\n",
        "      <td> 7</td>\n",
        "      <td> 2</td>\n",
        "      <td>...</td>\n",
        "      <td> No</td>\n",
        "      <td>     Up</td>\n",
        "      <td> No</td>\n",
        "      <td> No</td>\n",
        "      <td> No</td>\n",
        "      <td> No</td>\n",
        "      <td> No</td>\n",
        "      <td> Ch</td>\n",
        "      <td> Yes</td>\n",
        "      <td>  NO</td>\n",
        "    </tr>\n",
        "    <tr>\n",
        "      <th>4</th>\n",
        "      <td>   16680</td>\n",
        "      <td> 42519267</td>\n",
        "      <td>       Caucasian</td>\n",
        "      <td>   Male</td>\n",
        "      <td> [40-50)</td>\n",
        "      <td> ?</td>\n",
        "      <td> 1</td>\n",
        "      <td>  1</td>\n",
        "      <td> 7</td>\n",
        "      <td> 1</td>\n",
        "      <td>...</td>\n",
        "      <td> No</td>\n",
        "      <td> Steady</td>\n",
        "      <td> No</td>\n",
        "      <td> No</td>\n",
        "      <td> No</td>\n",
        "      <td> No</td>\n",
        "      <td> No</td>\n",
        "      <td> Ch</td>\n",
        "      <td> Yes</td>\n",
        "      <td>  NO</td>\n",
        "    </tr>\n",
        "  </tbody>\n",
        "</table>\n",
        "<p>5 rows \u00d7 50 columns</p>\n",
        "</div>"
       ],
       "metadata": {},
       "output_type": "pyout",
       "prompt_number": 4,
       "text": [
        "   encounter_id  patient_nbr             race  gender      age weight  \\\n",
        "0       2278392      8222157        Caucasian  Female   [0-10)      ?   \n",
        "1        149190     55629189        Caucasian  Female  [10-20)      ?   \n",
        "2         64410     86047875  AfricanAmerican  Female  [20-30)      ?   \n",
        "3        500364     82442376        Caucasian    Male  [30-40)      ?   \n",
        "4         16680     42519267        Caucasian    Male  [40-50)      ?   \n",
        "\n",
        "   admission_type_id  discharge_disposition_id  admission_source_id  \\\n",
        "0                  6                        25                    1   \n",
        "1                  1                         1                    7   \n",
        "2                  1                         1                    7   \n",
        "3                  1                         1                    7   \n",
        "4                  1                         1                    7   \n",
        "\n",
        "   time_in_hospital    ...     citoglipton insulin  glyburide-metformin  \\\n",
        "0                 1    ...              No      No                   No   \n",
        "1                 3    ...              No      Up                   No   \n",
        "2                 2    ...              No      No                   No   \n",
        "3                 2    ...              No      Up                   No   \n",
        "4                 1    ...              No  Steady                   No   \n",
        "\n",
        "   glipizide-metformin  glimepiride-pioglitazone  metformin-rosiglitazone  \\\n",
        "0                   No                        No                       No   \n",
        "1                   No                        No                       No   \n",
        "2                   No                        No                       No   \n",
        "3                   No                        No                       No   \n",
        "4                   No                        No                       No   \n",
        "\n",
        "   metformin-pioglitazone  change diabetesMed readmitted  \n",
        "0                      No      No          No         NO  \n",
        "1                      No      Ch         Yes        >30  \n",
        "2                      No      No         Yes         NO  \n",
        "3                      No      Ch         Yes         NO  \n",
        "4                      No      Ch         Yes         NO  \n",
        "\n",
        "[5 rows x 50 columns]"
       ]
      }
     ],
     "prompt_number": 4
    },
    {
     "cell_type": "code",
     "collapsed": false,
     "input": [
      "#diabetes.columns.tolist()"
     ],
     "language": "python",
     "metadata": {},
     "outputs": [],
     "prompt_number": 18
    },
    {
     "cell_type": "code",
     "collapsed": false,
     "input": [
      "diabetes.info()"
     ],
     "language": "python",
     "metadata": {},
     "outputs": [
      {
       "output_type": "stream",
       "stream": "stdout",
       "text": [
        "<class 'pandas.core.frame.DataFrame'>\n",
        "Int64Index: 101766 entries, 0 to 101765\n",
        "Data columns (total 50 columns):\n",
        "encounter_id                101766 non-null int64\n",
        "patient_nbr                 101766 non-null int64\n",
        "race                        101766 non-null object\n",
        "gender                      101766 non-null object\n",
        "age                         101766 non-null object\n",
        "weight                      101766 non-null object\n",
        "admission_type_id           101766 non-null int64\n",
        "discharge_disposition_id    101766 non-null int64\n",
        "admission_source_id         101766 non-null int64\n",
        "time_in_hospital            101766 non-null int64\n",
        "payer_code                  101766 non-null object\n",
        "medical_specialty           101766 non-null object\n",
        "num_lab_procedures          101766 non-null int64\n",
        "num_procedures              101766 non-null int64\n",
        "num_medications             101766 non-null int64\n",
        "number_outpatient           101766 non-null int64\n",
        "number_emergency            101766 non-null int64\n",
        "number_inpatient            101766 non-null int64\n",
        "diag_1                      101766 non-null object\n",
        "diag_2                      101766 non-null object\n",
        "diag_3                      101766 non-null object\n",
        "number_diagnoses            101766 non-null int64\n",
        "max_glu_serum               101766 non-null object\n",
        "A1Cresult                   101766 non-null object\n",
        "metformin                   101766 non-null object\n",
        "repaglinide                 101766 non-null object\n",
        "nateglinide                 101766 non-null object\n",
        "chlorpropamide              101766 non-null object\n",
        "glimepiride                 101766 non-null object\n",
        "acetohexamide               101766 non-null object\n",
        "glipizide                   101766 non-null object\n",
        "glyburide                   101766 non-null object\n",
        "tolbutamide                 101766 non-null object\n",
        "pioglitazone                101766 non-null object\n",
        "rosiglitazone               101766 non-null object\n",
        "acarbose                    101766 non-null object\n",
        "miglitol                    101766 non-null object\n",
        "troglitazone                101766 non-null object\n",
        "tolazamide                  101766 non-null object\n",
        "examide                     101766 non-null object\n",
        "citoglipton                 101766 non-null object\n",
        "insulin                     101766 non-null object\n",
        "glyburide-metformin         101766 non-null object\n",
        "glipizide-metformin         101766 non-null object\n",
        "glimepiride-pioglitazone    101766 non-null object\n",
        "metformin-rosiglitazone     101766 non-null object\n",
        "metformin-pioglitazone      101766 non-null object\n",
        "change                      101766 non-null object\n",
        "diabetesMed                 101766 non-null object\n",
        "readmitted                  101766 non-null object\n",
        "dtypes: int64(13), object(37)\n",
        "memory usage: 39.6+ MB\n"
       ]
      }
     ],
     "prompt_number": 8
    },
    {
     "cell_type": "code",
     "collapsed": false,
     "input": [
      "diabetes.describe()"
     ],
     "language": "python",
     "metadata": {},
     "outputs": [
      {
       "html": [
        "<div style=\"max-height:1000px;max-width:1500px;overflow:auto;\">\n",
        "<table border=\"1\" class=\"dataframe\">\n",
        "  <thead>\n",
        "    <tr style=\"text-align: right;\">\n",
        "      <th></th>\n",
        "      <th>encounter_id</th>\n",
        "      <th>patient_nbr</th>\n",
        "      <th>admission_type_id</th>\n",
        "      <th>discharge_disposition_id</th>\n",
        "      <th>admission_source_id</th>\n",
        "      <th>time_in_hospital</th>\n",
        "      <th>num_lab_procedures</th>\n",
        "      <th>num_procedures</th>\n",
        "      <th>num_medications</th>\n",
        "      <th>number_outpatient</th>\n",
        "      <th>number_emergency</th>\n",
        "      <th>number_inpatient</th>\n",
        "      <th>number_diagnoses</th>\n",
        "    </tr>\n",
        "  </thead>\n",
        "  <tbody>\n",
        "    <tr>\n",
        "      <th>count</th>\n",
        "      <td> 1.017660e+05</td>\n",
        "      <td> 1.017660e+05</td>\n",
        "      <td> 101766.000000</td>\n",
        "      <td> 101766.000000</td>\n",
        "      <td> 101766.000000</td>\n",
        "      <td> 101766.000000</td>\n",
        "      <td> 101766.000000</td>\n",
        "      <td> 101766.000000</td>\n",
        "      <td> 101766.000000</td>\n",
        "      <td> 101766.000000</td>\n",
        "      <td> 101766.000000</td>\n",
        "      <td> 101766.000000</td>\n",
        "      <td> 101766.000000</td>\n",
        "    </tr>\n",
        "    <tr>\n",
        "      <th>mean</th>\n",
        "      <td> 1.652016e+08</td>\n",
        "      <td> 5.433040e+07</td>\n",
        "      <td>      2.024006</td>\n",
        "      <td>      3.715642</td>\n",
        "      <td>      5.754437</td>\n",
        "      <td>      4.395987</td>\n",
        "      <td>     43.095641</td>\n",
        "      <td>      1.339730</td>\n",
        "      <td>     16.021844</td>\n",
        "      <td>      0.369357</td>\n",
        "      <td>      0.197836</td>\n",
        "      <td>      0.635566</td>\n",
        "      <td>      7.422607</td>\n",
        "    </tr>\n",
        "    <tr>\n",
        "      <th>std</th>\n",
        "      <td> 1.026403e+08</td>\n",
        "      <td> 3.869636e+07</td>\n",
        "      <td>      1.445403</td>\n",
        "      <td>      5.280166</td>\n",
        "      <td>      4.064081</td>\n",
        "      <td>      2.985108</td>\n",
        "      <td>     19.674362</td>\n",
        "      <td>      1.705807</td>\n",
        "      <td>      8.127566</td>\n",
        "      <td>      1.267265</td>\n",
        "      <td>      0.930472</td>\n",
        "      <td>      1.262863</td>\n",
        "      <td>      1.933600</td>\n",
        "    </tr>\n",
        "    <tr>\n",
        "      <th>min</th>\n",
        "      <td> 1.252200e+04</td>\n",
        "      <td> 1.350000e+02</td>\n",
        "      <td>      1.000000</td>\n",
        "      <td>      1.000000</td>\n",
        "      <td>      1.000000</td>\n",
        "      <td>      1.000000</td>\n",
        "      <td>      1.000000</td>\n",
        "      <td>      0.000000</td>\n",
        "      <td>      1.000000</td>\n",
        "      <td>      0.000000</td>\n",
        "      <td>      0.000000</td>\n",
        "      <td>      0.000000</td>\n",
        "      <td>      1.000000</td>\n",
        "    </tr>\n",
        "    <tr>\n",
        "      <th>25%</th>\n",
        "      <td> 8.496119e+07</td>\n",
        "      <td> 2.341322e+07</td>\n",
        "      <td>      1.000000</td>\n",
        "      <td>      1.000000</td>\n",
        "      <td>      1.000000</td>\n",
        "      <td>      2.000000</td>\n",
        "      <td>     31.000000</td>\n",
        "      <td>      0.000000</td>\n",
        "      <td>     10.000000</td>\n",
        "      <td>      0.000000</td>\n",
        "      <td>      0.000000</td>\n",
        "      <td>      0.000000</td>\n",
        "      <td>      6.000000</td>\n",
        "    </tr>\n",
        "    <tr>\n",
        "      <th>50%</th>\n",
        "      <td> 1.523890e+08</td>\n",
        "      <td> 4.550514e+07</td>\n",
        "      <td>      1.000000</td>\n",
        "      <td>      1.000000</td>\n",
        "      <td>      7.000000</td>\n",
        "      <td>      4.000000</td>\n",
        "      <td>     44.000000</td>\n",
        "      <td>      1.000000</td>\n",
        "      <td>     15.000000</td>\n",
        "      <td>      0.000000</td>\n",
        "      <td>      0.000000</td>\n",
        "      <td>      0.000000</td>\n",
        "      <td>      8.000000</td>\n",
        "    </tr>\n",
        "    <tr>\n",
        "      <th>75%</th>\n",
        "      <td> 2.302709e+08</td>\n",
        "      <td> 8.754595e+07</td>\n",
        "      <td>      3.000000</td>\n",
        "      <td>      4.000000</td>\n",
        "      <td>      7.000000</td>\n",
        "      <td>      6.000000</td>\n",
        "      <td>     57.000000</td>\n",
        "      <td>      2.000000</td>\n",
        "      <td>     20.000000</td>\n",
        "      <td>      0.000000</td>\n",
        "      <td>      0.000000</td>\n",
        "      <td>      1.000000</td>\n",
        "      <td>      9.000000</td>\n",
        "    </tr>\n",
        "    <tr>\n",
        "      <th>max</th>\n",
        "      <td> 4.438672e+08</td>\n",
        "      <td> 1.895026e+08</td>\n",
        "      <td>      8.000000</td>\n",
        "      <td>     28.000000</td>\n",
        "      <td>     25.000000</td>\n",
        "      <td>     14.000000</td>\n",
        "      <td>    132.000000</td>\n",
        "      <td>      6.000000</td>\n",
        "      <td>     81.000000</td>\n",
        "      <td>     42.000000</td>\n",
        "      <td>     76.000000</td>\n",
        "      <td>     21.000000</td>\n",
        "      <td>     16.000000</td>\n",
        "    </tr>\n",
        "  </tbody>\n",
        "</table>\n",
        "</div>"
       ],
       "metadata": {},
       "output_type": "pyout",
       "prompt_number": 30,
       "text": [
        "       encounter_id   patient_nbr  admission_type_id  \\\n",
        "count  1.017660e+05  1.017660e+05      101766.000000   \n",
        "mean   1.652016e+08  5.433040e+07           2.024006   \n",
        "std    1.026403e+08  3.869636e+07           1.445403   \n",
        "min    1.252200e+04  1.350000e+02           1.000000   \n",
        "25%    8.496119e+07  2.341322e+07           1.000000   \n",
        "50%    1.523890e+08  4.550514e+07           1.000000   \n",
        "75%    2.302709e+08  8.754595e+07           3.000000   \n",
        "max    4.438672e+08  1.895026e+08           8.000000   \n",
        "\n",
        "       discharge_disposition_id  admission_source_id  time_in_hospital  \\\n",
        "count             101766.000000        101766.000000     101766.000000   \n",
        "mean                   3.715642             5.754437          4.395987   \n",
        "std                    5.280166             4.064081          2.985108   \n",
        "min                    1.000000             1.000000          1.000000   \n",
        "25%                    1.000000             1.000000          2.000000   \n",
        "50%                    1.000000             7.000000          4.000000   \n",
        "75%                    4.000000             7.000000          6.000000   \n",
        "max                   28.000000            25.000000         14.000000   \n",
        "\n",
        "       num_lab_procedures  num_procedures  num_medications  number_outpatient  \\\n",
        "count       101766.000000   101766.000000    101766.000000      101766.000000   \n",
        "mean            43.095641        1.339730        16.021844           0.369357   \n",
        "std             19.674362        1.705807         8.127566           1.267265   \n",
        "min              1.000000        0.000000         1.000000           0.000000   \n",
        "25%             31.000000        0.000000        10.000000           0.000000   \n",
        "50%             44.000000        1.000000        15.000000           0.000000   \n",
        "75%             57.000000        2.000000        20.000000           0.000000   \n",
        "max            132.000000        6.000000        81.000000          42.000000   \n",
        "\n",
        "       number_emergency  number_inpatient  number_diagnoses  \n",
        "count     101766.000000     101766.000000     101766.000000  \n",
        "mean           0.197836          0.635566          7.422607  \n",
        "std            0.930472          1.262863          1.933600  \n",
        "min            0.000000          0.000000          1.000000  \n",
        "25%            0.000000          0.000000          6.000000  \n",
        "50%            0.000000          0.000000          8.000000  \n",
        "75%            0.000000          1.000000          9.000000  \n",
        "max           76.000000         21.000000         16.000000  "
       ]
      }
     ],
     "prompt_number": 30
    },
    {
     "cell_type": "code",
     "collapsed": false,
     "input": [
      "diabetes['readmitted'].describe()"
     ],
     "language": "python",
     "metadata": {},
     "outputs": [
      {
       "metadata": {},
       "output_type": "pyout",
       "prompt_number": 6,
       "text": [
        "count     101766\n",
        "unique         3\n",
        "top           NO\n",
        "freq       54864\n",
        "Name: readmitted, dtype: object"
       ]
      }
     ],
     "prompt_number": 6
    },
    {
     "cell_type": "code",
     "collapsed": false,
     "input": [
      "diabetes.readmitted.unique()"
     ],
     "language": "python",
     "metadata": {},
     "outputs": [
      {
       "metadata": {},
       "output_type": "pyout",
       "prompt_number": 7,
       "text": [
        "array(['NO', '>30', '<30'], dtype=object)"
       ]
      }
     ],
     "prompt_number": 7
    },
    {
     "cell_type": "code",
     "collapsed": false,
     "input": [
      "diabetes.weight.value_counts()"
     ],
     "language": "python",
     "metadata": {},
     "outputs": [
      {
       "metadata": {},
       "output_type": "pyout",
       "prompt_number": 10,
       "text": [
        "?            98569\n",
        "[75-100)      1336\n",
        "[50-75)        897\n",
        "[100-125)      625\n",
        "[125-150)      145\n",
        "[25-50)         97\n",
        "[0-25)          48\n",
        "[150-175)       35\n",
        "[175-200)       11\n",
        ">200             3\n",
        "dtype: int64"
       ]
      }
     ],
     "prompt_number": 10
    },
    {
     "cell_type": "code",
     "collapsed": false,
     "input": [
      "X = diabetes.drop('weight', axis = 1)"
     ],
     "language": "python",
     "metadata": {},
     "outputs": [],
     "prompt_number": 11
    },
    {
     "cell_type": "code",
     "collapsed": false,
     "input": [
      "diabetes['time_in_hospital'].hist()"
     ],
     "language": "python",
     "metadata": {},
     "outputs": [
      {
       "metadata": {},
       "output_type": "pyout",
       "prompt_number": 33,
       "text": [
        "<matplotlib.axes._subplots.AxesSubplot at 0x10a0e0bd0>"
       ]
      },
      {
       "metadata": {},
       "output_type": "display_data",
       "png": "[encoded data removed]",
       "text": [
        "<matplotlib.figure.Figure at 0x10a15d490>"
       ]
      }
     ],
     "prompt_number": 33
    },
    {
     "cell_type": "code",
     "collapsed": false,
     "input": [
      "diabetes['num_procedures'].hist(bins=7)"
     ],
     "language": "python",
     "metadata": {},
     "outputs": [
      {
       "metadata": {},
       "output_type": "pyout",
       "prompt_number": 34,
       "text": [
        "<matplotlib.axes._subplots.AxesSubplot at 0x10add9150>"
       ]
      },
      {
       "metadata": {},
       "output_type": "display_data",
       "png": "[encoded data removed]",
       "text": [
        "<matplotlib.figure.Figure at 0x10a1be190>"
       ]
      }
     ],
     "prompt_number": 34
    },
    {
     "cell_type": "code",
     "collapsed": false,
     "input": [
      "diabetes['num_medications'].hist()"
     ],
     "language": "python",
     "metadata": {},
     "outputs": [
      {
       "metadata": {},
       "output_type": "pyout",
       "prompt_number": 36,
       "text": [
        "<matplotlib.axes._subplots.AxesSubplot at 0x10b242090>"
       ]
      },
      {
       "metadata": {},
       "output_type": "display_data",
       "png": "[encoded data removed]",
       "text": [
        "<matplotlib.figure.Figure at 0x10b24a050>"
       ]
      }
     ],
     "prompt_number": 36
    },
    {
     "cell_type": "code",
     "collapsed": false,
     "input": [
      "diabetes.gender.value_counts()"
     ],
     "language": "python",
     "metadata": {},
     "outputs": [
      {
       "metadata": {},
       "output_type": "pyout",
       "prompt_number": 16,
       "text": [
        "Female             54708\n",
        "Male               47055\n",
        "Unknown/Invalid        3\n",
        "dtype: int64"
       ]
      }
     ],
     "prompt_number": 16
    },
    {
     "cell_type": "code",
     "collapsed": false,
     "input": [
      "diabetes['race'].value_counts()"
     ],
     "language": "python",
     "metadata": {},
     "outputs": [
      {
       "metadata": {},
       "output_type": "pyout",
       "prompt_number": 28,
       "text": [
        "Caucasian          76099\n",
        "AfricanAmerican    19210\n",
        "?                   2273\n",
        "Hispanic            2037\n",
        "Other               1506\n",
        "Asian                641\n",
        "dtype: int64"
       ]
      }
     ],
     "prompt_number": 28
    },
    {
     "cell_type": "code",
     "collapsed": false,
     "input": [
      "di_gen=diabetes.groupby(diabetes.gender)\n",
      "gen_read=di_gen.readmitted.value_counts()\n",
      "gen_read.unstack()"
     ],
     "language": "python",
     "metadata": {},
     "outputs": [
      {
       "html": [
        "<div style=\"max-height:1000px;max-width:1500px;overflow:auto;\">\n",
        "<table border=\"1\" class=\"dataframe\">\n",
        "  <thead>\n",
        "    <tr style=\"text-align: right;\">\n",
        "      <th></th>\n",
        "      <th>&lt;30</th>\n",
        "      <th>&gt;30</th>\n",
        "      <th>NO</th>\n",
        "    </tr>\n",
        "    <tr>\n",
        "      <th>gender</th>\n",
        "      <th></th>\n",
        "      <th></th>\n",
        "      <th></th>\n",
        "    </tr>\n",
        "  </thead>\n",
        "  <tbody>\n",
        "    <tr>\n",
        "      <th>Female</th>\n",
        "      <td> 6152</td>\n",
        "      <td> 19518</td>\n",
        "      <td> 29038</td>\n",
        "    </tr>\n",
        "    <tr>\n",
        "      <th>Male</th>\n",
        "      <td> 5205</td>\n",
        "      <td> 16027</td>\n",
        "      <td> 25823</td>\n",
        "    </tr>\n",
        "    <tr>\n",
        "      <th>Unknown/Invalid</th>\n",
        "      <td>  NaN</td>\n",
        "      <td>   NaN</td>\n",
        "      <td>     3</td>\n",
        "    </tr>\n",
        "  </tbody>\n",
        "</table>\n",
        "</div>"
       ],
       "metadata": {},
       "output_type": "pyout",
       "prompt_number": 40,
       "text": [
        "                  <30    >30     NO\n",
        "gender                             \n",
        "Female           6152  19518  29038\n",
        "Male             5205  16027  25823\n",
        "Unknown/Invalid   NaN    NaN      3"
       ]
      }
     ],
     "prompt_number": 40
    },
    {
     "cell_type": "code",
     "collapsed": false,
     "input": [
      "gen_read.unstack().plot(kind='bar')"
     ],
     "language": "python",
     "metadata": {},
     "outputs": [
      {
       "metadata": {},
       "output_type": "pyout",
       "prompt_number": 41,
       "text": [
        "<matplotlib.axes._subplots.AxesSubplot at 0x10af52350>"
       ]
      },
      {
       "metadata": {},
       "output_type": "display_data",
       "png": "[encoded data removed]",
       "text": [
        "<matplotlib.figure.Figure at 0x10b4abe90>"
       ]
      }
     ],
     "prompt_number": 41
    },
    {
     "cell_type": "code",
     "collapsed": false,
     "input": [
      "di_race=diabetes.groupby(diabetes.race)\n",
      "race_read=di_race.readmitted.value_counts()\n",
      "race_read"
     ],
     "language": "python",
     "metadata": {},
     "outputs": [
      {
       "metadata": {},
       "output_type": "pyout",
       "prompt_number": 43,
       "text": [
        "race                \n",
        "?                NO      1547\n",
        "                 >30      538\n",
        "                 <30      188\n",
        "AfricanAmerican  NO     10421\n",
        "                 >30     6634\n",
        "                 <30     2155\n",
        "Asian            NO       415\n",
        "                 >30      161\n",
        "                 <30       65\n",
        "Caucasian        NO     40383\n",
        "                 >30    27124\n",
        "                 <30     8592\n",
        "Hispanic         NO      1183\n",
        "                 >30      642\n",
        "                 <30      212\n",
        "Other            NO       915\n",
        "                 >30      446\n",
        "                 <30      145\n",
        "dtype: int64"
       ]
      }
     ],
     "prompt_number": 43
    },
    {
     "cell_type": "code",
     "collapsed": false,
     "input": [
      "race_read.unstack().plot(kind='bar')"
     ],
     "language": "python",
     "metadata": {},
     "outputs": [
      {
       "metadata": {},
       "output_type": "pyout",
       "prompt_number": 45,
       "text": [
        "<matplotlib.axes._subplots.AxesSubplot at 0x10bd571d0>"
       ]
      },
      {
       "metadata": {},
       "output_type": "display_data",
       "png": "[encoded data removed]",
       "text": [
        "<matplotlib.figure.Figure at 0x10bd62f10>"
       ]
      }
     ],
     "prompt_number": 45
    },
    {
     "cell_type": "code",
     "collapsed": false,
     "input": [],
     "language": "python",
     "metadata": {},
     "outputs": []
    }
   ],
   "metadata": {}
  }
 ]
}