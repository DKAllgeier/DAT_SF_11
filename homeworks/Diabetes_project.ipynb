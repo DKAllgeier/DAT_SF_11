{
 "metadata": {
  "name": "",
  "signature": "sha256:fc8e0debb7e561bac39bac9230a8d0804f9e2a69c0e153e007946e3da4e6788c"
 },
 "nbformat": 3,
 "nbformat_minor": 0,
 "worksheets": [
  {
   "cells": [
    {
     "cell_type": "code",
     "collapsed": false,
     "input": [
      "#import needed packages\n",
      "import pandas as pd \n",
      "import numpy as np \n",
      "import matplotlib.pyplot as plt \n",
      "import seaborn as sns\n",
      "\n",
      "from sklearn import preprocessing\n",
      "%matplotlib inline "
     ],
     "language": "python",
     "metadata": {},
     "outputs": [],
     "prompt_number": 1
    },
    {
     "cell_type": "code",
     "collapsed": false,
     "input": [
      "diabetes=pd.read_csv('../../../../Downloads/dataset_diabetes/diabetic_data.csv')"
     ],
     "language": "python",
     "metadata": {},
     "outputs": [],
     "prompt_number": 2
    },
    {
     "cell_type": "code",
     "collapsed": false,
     "input": [
      "#diabetes.head(5)"
     ],
     "language": "python",
     "metadata": {},
     "outputs": [],
     "prompt_number": 3
    },
    {
     "cell_type": "code",
     "collapsed": false,
     "input": [
      "#diabetes.columns.tolist()"
     ],
     "language": "python",
     "metadata": {},
     "outputs": [],
     "prompt_number": 18
    },
    {
     "cell_type": "code",
     "collapsed": false,
     "input": [
      "diabetes.info()"
     ],
     "language": "python",
     "metadata": {},
     "outputs": [
      {
       "output_type": "stream",
       "stream": "stdout",
       "text": [
        "<class 'pandas.core.frame.DataFrame'>\n",
        "Int64Index: 101766 entries, 0 to 101765\n",
        "Data columns (total 50 columns):\n",
        "encounter_id                101766 non-null int64\n",
        "patient_nbr                 101766 non-null int64\n",
        "race                        101766 non-null object\n",
        "gender                      101766 non-null object\n",
        "age                         101766 non-null object\n",
        "weight                      101766 non-null object\n",
        "admission_type_id           101766 non-null int64\n",
        "discharge_disposition_id    101766 non-null int64\n",
        "admission_source_id         101766 non-null int64\n",
        "time_in_hospital            101766 non-null int64\n",
        "payer_code                  101766 non-null object\n",
        "medical_specialty           101766 non-null object\n",
        "num_lab_procedures          101766 non-null int64\n",
        "num_procedures              101766 non-null int64\n",
        "num_medications             101766 non-null int64\n",
        "number_outpatient           101766 non-null int64\n",
        "number_emergency            101766 non-null int64\n",
        "number_inpatient            101766 non-null int64\n",
        "diag_1                      101766 non-null object\n",
        "diag_2                      101766 non-null object\n",
        "diag_3                      101766 non-null object\n",
        "number_diagnoses            101766 non-null int64\n",
        "max_glu_serum               101766 non-null object\n",
        "A1Cresult                   101766 non-null object\n",
        "metformin                   101766 non-null object\n",
        "repaglinide                 101766 non-null object\n",
        "nateglinide                 101766 non-null object\n",
        "chlorpropamide              101766 non-null object\n",
        "glimepiride                 101766 non-null object\n",
        "acetohexamide               101766 non-null object\n",
        "glipizide                   101766 non-null object\n",
        "glyburide                   101766 non-null object\n",
        "tolbutamide                 101766 non-null object\n",
        "pioglitazone                101766 non-null object\n",
        "rosiglitazone               101766 non-null object\n",
        "acarbose                    101766 non-null object\n",
        "miglitol                    101766 non-null object\n",
        "troglitazone                101766 non-null object\n",
        "tolazamide                  101766 non-null object\n",
        "examide                     101766 non-null object\n",
        "citoglipton                 101766 non-null object\n",
        "insulin                     101766 non-null object\n",
        "glyburide-metformin         101766 non-null object\n",
        "glipizide-metformin         101766 non-null object\n",
        "glimepiride-pioglitazone    101766 non-null object\n",
        "metformin-rosiglitazone     101766 non-null object\n",
        "metformin-pioglitazone      101766 non-null object\n",
        "change                      101766 non-null object\n",
        "diabetesMed                 101766 non-null object\n",
        "readmitted                  101766 non-null object\n",
        "dtypes: int64(13), object(37)\n",
        "memory usage: 39.6+ MB\n"
       ]
      }
     ],
     "prompt_number": 4
    },
    {
     "cell_type": "code",
     "collapsed": false,
     "input": [
      "#diabetes.describe()"
     ],
     "language": "python",
     "metadata": {},
     "outputs": [],
     "prompt_number": 5
    },
    {
     "cell_type": "code",
     "collapsed": false,
     "input": [
      "#diabetes['readmitted'].describe()"
     ],
     "language": "python",
     "metadata": {},
     "outputs": [
      {
       "metadata": {},
       "output_type": "pyout",
       "prompt_number": 6,
       "text": [
        "count     101766\n",
        "unique         3\n",
        "top           NO\n",
        "freq       54864\n",
        "Name: readmitted, dtype: object"
       ]
      }
     ],
     "prompt_number": 6
    },
    {
     "cell_type": "code",
     "collapsed": false,
     "input": [
      "#diabetes.readmitted.unique()"
     ],
     "language": "python",
     "metadata": {},
     "outputs": [
      {
       "metadata": {},
       "output_type": "pyout",
       "prompt_number": 7,
       "text": [
        "array(['NO', '>30', '<30'], dtype=object)"
       ]
      }
     ],
     "prompt_number": 7
    },
    {
     "cell_type": "code",
     "collapsed": false,
     "input": [
      "#diabetes.weight.value_counts()"
     ],
     "language": "python",
     "metadata": {},
     "outputs": [],
     "prompt_number": 6
    },
    {
     "cell_type": "code",
     "collapsed": false,
     "input": [
      "X_data = diabetes.drop('readmitted', axis = 1)"
     ],
     "language": "python",
     "metadata": {},
     "outputs": [],
     "prompt_number": 17
    },
    {
     "cell_type": "code",
     "collapsed": false,
     "input": [
      "y=diabetes['readmitted']\n",
      "y"
     ],
     "language": "python",
     "metadata": {},
     "outputs": [
      {
       "metadata": {},
       "output_type": "pyout",
       "prompt_number": 18,
       "text": [
        "0      NO\n",
        "1     >30\n",
        "2      NO\n",
        "3      NO\n",
        "4      NO\n",
        "5     >30\n",
        "6      NO\n",
        "7     >30\n",
        "8      NO\n",
        "9      NO\n",
        "10    >30\n",
        "11    <30\n",
        "12    <30\n",
        "13     NO\n",
        "14    >30\n",
        "...\n",
        "101751     NO\n",
        "101752     NO\n",
        "101753     NO\n",
        "101754    >30\n",
        "101755    >30\n",
        "101756    >30\n",
        "101757     NO\n",
        "101758     NO\n",
        "101759     NO\n",
        "101760    >30\n",
        "101761    >30\n",
        "101762     NO\n",
        "101763     NO\n",
        "101764     NO\n",
        "101765     NO\n",
        "Name: readmitted, Length: 101766, dtype: object"
       ]
      }
     ],
     "prompt_number": 18
    },
    {
     "cell_type": "code",
     "collapsed": false,
     "input": [
      "#diabetes['time_in_hospital'].hist()"
     ],
     "language": "python",
     "metadata": {},
     "outputs": [],
     "prompt_number": 8
    },
    {
     "cell_type": "code",
     "collapsed": false,
     "input": [
      "#diabetes['num_procedures'].hist(bins=7)"
     ],
     "language": "python",
     "metadata": {},
     "outputs": [],
     "prompt_number": 9
    },
    {
     "cell_type": "code",
     "collapsed": false,
     "input": [
      "#diabetes['num_medications'].hist()"
     ],
     "language": "python",
     "metadata": {},
     "outputs": [],
     "prompt_number": 10
    },
    {
     "cell_type": "code",
     "collapsed": false,
     "input": [
      "#diabetes.gender.value_counts()"
     ],
     "language": "python",
     "metadata": {},
     "outputs": [],
     "prompt_number": 11
    },
    {
     "cell_type": "code",
     "collapsed": false,
     "input": [
      "#diabetes['race'].value_counts()"
     ],
     "language": "python",
     "metadata": {},
     "outputs": [],
     "prompt_number": 12
    },
    {
     "cell_type": "code",
     "collapsed": false,
     "input": [
      "di_gen=diabetes.groupby(diabetes.gender)\n",
      "gen_read=di_gen.readmitted.value_counts()\n",
      "gen_read.unstack()"
     ],
     "language": "python",
     "metadata": {},
     "outputs": [
      {
       "html": [
        "<div style=\"max-height:1000px;max-width:1500px;overflow:auto;\">\n",
        "<table border=\"1\" class=\"dataframe\">\n",
        "  <thead>\n",
        "    <tr style=\"text-align: right;\">\n",
        "      <th></th>\n",
        "      <th>&lt;30</th>\n",
        "      <th>&gt;30</th>\n",
        "      <th>NO</th>\n",
        "    </tr>\n",
        "    <tr>\n",
        "      <th>gender</th>\n",
        "      <th></th>\n",
        "      <th></th>\n",
        "      <th></th>\n",
        "    </tr>\n",
        "  </thead>\n",
        "  <tbody>\n",
        "    <tr>\n",
        "      <th>Female</th>\n",
        "      <td> 6152</td>\n",
        "      <td> 19518</td>\n",
        "      <td> 29038</td>\n",
        "    </tr>\n",
        "    <tr>\n",
        "      <th>Male</th>\n",
        "      <td> 5205</td>\n",
        "      <td> 16027</td>\n",
        "      <td> 25823</td>\n",
        "    </tr>\n",
        "    <tr>\n",
        "      <th>Unknown/Invalid</th>\n",
        "      <td>  NaN</td>\n",
        "      <td>   NaN</td>\n",
        "      <td>     3</td>\n",
        "    </tr>\n",
        "  </tbody>\n",
        "</table>\n",
        "</div>"
       ],
       "metadata": {},
       "output_type": "pyout",
       "prompt_number": 40,
       "text": [
        "                  <30    >30     NO\n",
        "gender                             \n",
        "Female           6152  19518  29038\n",
        "Male             5205  16027  25823\n",
        "Unknown/Invalid   NaN    NaN      3"
       ]
      }
     ],
     "prompt_number": 40
    },
    {
     "cell_type": "code",
     "collapsed": false,
     "input": [
      "#gen_read.unstack().plot(kind='bar')"
     ],
     "language": "python",
     "metadata": {},
     "outputs": [],
     "prompt_number": 13
    },
    {
     "cell_type": "code",
     "collapsed": false,
     "input": [
      "di_race=diabetes.groupby(diabetes.race)\n",
      "race_read=di_race.readmitted.value_counts()\n",
      "race_read"
     ],
     "language": "python",
     "metadata": {},
     "outputs": [
      {
       "metadata": {},
       "output_type": "pyout",
       "prompt_number": 43,
       "text": [
        "race                \n",
        "?                NO      1547\n",
        "                 >30      538\n",
        "                 <30      188\n",
        "AfricanAmerican  NO     10421\n",
        "                 >30     6634\n",
        "                 <30     2155\n",
        "Asian            NO       415\n",
        "                 >30      161\n",
        "                 <30       65\n",
        "Caucasian        NO     40383\n",
        "                 >30    27124\n",
        "                 <30     8592\n",
        "Hispanic         NO      1183\n",
        "                 >30      642\n",
        "                 <30      212\n",
        "Other            NO       915\n",
        "                 >30      446\n",
        "                 <30      145\n",
        "dtype: int64"
       ]
      }
     ],
     "prompt_number": 43
    },
    {
     "cell_type": "code",
     "collapsed": false,
     "input": [
      "#race_read.unstack().plot(kind='bar')"
     ],
     "language": "python",
     "metadata": {},
     "outputs": [],
     "prompt_number": 14
    },
    {
     "cell_type": "heading",
     "level": 3,
     "metadata": {},
     "source": [
      "Random Forest"
     ]
    },
    {
     "cell_type": "code",
     "collapsed": false,
     "input": [
      "from sklearn.cross_validation import cross_val_score\n",
      "from sklearn.ensemble import RandomForestClassifier\n",
      "from sklearn.tree import DecisionTreeClassifier\n",
      "from sklearn import preprocessing"
     ],
     "language": "python",
     "metadata": {},
     "outputs": [],
     "prompt_number": 22
    },
    {
     "cell_type": "code",
     "collapsed": false,
     "input": [
      "le=preprocessing.LabelEncoder()"
     ],
     "language": "python",
     "metadata": {},
     "outputs": [],
     "prompt_number": 23
    },
    {
     "cell_type": "code",
     "collapsed": false,
     "input": [
      "#must to column-wise label encoding. Prevents explosion of dimensions that occurs with get_dummies\n",
      "#creating a new dataframe and filling it\n",
      "diab_data = pd.DataFrame()\n",
      "#save label encoders in a dictionary to have complete list. Need to save to run through test data.\n",
      "label_encoders = {}\n",
      "\n",
      "for column in diabetes.columns:\n",
      "    if diabetes[column].dtype == 'object':\n",
      "        #create new label encoders each time so not saving over the same label encoder. Need it for changing the test data.\n",
      "        label_encoders[column] = preprocessing.LabelEncoder()\n",
      "        diab_data[column] = label_encoders[column].fit_transform(diabetes[column])\n",
      "    else:\n",
      "        diab_data[column] = diabetes[column]"
     ],
     "language": "python",
     "metadata": {},
     "outputs": [],
     "prompt_number": 24
    },
    {
     "cell_type": "code",
     "collapsed": false,
     "input": [
      "diab_data.head(5)"
     ],
     "language": "python",
     "metadata": {},
     "outputs": [
      {
       "html": [
        "<div style=\"max-height:1000px;max-width:1500px;overflow:auto;\">\n",
        "<table border=\"1\" class=\"dataframe\">\n",
        "  <thead>\n",
        "    <tr style=\"text-align: right;\">\n",
        "      <th></th>\n",
        "      <th>encounter_id</th>\n",
        "      <th>patient_nbr</th>\n",
        "      <th>race</th>\n",
        "      <th>gender</th>\n",
        "      <th>age</th>\n",
        "      <th>weight</th>\n",
        "      <th>admission_type_id</th>\n",
        "      <th>discharge_disposition_id</th>\n",
        "      <th>admission_source_id</th>\n",
        "      <th>time_in_hospital</th>\n",
        "      <th>...</th>\n",
        "      <th>citoglipton</th>\n",
        "      <th>insulin</th>\n",
        "      <th>glyburide-metformin</th>\n",
        "      <th>glipizide-metformin</th>\n",
        "      <th>glimepiride-pioglitazone</th>\n",
        "      <th>metformin-rosiglitazone</th>\n",
        "      <th>metformin-pioglitazone</th>\n",
        "      <th>change</th>\n",
        "      <th>diabetesMed</th>\n",
        "      <th>readmitted</th>\n",
        "    </tr>\n",
        "  </thead>\n",
        "  <tbody>\n",
        "    <tr>\n",
        "      <th>0</th>\n",
        "      <td> 2278392</td>\n",
        "      <td>  8222157</td>\n",
        "      <td> 3</td>\n",
        "      <td> 0</td>\n",
        "      <td> 0</td>\n",
        "      <td> 1</td>\n",
        "      <td> 6</td>\n",
        "      <td> 25</td>\n",
        "      <td> 1</td>\n",
        "      <td> 1</td>\n",
        "      <td>...</td>\n",
        "      <td> 0</td>\n",
        "      <td> 1</td>\n",
        "      <td> 1</td>\n",
        "      <td> 0</td>\n",
        "      <td> 0</td>\n",
        "      <td> 0</td>\n",
        "      <td> 0</td>\n",
        "      <td> 1</td>\n",
        "      <td> 0</td>\n",
        "      <td> 2</td>\n",
        "    </tr>\n",
        "    <tr>\n",
        "      <th>1</th>\n",
        "      <td>  149190</td>\n",
        "      <td> 55629189</td>\n",
        "      <td> 3</td>\n",
        "      <td> 0</td>\n",
        "      <td> 1</td>\n",
        "      <td> 1</td>\n",
        "      <td> 1</td>\n",
        "      <td>  1</td>\n",
        "      <td> 7</td>\n",
        "      <td> 3</td>\n",
        "      <td>...</td>\n",
        "      <td> 0</td>\n",
        "      <td> 3</td>\n",
        "      <td> 1</td>\n",
        "      <td> 0</td>\n",
        "      <td> 0</td>\n",
        "      <td> 0</td>\n",
        "      <td> 0</td>\n",
        "      <td> 0</td>\n",
        "      <td> 1</td>\n",
        "      <td> 1</td>\n",
        "    </tr>\n",
        "    <tr>\n",
        "      <th>2</th>\n",
        "      <td>   64410</td>\n",
        "      <td> 86047875</td>\n",
        "      <td> 1</td>\n",
        "      <td> 0</td>\n",
        "      <td> 2</td>\n",
        "      <td> 1</td>\n",
        "      <td> 1</td>\n",
        "      <td>  1</td>\n",
        "      <td> 7</td>\n",
        "      <td> 2</td>\n",
        "      <td>...</td>\n",
        "      <td> 0</td>\n",
        "      <td> 1</td>\n",
        "      <td> 1</td>\n",
        "      <td> 0</td>\n",
        "      <td> 0</td>\n",
        "      <td> 0</td>\n",
        "      <td> 0</td>\n",
        "      <td> 1</td>\n",
        "      <td> 1</td>\n",
        "      <td> 2</td>\n",
        "    </tr>\n",
        "    <tr>\n",
        "      <th>3</th>\n",
        "      <td>  500364</td>\n",
        "      <td> 82442376</td>\n",
        "      <td> 3</td>\n",
        "      <td> 1</td>\n",
        "      <td> 3</td>\n",
        "      <td> 1</td>\n",
        "      <td> 1</td>\n",
        "      <td>  1</td>\n",
        "      <td> 7</td>\n",
        "      <td> 2</td>\n",
        "      <td>...</td>\n",
        "      <td> 0</td>\n",
        "      <td> 3</td>\n",
        "      <td> 1</td>\n",
        "      <td> 0</td>\n",
        "      <td> 0</td>\n",
        "      <td> 0</td>\n",
        "      <td> 0</td>\n",
        "      <td> 0</td>\n",
        "      <td> 1</td>\n",
        "      <td> 2</td>\n",
        "    </tr>\n",
        "    <tr>\n",
        "      <th>4</th>\n",
        "      <td>   16680</td>\n",
        "      <td> 42519267</td>\n",
        "      <td> 3</td>\n",
        "      <td> 1</td>\n",
        "      <td> 4</td>\n",
        "      <td> 1</td>\n",
        "      <td> 1</td>\n",
        "      <td>  1</td>\n",
        "      <td> 7</td>\n",
        "      <td> 1</td>\n",
        "      <td>...</td>\n",
        "      <td> 0</td>\n",
        "      <td> 2</td>\n",
        "      <td> 1</td>\n",
        "      <td> 0</td>\n",
        "      <td> 0</td>\n",
        "      <td> 0</td>\n",
        "      <td> 0</td>\n",
        "      <td> 0</td>\n",
        "      <td> 1</td>\n",
        "      <td> 2</td>\n",
        "    </tr>\n",
        "  </tbody>\n",
        "</table>\n",
        "<p>5 rows \u00d7 50 columns</p>\n",
        "</div>"
       ],
       "metadata": {},
       "output_type": "pyout",
       "prompt_number": 25,
       "text": [
        "   encounter_id  patient_nbr  race  gender  age  weight  admission_type_id  \\\n",
        "0       2278392      8222157     3       0    0       1                  6   \n",
        "1        149190     55629189     3       0    1       1                  1   \n",
        "2         64410     86047875     1       0    2       1                  1   \n",
        "3        500364     82442376     3       1    3       1                  1   \n",
        "4         16680     42519267     3       1    4       1                  1   \n",
        "\n",
        "   discharge_disposition_id  admission_source_id  time_in_hospital  \\\n",
        "0                        25                    1                 1   \n",
        "1                         1                    7                 3   \n",
        "2                         1                    7                 2   \n",
        "3                         1                    7                 2   \n",
        "4                         1                    7                 1   \n",
        "\n",
        "      ...      citoglipton  insulin  glyburide-metformin  glipizide-metformin  \\\n",
        "0     ...                0        1                    1                    0   \n",
        "1     ...                0        3                    1                    0   \n",
        "2     ...                0        1                    1                    0   \n",
        "3     ...                0        3                    1                    0   \n",
        "4     ...                0        2                    1                    0   \n",
        "\n",
        "   glimepiride-pioglitazone  metformin-rosiglitazone  metformin-pioglitazone  \\\n",
        "0                         0                        0                       0   \n",
        "1                         0                        0                       0   \n",
        "2                         0                        0                       0   \n",
        "3                         0                        0                       0   \n",
        "4                         0                        0                       0   \n",
        "\n",
        "   change  diabetesMed  readmitted  \n",
        "0       1            0           2  \n",
        "1       0            1           1  \n",
        "2       1            1           2  \n",
        "3       0            1           2  \n",
        "4       0            1           2  \n",
        "\n",
        "[5 rows x 50 columns]"
       ]
      }
     ],
     "prompt_number": 25
    },
    {
     "cell_type": "code",
     "collapsed": false,
     "input": [
      "X_data = diab_data.drop('readmitted', axis = 1)\n",
      "y=diab_data['readmitted']"
     ],
     "language": "python",
     "metadata": {},
     "outputs": [],
     "prompt_number": 27
    },
    {
     "cell_type": "code",
     "collapsed": false,
     "input": [
      "#Split the Data\n",
      "from sklearn.cross_validation import train_test_split\n",
      "\n",
      "X_train, X_test, y_train, y_test = train_test_split(X_data, y, test_size=0.3)\n",
      "print X_train.shape, X_test.shape"
     ],
     "language": "python",
     "metadata": {},
     "outputs": [
      {
       "output_type": "stream",
       "stream": "stdout",
       "text": [
        "(71236, 49) (30530, 49)\n"
       ]
      }
     ],
     "prompt_number": 28
    },
    {
     "cell_type": "code",
     "collapsed": false,
     "input": [
      "rf_model = RandomForestClassifier(n_estimators=100,max_depth=15,criterion='entropy')\n",
      "rf_model.fit(X_train,y_train)"
     ],
     "language": "python",
     "metadata": {},
     "outputs": [
      {
       "metadata": {},
       "output_type": "pyout",
       "prompt_number": 29,
       "text": [
        "RandomForestClassifier(bootstrap=True, compute_importances=None,\n",
        "            criterion='entropy', max_depth=15, max_features='auto',\n",
        "            max_leaf_nodes=None, min_density=None, min_samples_leaf=1,\n",
        "            min_samples_split=2, n_estimators=100, n_jobs=1,\n",
        "            oob_score=False, random_state=None, verbose=0)"
       ]
      }
     ],
     "prompt_number": 29
    },
    {
     "cell_type": "code",
     "collapsed": false,
     "input": [
      "y_pred = rf_model.predict(X_test)"
     ],
     "language": "python",
     "metadata": {},
     "outputs": [],
     "prompt_number": 30
    },
    {
     "cell_type": "code",
     "collapsed": false,
     "input": [
      "from sklearn.metrics import confusion_matrix\n",
      "\n",
      "def plot_confusion_matrix(y_pred, y):\n",
      "    plt.imshow(confusion_matrix(y, y_pred),\n",
      "               cmap=plt.cm.binary, interpolation='nearest')\n",
      "    plt.colorbar()\n",
      "    plt.xlabel('true value')\n",
      "    plt.ylabel('predicted value')"
     ],
     "language": "python",
     "metadata": {},
     "outputs": [],
     "prompt_number": 31
    },
    {
     "cell_type": "code",
     "collapsed": false,
     "input": [
      "plot_confusion_matrix( y_pred,y_test)"
     ],
     "language": "python",
     "metadata": {},
     "outputs": [
      {
       "metadata": {},
       "output_type": "display_data",
       "png": "[encoded data removed]",
       "text": [
        "<matplotlib.figure.Figure at 0x109e94950>"
       ]
      }
     ],
     "prompt_number": 32
    },
    {
     "cell_type": "code",
     "collapsed": false,
     "input": [
      "from sklearn.metrics import classification_report\n",
      "print classification_report(y_test,y_pred)"
     ],
     "language": "python",
     "metadata": {},
     "outputs": [
      {
       "output_type": "stream",
       "stream": "stdout",
       "text": [
        "             precision    recall  f1-score   support\n",
        "\n",
        "          0       0.48      0.01      0.02      3469\n",
        "          1       0.54      0.38      0.45     10648\n",
        "          2       0.62      0.87      0.72     16413\n",
        "\n",
        "avg / total       0.58      0.60      0.55     30530\n",
        "\n"
       ]
      }
     ],
     "prompt_number": 33
    },
    {
     "cell_type": "code",
     "collapsed": false,
     "input": [
      "#plot learning curve\n",
      "%matplotlib inline\n",
      "import numpy as np\n",
      "import matplotlib.pyplot as plt\n",
      "from sklearn.learning_curve import learning_curve\n",
      "\n",
      "def plot_learning_curve(estimator, title, X, y, ylim=None, cv=None,\n",
      "                        n_jobs=1, train_sizes=np.linspace(.1, 1.0, 5)):\n",
      "\n",
      "    plt.figure()\n",
      "    plt.title(title)\n",
      "    if ylim is not None:\n",
      "        plt.ylim(*ylim)\n",
      "    plt.xlabel(\"Training examples\")\n",
      "    plt.ylabel(\"Score\")\n",
      "    train_sizes, train_scores, test_scores = learning_curve(\n",
      "        estimator, X, y, cv=cv, n_jobs=n_jobs, train_sizes=train_sizes)\n",
      "    train_scores_mean = np.mean(train_scores, axis=1)\n",
      "    train_scores_std = np.std(train_scores, axis=1)\n",
      "    test_scores_mean = np.mean(test_scores, axis=1)\n",
      "    test_scores_std = np.std(test_scores, axis=1)\n",
      "    plt.grid()\n",
      "\n",
      "    plt.fill_between(train_sizes, train_scores_mean - train_scores_std,\n",
      "                     train_scores_mean + train_scores_std, alpha=0.1,\n",
      "                     color=\"r\")\n",
      "    plt.fill_between(train_sizes, test_scores_mean - test_scores_std,\n",
      "                     test_scores_mean + test_scores_std, alpha=0.1, color=\"g\")\n",
      "    plt.plot(train_sizes, train_scores_mean, 'o-', color=\"r\",\n",
      "             label=\"Training score\")\n",
      "    plt.plot(train_sizes, test_scores_mean, 'o-', color=\"g\",\n",
      "             label=\"Cross-validation score\")\n",
      "\n",
      "    plt.legend(loc=\"best\")\n",
      "    return plt"
     ],
     "language": "python",
     "metadata": {},
     "outputs": [],
     "prompt_number": 34
    },
    {
     "cell_type": "code",
     "collapsed": false,
     "input": [
      "_ = plot_learning_curve(RandomForestClassifier(n_estimators=50),'test',X_train,y_train)"
     ],
     "language": "python",
     "metadata": {},
     "outputs": [
      {
       "metadata": {},
       "output_type": "display_data",
       "png": "[encoded data removed]",
       "text": [
        "<matplotlib.figure.Figure at 0x11813af10>"
       ]
      }
     ],
     "prompt_number": 35
    },
    {
     "cell_type": "code",
     "collapsed": false,
     "input": [
      "rf_model.fit(X_train,y_train)\n",
      "sorted(zip(rf_model.feature_importances_, X_data.columns.values), reverse=True)"
     ],
     "language": "python",
     "metadata": {},
     "outputs": [
      {
       "metadata": {},
       "output_type": "pyout",
       "prompt_number": 36,
       "text": [
        "[(0.094528252334951365, 'patient_nbr'),\n",
        " (0.094525077384126438, 'encounter_id'),\n",
        " (0.090527099304768419, 'number_inpatient'),\n",
        " (0.058063113908530743, 'diag_1'),\n",
        " (0.055695378283263527, 'num_lab_procedures'),\n",
        " (0.054093076491026855, 'diag_2'),\n",
        " (0.053039161885764664, 'discharge_disposition_id'),\n",
        " (0.052782978356665906, 'diag_3'),\n",
        " (0.052358873884920179, 'num_medications'),\n",
        " (0.03573631711732865, 'time_in_hospital'),\n",
        " (0.034790210287380392, 'age'),\n",
        " (0.031094852135848443, 'number_diagnoses'),\n",
        " (0.03057576732258676, 'medical_specialty'),\n",
        " (0.025537726447873978, 'num_procedures'),\n",
        " (0.025144521110575954, 'number_emergency'),\n",
        " (0.025111982026723448, 'payer_code'),\n",
        " (0.020263476785967585, 'number_outpatient'),\n",
        " (0.018893108529145004, 'admission_source_id'),\n",
        " (0.018749551714847296, 'admission_type_id'),\n",
        " (0.01821692508081264, 'insulin'),\n",
        " (0.014727836887896409, 'race'),\n",
        " (0.011634041695751218, 'A1Cresult'),\n",
        " (0.010853295287402073, 'gender'),\n",
        " (0.0095297973084616776, 'metformin'),\n",
        " (0.0088270716625656782, 'diabetesMed'),\n",
        " (0.0083372671611561915, 'change'),\n",
        " (0.0081225015940687428, 'glipizide'),\n",
        " (0.0069370316608669772, 'glyburide'),\n",
        " (0.0062271499568001586, 'weight'),\n",
        " (0.0057213887085854741, 'pioglitazone'),\n",
        " (0.0054926560153513741, 'max_glu_serum'),\n",
        " (0.0046803882052283254, 'rosiglitazone'),\n",
        " (0.0043178539501227018, 'glimepiride'),\n",
        " (0.0020282424913507543, 'repaglinide'),\n",
        " (0.0011059376648547422, 'nateglinide'),\n",
        " (0.00093329224937118652, 'glyburide-metformin'),\n",
        " (0.00046147952996717734, 'acarbose'),\n",
        " (0.00013826600577736972, 'chlorpropamide'),\n",
        " (7.6966348208436756e-05, 'tolazamide'),\n",
        " (5.9210400580328047e-05, 'miglitol'),\n",
        " (3.2127320820035352e-05, 'tolbutamide'),\n",
        " (2.5239593513152789e-05, 'glipizide-metformin'),\n",
        " (3.159764434239943e-06, 'acetohexamide'),\n",
        " (3.4814375735655795e-07, 'metformin-rosiglitazone'),\n",
        " (0.0, 'troglitazone'),\n",
        " (0.0, 'metformin-pioglitazone'),\n",
        " (0.0, 'glimepiride-pioglitazone'),\n",
        " (0.0, 'examide'),\n",
        " (0.0, 'citoglipton')]"
       ]
      }
     ],
     "prompt_number": 36
    },
    {
     "cell_type": "code",
     "collapsed": false,
     "input": [],
     "language": "python",
     "metadata": {},
     "outputs": []
    }
   ],
   "metadata": {}
  }
 ]
}