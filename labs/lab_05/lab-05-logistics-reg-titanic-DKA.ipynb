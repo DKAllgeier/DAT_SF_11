{
 "metadata": {
  "name": "",
  "signature": "sha256:bc9aede253c5c04e09eabfd4fd7dee260fa5130fafd45f97e91da8de7be4bade"
 },
 "nbformat": 3,
 "nbformat_minor": 0,
 "worksheets": [
  {
   "cells": [
    {
     "cell_type": "code",
     "collapsed": false,
     "input": [
      "# Standard imports for data analysis packages in Python\n",
      "import pandas as pd\n",
      "import numpy as np\n",
      "import seaborn as sns\n",
      "import matplotlib.pyplot as plt\n",
      "\n",
      "# This enables inline Plots\n",
      "%matplotlib inline\n",
      "\n",
      "# Limit rows displayed in notebook\n",
      "pd.set_option('display.max_rows', 10)\n",
      "pd.set_option('display.precision', 2)"
     ],
     "language": "python",
     "metadata": {},
     "outputs": [],
     "prompt_number": 1
    },
    {
     "cell_type": "markdown",
     "metadata": {},
     "source": [
      "## Numpy Review"
     ]
    },
    {
     "cell_type": "markdown",
     "metadata": {},
     "source": [
      "### Create Numpy Arrays - \n",
      "\n",
      "* For a range of values - arange (np.arange)\n",
      "* Zeros Array (np.zeros)\n",
      "* Ones Array (np.ones)\n",
      "* Empty Array (np.empty)\n",
      "* Identity Array (with zeros all across except Diagonal) (np.eyes) \n",
      "* Linear Spacing within a Begin and End (np.linspace)\n",
      "* Random Sampling from Distributions\n",
      "* Many more, but these three are most common"
     ]
    },
    {
     "cell_type": "code",
     "collapsed": false,
     "input": [
      "# Creating an array of length 20\n",
      "np.arange(20)\n",
      "#like a python list, but you can run numpy procedures on it"
     ],
     "language": "python",
     "metadata": {},
     "outputs": [
      {
       "metadata": {},
       "output_type": "pyout",
       "prompt_number": 2,
       "text": [
        "array([ 0,  1,  2,  3,  4,  5,  6,  7,  8,  9, 10, 11, 12, 13, 14, 15, 16,\n",
        "       17, 18, 19])"
       ]
      }
     ],
     "prompt_number": 2
    },
    {
     "cell_type": "code",
     "collapsed": false,
     "input": [
      "np.arange(20, dtype=np.float)"
     ],
     "language": "python",
     "metadata": {},
     "outputs": [
      {
       "metadata": {},
       "output_type": "pyout",
       "prompt_number": 3,
       "text": [
        "array([  0.,   1.,   2.,   3.,   4.,   5.,   6.,   7.,   8.,   9.,  10.,\n",
        "        11.,  12.,  13.,  14.,  15.,  16.,  17.,  18.,  19.])"
       ]
      }
     ],
     "prompt_number": 3
    },
    {
     "cell_type": "code",
     "collapsed": false,
     "input": [
      "# Create an Array of Ones or Zeros\n",
      "np.zeros(10)\n",
      "# Your Turn (np.zeros)"
     ],
     "language": "python",
     "metadata": {},
     "outputs": [
      {
       "metadata": {},
       "output_type": "pyout",
       "prompt_number": 4,
       "text": [
        "array([ 0.,  0.,  0.,  0.,  0.,  0.,  0.,  0.,  0.,  0.])"
       ]
      }
     ],
     "prompt_number": 4
    },
    {
     "cell_type": "code",
     "collapsed": false,
     "input": [
      "# An Array of Ones\n",
      "# Your Turn (np.ones)\n",
      "np.ones(10)"
     ],
     "language": "python",
     "metadata": {},
     "outputs": [
      {
       "metadata": {},
       "output_type": "pyout",
       "prompt_number": 5,
       "text": [
        "array([ 1.,  1.,  1.,  1.,  1.,  1.,  1.,  1.,  1.,  1.])"
       ]
      }
     ],
     "prompt_number": 5
    },
    {
     "cell_type": "code",
     "collapsed": false,
     "input": [
      "# Identity Arrays/Identity Matrix\n",
      "np.eye(4, 4)"
     ],
     "language": "python",
     "metadata": {},
     "outputs": [
      {
       "metadata": {},
       "output_type": "pyout",
       "prompt_number": 6,
       "text": [
        "array([[ 1.,  0.,  0.,  0.],\n",
        "       [ 0.,  1.,  0.,  0.],\n",
        "       [ 0.,  0.,  1.,  0.],\n",
        "       [ 0.,  0.,  0.,  1.]])"
       ]
      }
     ],
     "prompt_number": 6
    },
    {
     "cell_type": "code",
     "collapsed": false,
     "input": [
      "# Create a Numpy Array of 10 Elements linearly spaced between 0 - 1\n",
      "# np.linspace\n",
      "np.linspace(0,1,10)"
     ],
     "language": "python",
     "metadata": {},
     "outputs": [
      {
       "metadata": {},
       "output_type": "pyout",
       "prompt_number": 7,
       "text": [
        "array([ 0.        ,  0.11111111,  0.22222222,  0.33333333,  0.44444444,\n",
        "        0.55555556,  0.66666667,  0.77777778,  0.88888889,  1.        ])"
       ]
      }
     ],
     "prompt_number": 7
    },
    {
     "cell_type": "code",
     "collapsed": false,
     "input": [
      "pd.DataFrame.sort??\n",
      "#double question mark gives the code for the function"
     ],
     "language": "python",
     "metadata": {},
     "outputs": [],
     "prompt_number": 8
    },
    {
     "cell_type": "code",
     "collapsed": false,
     "input": [
      "###Help functions\n",
      "#to get a dropdown list of functions press tab\n",
      "help(np.ones)\n",
      "np.ones?"
     ],
     "language": "python",
     "metadata": {},
     "outputs": [
      {
       "output_type": "stream",
       "stream": "stdout",
       "text": [
        "Help on function ones in module numpy.core.numeric:\n",
        "\n",
        "ones(shape, dtype=None, order='C')\n",
        "    Return a new array of given shape and type, filled with ones.\n",
        "    \n",
        "    Parameters\n",
        "    ----------\n",
        "    shape : int or sequence of ints\n",
        "        Shape of the new array, e.g., ``(2, 3)`` or ``2``.\n",
        "    dtype : data-type, optional\n",
        "        The desired data-type for the array, e.g., `numpy.int8`.  Default is\n",
        "        `numpy.float64`.\n",
        "    order : {'C', 'F'}, optional\n",
        "        Whether to store multidimensional data in C- or Fortran-contiguous\n",
        "        (row- or column-wise) order in memory.\n",
        "    \n",
        "    Returns\n",
        "    -------\n",
        "    out : ndarray\n",
        "        Array of ones with the given shape, dtype, and order.\n",
        "    \n",
        "    See Also\n",
        "    --------\n",
        "    zeros, ones_like\n",
        "    \n",
        "    Examples\n",
        "    --------\n",
        "    >>> np.ones(5)\n",
        "    array([ 1.,  1.,  1.,  1.,  1.])\n",
        "    \n",
        "    >>> np.ones((5,), dtype=np.int)\n",
        "    array([1, 1, 1, 1, 1])\n",
        "    \n",
        "    >>> np.ones((2, 1))\n",
        "    array([[ 1.],\n",
        "           [ 1.]])\n",
        "    \n",
        "    >>> s = (2,2)\n",
        "    >>> np.ones(s)\n",
        "    array([[ 1.,  1.],\n",
        "           [ 1.,  1.]])\n",
        "\n"
       ]
      }
     ],
     "prompt_number": 9
    },
    {
     "cell_type": "code",
     "collapsed": false,
     "input": [
      "# Create a Numpy Array of 10 Elements picked from Standard Normal Distribution\n",
      "# np.random.randn\n",
      "#gives mean zero and standard distribution of 1\n",
      "np.random.randn(10)"
     ],
     "language": "python",
     "metadata": {},
     "outputs": [
      {
       "metadata": {},
       "output_type": "pyout",
       "prompt_number": 10,
       "text": [
        "array([-0.64844961,  1.17077749,  1.10803552,  0.7190066 , -0.04176144,\n",
        "       -0.29145903,  0.46848345, -0.26257599,  1.02138764, -1.12585457])"
       ]
      }
     ],
     "prompt_number": 10
    },
    {
     "cell_type": "code",
     "collapsed": false,
     "input": [
      "# Create a Numpy Array of 10 Elements picked from Normal Distribution with Mean 10 and Standard Dev of 2\n",
      "np.random.normal(10,2,10)\n",
      "#(mean, std dev, number of elements)"
     ],
     "language": "python",
     "metadata": {},
     "outputs": [
      {
       "metadata": {},
       "output_type": "pyout",
       "prompt_number": 11,
       "text": [
        "array([ 12.3887467 ,   9.80184142,   8.69499934,   8.72924581,\n",
        "         9.23878174,   7.56562401,  10.53572557,   9.14024913,\n",
        "        11.00335693,  11.42837291])"
       ]
      }
     ],
     "prompt_number": 11
    },
    {
     "cell_type": "markdown",
     "metadata": {},
     "source": [
      "### Array Re-Shaping"
     ]
    },
    {
     "cell_type": "code",
     "collapsed": false,
     "input": [
      "# We can reshape the 1-D Array into 4 rows and 5 Cols\n",
      "x = np.arange(20)\n",
      "print x"
     ],
     "language": "python",
     "metadata": {},
     "outputs": [
      {
       "output_type": "stream",
       "stream": "stdout",
       "text": [
        "[ 0  1  2  3  4  5  6  7  8  9 10 11 12 13 14 15 16 17 18 19]\n"
       ]
      }
     ],
     "prompt_number": 12
    },
    {
     "cell_type": "code",
     "collapsed": false,
     "input": [
      "x = x.reshape(4, 5)\n",
      "x"
     ],
     "language": "python",
     "metadata": {},
     "outputs": [
      {
       "metadata": {},
       "output_type": "pyout",
       "prompt_number": 13,
       "text": [
        "array([[ 0,  1,  2,  3,  4],\n",
        "       [ 5,  6,  7,  8,  9],\n",
        "       [10, 11, 12, 13, 14],\n",
        "       [15, 16, 17, 18, 19]])"
       ]
      }
     ],
     "prompt_number": 13
    },
    {
     "cell_type": "code",
     "collapsed": false,
     "input": [
      "# We can do a Transpose of the array\n",
      "x.T"
     ],
     "language": "python",
     "metadata": {},
     "outputs": [
      {
       "metadata": {},
       "output_type": "pyout",
       "prompt_number": 14,
       "text": [
        "array([[ 0,  5, 10, 15],\n",
        "       [ 1,  6, 11, 16],\n",
        "       [ 2,  7, 12, 17],\n",
        "       [ 3,  8, 13, 18],\n",
        "       [ 4,  9, 14, 19]])"
       ]
      }
     ],
     "prompt_number": 14
    },
    {
     "cell_type": "code",
     "collapsed": false,
     "input": [
      "# We can also reshape the array and only give one dimension.\n",
      "# For Example, we can say, I want 5 Rows, but don't know how many columsn this resolves to\n",
      "\n",
      "# Notice the -1 in the columns\n",
      "x.reshape(5, -1)"
     ],
     "language": "python",
     "metadata": {},
     "outputs": [
      {
       "metadata": {},
       "output_type": "pyout",
       "prompt_number": 15,
       "text": [
        "array([[ 0,  1,  2,  3],\n",
        "       [ 4,  5,  6,  7],\n",
        "       [ 8,  9, 10, 11],\n",
        "       [12, 13, 14, 15],\n",
        "       [16, 17, 18, 19]])"
       ]
      }
     ],
     "prompt_number": 15
    },
    {
     "cell_type": "code",
     "collapsed": false,
     "input": [
      "# Your Turn\n",
      "### Create a Numpy Array of 50 Elements and reshape it to 5 rows with 10 Elements Each\n",
      "y=np.arange(50)\n",
      "y.reshape(5,10)"
     ],
     "language": "python",
     "metadata": {},
     "outputs": [
      {
       "metadata": {},
       "output_type": "pyout",
       "prompt_number": 16,
       "text": [
        "array([[ 0,  1,  2,  3,  4,  5,  6,  7,  8,  9],\n",
        "       [10, 11, 12, 13, 14, 15, 16, 17, 18, 19],\n",
        "       [20, 21, 22, 23, 24, 25, 26, 27, 28, 29],\n",
        "       [30, 31, 32, 33, 34, 35, 36, 37, 38, 39],\n",
        "       [40, 41, 42, 43, 44, 45, 46, 47, 48, 49]])"
       ]
      }
     ],
     "prompt_number": 16
    },
    {
     "cell_type": "markdown",
     "metadata": {},
     "source": [
      "### Array Slicing"
     ]
    },
    {
     "cell_type": "code",
     "collapsed": false,
     "input": [
      "x"
     ],
     "language": "python",
     "metadata": {},
     "outputs": [
      {
       "metadata": {},
       "output_type": "pyout",
       "prompt_number": 17,
       "text": [
        "array([[ 0,  1,  2,  3,  4],\n",
        "       [ 5,  6,  7,  8,  9],\n",
        "       [10, 11, 12, 13, 14],\n",
        "       [15, 16, 17, 18, 19]])"
       ]
      }
     ],
     "prompt_number": 17
    },
    {
     "cell_type": "code",
     "collapsed": false,
     "input": [
      "# Let's work on Slicing the maarray\n",
      "# Slice row 2\n",
      "x[2]"
     ],
     "language": "python",
     "metadata": {},
     "outputs": [
      {
       "metadata": {},
       "output_type": "pyout",
       "prompt_number": 18,
       "text": [
        "array([10, 11, 12, 13, 14])"
       ]
      }
     ],
     "prompt_number": 18
    },
    {
     "cell_type": "code",
     "collapsed": false,
     "input": [
      "x[2,]"
     ],
     "language": "python",
     "metadata": {},
     "outputs": [
      {
       "metadata": {},
       "output_type": "pyout",
       "prompt_number": 19,
       "text": [
        "array([10, 11, 12, 13, 14])"
       ]
      }
     ],
     "prompt_number": 19
    },
    {
     "cell_type": "code",
     "collapsed": false,
     "input": [
      "x[2,:]"
     ],
     "language": "python",
     "metadata": {},
     "outputs": [
      {
       "metadata": {},
       "output_type": "pyout",
       "prompt_number": 20,
       "text": [
        "array([10, 11, 12, 13, 14])"
       ]
      }
     ],
     "prompt_number": 20
    },
    {
     "cell_type": "code",
     "collapsed": false,
     "input": [
      "# now, row 2 and columns 2 & 3\n",
      "x[2, 2:4]"
     ],
     "language": "python",
     "metadata": {},
     "outputs": [
      {
       "metadata": {},
       "output_type": "pyout",
       "prompt_number": 21,
       "text": [
        "array([12, 13])"
       ]
      }
     ],
     "prompt_number": 21
    },
    {
     "cell_type": "code",
     "collapsed": false,
     "input": [
      "# Row 2&3, columns 2&3 \n",
      "x[2:4, 2:4]\n",
      "#exclusive on upper bound"
     ],
     "language": "python",
     "metadata": {},
     "outputs": [
      {
       "metadata": {},
       "output_type": "pyout",
       "prompt_number": 22,
       "text": [
        "array([[12, 13],\n",
        "       [17, 18]])"
       ]
      }
     ],
     "prompt_number": 22
    },
    {
     "cell_type": "markdown",
     "metadata": {},
     "source": [
      "### Array Filtering"
     ]
    },
    {
     "cell_type": "code",
     "collapsed": false,
     "input": [
      "x"
     ],
     "language": "python",
     "metadata": {},
     "outputs": [
      {
       "metadata": {},
       "output_type": "pyout",
       "prompt_number": 23,
       "text": [
        "array([[ 0,  1,  2,  3,  4],\n",
        "       [ 5,  6,  7,  8,  9],\n",
        "       [10, 11, 12, 13, 14],\n",
        "       [15, 16, 17, 18, 19]])"
       ]
      }
     ],
     "prompt_number": 23
    },
    {
     "cell_type": "code",
     "collapsed": false,
     "input": [
      "# Let's review Filtering, what will happend if I do this -\n",
      "x > 7"
     ],
     "language": "python",
     "metadata": {},
     "outputs": [
      {
       "metadata": {},
       "output_type": "pyout",
       "prompt_number": 24,
       "text": [
        "array([[False, False, False, False, False],\n",
        "       [False, False, False,  True,  True],\n",
        "       [ True,  True,  True,  True,  True],\n",
        "       [ True,  True,  True,  True,  True]], dtype=bool)"
       ]
      }
     ],
     "prompt_number": 24
    },
    {
     "cell_type": "code",
     "collapsed": false,
     "input": [
      "# Applying the Filter to the numpy array\n",
      "x[x > 7]"
     ],
     "language": "python",
     "metadata": {},
     "outputs": [
      {
       "metadata": {},
       "output_type": "pyout",
       "prompt_number": 25,
       "text": [
        "array([ 8,  9, 10, 11, 12, 13, 14, 15, 16, 17, 18, 19])"
       ]
      }
     ],
     "prompt_number": 25
    },
    {
     "cell_type": "code",
     "collapsed": false,
     "input": [
      "# Your Turn\n",
      "# Can you slice and get only the Odd Numbers?\n",
      "x[x%2==1]"
     ],
     "language": "python",
     "metadata": {},
     "outputs": [
      {
       "metadata": {},
       "output_type": "pyout",
       "prompt_number": 26,
       "text": [
        "array([ 1,  3,  5,  7,  9, 11, 13, 15, 17, 19])"
       ]
      }
     ],
     "prompt_number": 26
    },
    {
     "cell_type": "markdown",
     "metadata": {},
     "source": [
      "### Linear Algebra using Numpy"
     ]
    },
    {
     "cell_type": "code",
     "collapsed": false,
     "input": [
      "### np.linalg module\n",
      "np.linalg.\n",
      "#tab for functions drop down"
     ],
     "language": "python",
     "metadata": {},
     "outputs": [
      {
       "ename": "SyntaxError",
       "evalue": "invalid syntax (<ipython-input-27-54ffa7e6dee8>, line 2)",
       "output_type": "pyerr",
       "traceback": [
        "\u001b[0;36m  File \u001b[0;32m\"<ipython-input-27-54ffa7e6dee8>\"\u001b[0;36m, line \u001b[0;32m2\u001b[0m\n\u001b[0;31m    np.linalg.\u001b[0m\n\u001b[0m              ^\u001b[0m\n\u001b[0;31mSyntaxError\u001b[0m\u001b[0;31m:\u001b[0m invalid syntax\n"
       ]
      }
     ],
     "prompt_number": 27
    },
    {
     "cell_type": "markdown",
     "metadata": {},
     "source": [
      "### Titanic Dataset - Kaggle Training Data\n",
      "\n",
      "Today, we are going to Predict Whether a Passenger will Survive or not, given other attributes"
     ]
    },
    {
     "cell_type": "code",
     "collapsed": false,
     "input": [
      "# Let's explore Titanic Dataset - Read in the Train Dataset\n",
      "titanic = pd.read_csv('../data/kaggle-titanic/train.csv')"
     ],
     "language": "python",
     "metadata": {},
     "outputs": [],
     "prompt_number": 28
    },
    {
     "cell_type": "code",
     "collapsed": false,
     "input": [
      "titanic.head(5)"
     ],
     "language": "python",
     "metadata": {},
     "outputs": [
      {
       "html": [
        "<div style=\"max-height:1000px;max-width:1500px;overflow:auto;\">\n",
        "<table border=\"1\" class=\"dataframe\">\n",
        "  <thead>\n",
        "    <tr style=\"text-align: right;\">\n",
        "      <th></th>\n",
        "      <th>PassengerId</th>\n",
        "      <th>Survived</th>\n",
        "      <th>Pclass</th>\n",
        "      <th>Name</th>\n",
        "      <th>Sex</th>\n",
        "      <th>Age</th>\n",
        "      <th>SibSp</th>\n",
        "      <th>Parch</th>\n",
        "      <th>Ticket</th>\n",
        "      <th>Fare</th>\n",
        "      <th>Cabin</th>\n",
        "      <th>Embarked</th>\n",
        "    </tr>\n",
        "  </thead>\n",
        "  <tbody>\n",
        "    <tr>\n",
        "      <th>0</th>\n",
        "      <td> 1</td>\n",
        "      <td> 0</td>\n",
        "      <td> 3</td>\n",
        "      <td>                           Braund, Mr. Owen Harris</td>\n",
        "      <td>   male</td>\n",
        "      <td> 22</td>\n",
        "      <td> 1</td>\n",
        "      <td> 0</td>\n",
        "      <td>        A/5 21171</td>\n",
        "      <td>  7.2</td>\n",
        "      <td>  NaN</td>\n",
        "      <td> S</td>\n",
        "    </tr>\n",
        "    <tr>\n",
        "      <th>1</th>\n",
        "      <td> 2</td>\n",
        "      <td> 1</td>\n",
        "      <td> 1</td>\n",
        "      <td> Cumings, Mrs. John Bradley (Florence Briggs Th...</td>\n",
        "      <td> female</td>\n",
        "      <td> 38</td>\n",
        "      <td> 1</td>\n",
        "      <td> 0</td>\n",
        "      <td>         PC 17599</td>\n",
        "      <td> 71.3</td>\n",
        "      <td>  C85</td>\n",
        "      <td> C</td>\n",
        "    </tr>\n",
        "    <tr>\n",
        "      <th>2</th>\n",
        "      <td> 3</td>\n",
        "      <td> 1</td>\n",
        "      <td> 3</td>\n",
        "      <td>                            Heikkinen, Miss. Laina</td>\n",
        "      <td> female</td>\n",
        "      <td> 26</td>\n",
        "      <td> 0</td>\n",
        "      <td> 0</td>\n",
        "      <td> STON/O2. 3101282</td>\n",
        "      <td>  7.9</td>\n",
        "      <td>  NaN</td>\n",
        "      <td> S</td>\n",
        "    </tr>\n",
        "    <tr>\n",
        "      <th>3</th>\n",
        "      <td> 4</td>\n",
        "      <td> 1</td>\n",
        "      <td> 1</td>\n",
        "      <td>      Futrelle, Mrs. Jacques Heath (Lily May Peel)</td>\n",
        "      <td> female</td>\n",
        "      <td> 35</td>\n",
        "      <td> 1</td>\n",
        "      <td> 0</td>\n",
        "      <td>           113803</td>\n",
        "      <td> 53.1</td>\n",
        "      <td> C123</td>\n",
        "      <td> S</td>\n",
        "    </tr>\n",
        "    <tr>\n",
        "      <th>4</th>\n",
        "      <td> 5</td>\n",
        "      <td> 0</td>\n",
        "      <td> 3</td>\n",
        "      <td>                          Allen, Mr. William Henry</td>\n",
        "      <td>   male</td>\n",
        "      <td> 35</td>\n",
        "      <td> 0</td>\n",
        "      <td> 0</td>\n",
        "      <td>           373450</td>\n",
        "      <td>  8.1</td>\n",
        "      <td>  NaN</td>\n",
        "      <td> S</td>\n",
        "    </tr>\n",
        "  </tbody>\n",
        "</table>\n",
        "</div>"
       ],
       "metadata": {},
       "output_type": "pyout",
       "prompt_number": 29,
       "text": [
        "   PassengerId  Survived  Pclass  \\\n",
        "0            1         0       3   \n",
        "1            2         1       1   \n",
        "2            3         1       3   \n",
        "3            4         1       1   \n",
        "4            5         0       3   \n",
        "\n",
        "                                                Name     Sex  Age  SibSp  \\\n",
        "0                            Braund, Mr. Owen Harris    male   22      1   \n",
        "1  Cumings, Mrs. John Bradley (Florence Briggs Th...  female   38      1   \n",
        "2                             Heikkinen, Miss. Laina  female   26      0   \n",
        "3       Futrelle, Mrs. Jacques Heath (Lily May Peel)  female   35      1   \n",
        "4                           Allen, Mr. William Henry    male   35      0   \n",
        "\n",
        "   Parch            Ticket  Fare Cabin Embarked  \n",
        "0      0         A/5 21171   7.2   NaN        S  \n",
        "1      0          PC 17599  71.3   C85        C  \n",
        "2      0  STON/O2. 3101282   7.9   NaN        S  \n",
        "3      0            113803  53.1  C123        S  \n",
        "4      0            373450   8.1   NaN        S  "
       ]
      }
     ],
     "prompt_number": 29
    },
    {
     "cell_type": "code",
     "collapsed": false,
     "input": [
      "titanic.info()"
     ],
     "language": "python",
     "metadata": {},
     "outputs": [
      {
       "output_type": "stream",
       "stream": "stdout",
       "text": [
        "<class 'pandas.core.frame.DataFrame'>\n",
        "Int64Index: 891 entries, 0 to 890\n",
        "Data columns (total 12 columns):\n",
        "PassengerId    891 non-null int64\n",
        "Survived       891 non-null int64\n",
        "Pclass         891 non-null int64\n",
        "Name           891 non-null object\n",
        "Sex            891 non-null object\n",
        "Age            714 non-null float64\n",
        "SibSp          891 non-null int64\n",
        "Parch          891 non-null int64\n",
        "Ticket         891 non-null object\n",
        "Fare           891 non-null float64\n",
        "Cabin          204 non-null object\n",
        "Embarked       889 non-null object\n",
        "dtypes: float64(2), int64(5), object(5)\n",
        "memory usage: 90.5+ KB\n"
       ]
      }
     ],
     "prompt_number": 30
    },
    {
     "cell_type": "markdown",
     "metadata": {},
     "source": [
      "## Identify Features we want in our Model\n",
      "\n",
      "* Pclass\n",
      "* Sex\n",
      "* Age\n",
      "* Sibling Count"
     ]
    },
    {
     "cell_type": "markdown",
     "metadata": {},
     "source": [
      "### Pclass - Significant?"
     ]
    },
    {
     "cell_type": "code",
     "collapsed": false,
     "input": [
      "survived_by_class = titanic.groupby('Pclass').Survived.agg(['sum', 'count'])\n",
      "survived_by_class['survival_rate'] = survived_by_class['sum'] / survived_by_class['count']\n",
      "survived_by_class"
     ],
     "language": "python",
     "metadata": {},
     "outputs": [
      {
       "html": [
        "<div style=\"max-height:1000px;max-width:1500px;overflow:auto;\">\n",
        "<table border=\"1\" class=\"dataframe\">\n",
        "  <thead>\n",
        "    <tr style=\"text-align: right;\">\n",
        "      <th></th>\n",
        "      <th>sum</th>\n",
        "      <th>count</th>\n",
        "      <th>survival_rate</th>\n",
        "    </tr>\n",
        "    <tr>\n",
        "      <th>Pclass</th>\n",
        "      <th></th>\n",
        "      <th></th>\n",
        "      <th></th>\n",
        "    </tr>\n",
        "  </thead>\n",
        "  <tbody>\n",
        "    <tr>\n",
        "      <th>1</th>\n",
        "      <td> 136</td>\n",
        "      <td> 216</td>\n",
        "      <td> 0.6</td>\n",
        "    </tr>\n",
        "    <tr>\n",
        "      <th>2</th>\n",
        "      <td>  87</td>\n",
        "      <td> 184</td>\n",
        "      <td> 0.5</td>\n",
        "    </tr>\n",
        "    <tr>\n",
        "      <th>3</th>\n",
        "      <td> 119</td>\n",
        "      <td> 491</td>\n",
        "      <td> 0.2</td>\n",
        "    </tr>\n",
        "  </tbody>\n",
        "</table>\n",
        "</div>"
       ],
       "metadata": {},
       "output_type": "pyout",
       "prompt_number": 31,
       "text": [
        "        sum  count  survival_rate\n",
        "Pclass                           \n",
        "1       136    216            0.6\n",
        "2        87    184            0.5\n",
        "3       119    491            0.2"
       ]
      }
     ],
     "prompt_number": 31
    },
    {
     "cell_type": "markdown",
     "metadata": {},
     "source": [
      "### Gender Significant?"
     ]
    },
    {
     "cell_type": "code",
     "collapsed": false,
     "input": [
      "# Your Turn - Plot or see in Table\n",
      "survived_by_sex = titanic.groupby('Sex').Survived.agg(['sum','count'])\n",
      "survived_by_sex['survival_rate']=survived_by_sex['sum']/survived_by_sex['count']\n",
      "survived_by_sex"
     ],
     "language": "python",
     "metadata": {},
     "outputs": [
      {
       "html": [
        "<div style=\"max-height:1000px;max-width:1500px;overflow:auto;\">\n",
        "<table border=\"1\" class=\"dataframe\">\n",
        "  <thead>\n",
        "    <tr style=\"text-align: right;\">\n",
        "      <th></th>\n",
        "      <th>sum</th>\n",
        "      <th>count</th>\n",
        "      <th>survival_rate</th>\n",
        "    </tr>\n",
        "    <tr>\n",
        "      <th>Sex</th>\n",
        "      <th></th>\n",
        "      <th></th>\n",
        "      <th></th>\n",
        "    </tr>\n",
        "  </thead>\n",
        "  <tbody>\n",
        "    <tr>\n",
        "      <th>female</th>\n",
        "      <td> 233</td>\n",
        "      <td> 314</td>\n",
        "      <td> 0.7</td>\n",
        "    </tr>\n",
        "    <tr>\n",
        "      <th>male</th>\n",
        "      <td> 109</td>\n",
        "      <td> 577</td>\n",
        "      <td> 0.2</td>\n",
        "    </tr>\n",
        "  </tbody>\n",
        "</table>\n",
        "</div>"
       ],
       "metadata": {},
       "output_type": "pyout",
       "prompt_number": 32,
       "text": [
        "        sum  count  survival_rate\n",
        "Sex                              \n",
        "female  233    314            0.7\n",
        "male    109    577            0.2"
       ]
      }
     ],
     "prompt_number": 32
    },
    {
     "cell_type": "markdown",
     "metadata": {},
     "source": [
      "### Age - Significant?"
     ]
    },
    {
     "cell_type": "code",
     "collapsed": false,
     "input": [
      "# Your Turn - Is it?"
     ],
     "language": "python",
     "metadata": {},
     "outputs": [],
     "prompt_number": 33
    },
    {
     "cell_type": "code",
     "collapsed": false,
     "input": [],
     "language": "python",
     "metadata": {},
     "outputs": [],
     "prompt_number": 33
    },
    {
     "cell_type": "code",
     "collapsed": false,
     "input": [
      "# To select a Column\n",
      "titanic['Age']\n",
      "#returns a series"
     ],
     "language": "python",
     "metadata": {},
     "outputs": [
      {
       "metadata": {},
       "output_type": "pyout",
       "prompt_number": 34,
       "text": [
        "0    22\n",
        "1    38\n",
        "2    26\n",
        "...\n",
        "888   NaN\n",
        "889    26\n",
        "890    32\n",
        "Name: Age, Length: 891, dtype: float64"
       ]
      }
     ],
     "prompt_number": 34
    },
    {
     "cell_type": "code",
     "collapsed": false,
     "input": [
      "# Now, to select multiple columns, give the columns as a LIST\n",
      "#returns a dataframe\n",
      "titanic[['PassengerId', 'Age', 'Survived']]\n",
      "#double brackets is a list of columns\n",
      "'''sel_columns=['PassengerID','Age','Survived']\n",
      "titanic[sel_columns]"
     ],
     "language": "python",
     "metadata": {},
     "outputs": [
      {
       "ename": "SyntaxError",
       "evalue": "EOF while scanning triple-quoted string literal (<ipython-input-35-e1ef67c78365>, line 6)",
       "output_type": "pyerr",
       "traceback": [
        "\u001b[0;36m  File \u001b[0;32m\"<ipython-input-35-e1ef67c78365>\"\u001b[0;36m, line \u001b[0;32m6\u001b[0m\n\u001b[0;31m    titanic[sel_columns]\u001b[0m\n\u001b[0m                        \n^\u001b[0m\n\u001b[0;31mSyntaxError\u001b[0m\u001b[0;31m:\u001b[0m EOF while scanning triple-quoted string literal\n"
       ]
      }
     ],
     "prompt_number": 35
    },
    {
     "cell_type": "code",
     "collapsed": false,
     "input": [
      "# Now, let's take a look at all the rows where Age is null\n",
      "titanic.Age.isnull()"
     ],
     "language": "python",
     "metadata": {},
     "outputs": [
      {
       "metadata": {},
       "output_type": "pyout",
       "prompt_number": 36,
       "text": [
        "0    False\n",
        "1    False\n",
        "2    False\n",
        "...\n",
        "888     True\n",
        "889    False\n",
        "890    False\n",
        "Name: Age, Length: 891, dtype: bool"
       ]
      }
     ],
     "prompt_number": 36
    },
    {
     "cell_type": "code",
     "collapsed": false,
     "input": [
      "# we have missing data for Age.  How many Rows are there\n",
      "titanic[titanic.Age.isnull()]\n",
      "#pd.isnull(titanic.Age)"
     ],
     "language": "python",
     "metadata": {},
     "outputs": [
      {
       "html": [
        "<div style=\"max-height:1000px;max-width:1500px;overflow:auto;\">\n",
        "<table border=\"1\" class=\"dataframe\">\n",
        "  <thead>\n",
        "    <tr style=\"text-align: right;\">\n",
        "      <th></th>\n",
        "      <th>PassengerId</th>\n",
        "      <th>Survived</th>\n",
        "      <th>Pclass</th>\n",
        "      <th>Name</th>\n",
        "      <th>Sex</th>\n",
        "      <th>Age</th>\n",
        "      <th>SibSp</th>\n",
        "      <th>Parch</th>\n",
        "      <th>Ticket</th>\n",
        "      <th>Fare</th>\n",
        "      <th>Cabin</th>\n",
        "      <th>Embarked</th>\n",
        "    </tr>\n",
        "  </thead>\n",
        "  <tbody>\n",
        "    <tr>\n",
        "      <th>5  </th>\n",
        "      <td>   6</td>\n",
        "      <td> 0</td>\n",
        "      <td> 3</td>\n",
        "      <td>                         Moran, Mr. James</td>\n",
        "      <td>   male</td>\n",
        "      <td>NaN</td>\n",
        "      <td> 0</td>\n",
        "      <td> 0</td>\n",
        "      <td>     330877</td>\n",
        "      <td>  8.5</td>\n",
        "      <td> NaN</td>\n",
        "      <td> Q</td>\n",
        "    </tr>\n",
        "    <tr>\n",
        "      <th>17 </th>\n",
        "      <td>  18</td>\n",
        "      <td> 1</td>\n",
        "      <td> 2</td>\n",
        "      <td>             Williams, Mr. Charles Eugene</td>\n",
        "      <td>   male</td>\n",
        "      <td>NaN</td>\n",
        "      <td> 0</td>\n",
        "      <td> 0</td>\n",
        "      <td>     244373</td>\n",
        "      <td> 13.0</td>\n",
        "      <td> NaN</td>\n",
        "      <td> S</td>\n",
        "    </tr>\n",
        "    <tr>\n",
        "      <th>19 </th>\n",
        "      <td>  20</td>\n",
        "      <td> 1</td>\n",
        "      <td> 3</td>\n",
        "      <td>                  Masselmani, Mrs. Fatima</td>\n",
        "      <td> female</td>\n",
        "      <td>NaN</td>\n",
        "      <td> 0</td>\n",
        "      <td> 0</td>\n",
        "      <td>       2649</td>\n",
        "      <td>  7.2</td>\n",
        "      <td> NaN</td>\n",
        "      <td> C</td>\n",
        "    </tr>\n",
        "    <tr>\n",
        "      <th>26 </th>\n",
        "      <td>  27</td>\n",
        "      <td> 0</td>\n",
        "      <td> 3</td>\n",
        "      <td>                  Emir, Mr. Farred Chehab</td>\n",
        "      <td>   male</td>\n",
        "      <td>NaN</td>\n",
        "      <td> 0</td>\n",
        "      <td> 0</td>\n",
        "      <td>       2631</td>\n",
        "      <td>  7.2</td>\n",
        "      <td> NaN</td>\n",
        "      <td> C</td>\n",
        "    </tr>\n",
        "    <tr>\n",
        "      <th>28 </th>\n",
        "      <td>  29</td>\n",
        "      <td> 1</td>\n",
        "      <td> 3</td>\n",
        "      <td>            O'Dwyer, Miss. Ellen \"Nellie\"</td>\n",
        "      <td> female</td>\n",
        "      <td>NaN</td>\n",
        "      <td> 0</td>\n",
        "      <td> 0</td>\n",
        "      <td>     330959</td>\n",
        "      <td>  7.9</td>\n",
        "      <td> NaN</td>\n",
        "      <td> Q</td>\n",
        "    </tr>\n",
        "    <tr>\n",
        "      <th>...</th>\n",
        "      <td>...</td>\n",
        "      <td>...</td>\n",
        "      <td>...</td>\n",
        "      <td>...</td>\n",
        "      <td>...</td>\n",
        "      <td>...</td>\n",
        "      <td>...</td>\n",
        "      <td>...</td>\n",
        "      <td>...</td>\n",
        "      <td>...</td>\n",
        "      <td>...</td>\n",
        "      <td>...</td>\n",
        "    </tr>\n",
        "    <tr>\n",
        "      <th>859</th>\n",
        "      <td> 860</td>\n",
        "      <td> 0</td>\n",
        "      <td> 3</td>\n",
        "      <td>                         Razi, Mr. Raihed</td>\n",
        "      <td>   male</td>\n",
        "      <td>NaN</td>\n",
        "      <td> 0</td>\n",
        "      <td> 0</td>\n",
        "      <td>       2629</td>\n",
        "      <td>  7.2</td>\n",
        "      <td> NaN</td>\n",
        "      <td> C</td>\n",
        "    </tr>\n",
        "    <tr>\n",
        "      <th>863</th>\n",
        "      <td> 864</td>\n",
        "      <td> 0</td>\n",
        "      <td> 3</td>\n",
        "      <td>        Sage, Miss. Dorothy Edith \"Dolly\"</td>\n",
        "      <td> female</td>\n",
        "      <td>NaN</td>\n",
        "      <td> 8</td>\n",
        "      <td> 2</td>\n",
        "      <td>   CA. 2343</td>\n",
        "      <td> 69.5</td>\n",
        "      <td> NaN</td>\n",
        "      <td> S</td>\n",
        "    </tr>\n",
        "    <tr>\n",
        "      <th>868</th>\n",
        "      <td> 869</td>\n",
        "      <td> 0</td>\n",
        "      <td> 3</td>\n",
        "      <td>              van Melkebeke, Mr. Philemon</td>\n",
        "      <td>   male</td>\n",
        "      <td>NaN</td>\n",
        "      <td> 0</td>\n",
        "      <td> 0</td>\n",
        "      <td>     345777</td>\n",
        "      <td>  9.5</td>\n",
        "      <td> NaN</td>\n",
        "      <td> S</td>\n",
        "    </tr>\n",
        "    <tr>\n",
        "      <th>878</th>\n",
        "      <td> 879</td>\n",
        "      <td> 0</td>\n",
        "      <td> 3</td>\n",
        "      <td>                       Laleff, Mr. Kristo</td>\n",
        "      <td>   male</td>\n",
        "      <td>NaN</td>\n",
        "      <td> 0</td>\n",
        "      <td> 0</td>\n",
        "      <td>     349217</td>\n",
        "      <td>  7.9</td>\n",
        "      <td> NaN</td>\n",
        "      <td> S</td>\n",
        "    </tr>\n",
        "    <tr>\n",
        "      <th>888</th>\n",
        "      <td> 889</td>\n",
        "      <td> 0</td>\n",
        "      <td> 3</td>\n",
        "      <td> Johnston, Miss. Catherine Helen \"Carrie\"</td>\n",
        "      <td> female</td>\n",
        "      <td>NaN</td>\n",
        "      <td> 1</td>\n",
        "      <td> 2</td>\n",
        "      <td> W./C. 6607</td>\n",
        "      <td> 23.4</td>\n",
        "      <td> NaN</td>\n",
        "      <td> S</td>\n",
        "    </tr>\n",
        "  </tbody>\n",
        "</table>\n",
        "<p>177 rows \u00d7 12 columns</p>\n",
        "</div>"
       ],
       "metadata": {},
       "output_type": "pyout",
       "prompt_number": 37,
       "text": [
        "     PassengerId  Survived  Pclass                                      Name  \\\n",
        "5              6         0       3                          Moran, Mr. James   \n",
        "17            18         1       2              Williams, Mr. Charles Eugene   \n",
        "19            20         1       3                   Masselmani, Mrs. Fatima   \n",
        "26            27         0       3                   Emir, Mr. Farred Chehab   \n",
        "28            29         1       3             O'Dwyer, Miss. Ellen \"Nellie\"   \n",
        "..           ...       ...     ...                                       ...   \n",
        "859          860         0       3                          Razi, Mr. Raihed   \n",
        "863          864         0       3         Sage, Miss. Dorothy Edith \"Dolly\"   \n",
        "868          869         0       3               van Melkebeke, Mr. Philemon   \n",
        "878          879         0       3                        Laleff, Mr. Kristo   \n",
        "888          889         0       3  Johnston, Miss. Catherine Helen \"Carrie\"   \n",
        "\n",
        "        Sex  Age  SibSp  Parch      Ticket  Fare Cabin Embarked  \n",
        "5      male  NaN      0      0      330877   8.5   NaN        Q  \n",
        "17     male  NaN      0      0      244373  13.0   NaN        S  \n",
        "19   female  NaN      0      0        2649   7.2   NaN        C  \n",
        "26     male  NaN      0      0        2631   7.2   NaN        C  \n",
        "28   female  NaN      0      0      330959   7.9   NaN        Q  \n",
        "..      ...  ...    ...    ...         ...   ...   ...      ...  \n",
        "859    male  NaN      0      0        2629   7.2   NaN        C  \n",
        "863  female  NaN      8      2    CA. 2343  69.5   NaN        S  \n",
        "868    male  NaN      0      0      345777   9.5   NaN        S  \n",
        "878    male  NaN      0      0      349217   7.9   NaN        S  \n",
        "888  female  NaN      1      2  W./C. 6607  23.4   NaN        S  \n",
        "\n",
        "[177 rows x 12 columns]"
       ]
      }
     ],
     "prompt_number": 37
    },
    {
     "cell_type": "markdown",
     "metadata": {},
     "source": [
      "#### Imputing Values - AGE"
     ]
    },
    {
     "cell_type": "code",
     "collapsed": false,
     "input": [
      "# Let's Look at Distribution of Age\n",
      "# Your Turn - Use hist function on age\n",
      "titanic.Age.hist(bins=20)"
     ],
     "language": "python",
     "metadata": {},
     "outputs": [
      {
       "metadata": {},
       "output_type": "pyout",
       "prompt_number": 38,
       "text": [
        "<matplotlib.axes._subplots.AxesSubplot at 0x109f02250>"
       ]
      },
      {
       "metadata": {},
       "output_type": "display_data",
       "png": "[encoded data removed]",
       "text": [
        "<matplotlib.figure.Figure at 0x109ea7810>"
       ]
      }
     ],
     "prompt_number": 38
    },
    {
     "cell_type": "code",
     "collapsed": false,
     "input": [
      "# Now, do the Age Distribution by Sex\n",
      "# Your Turn - use hist, but pass a argument by=titanic['Sex']\n",
      "titanic.Age.hist(bins=20, by=titanic.Sex)"
     ],
     "language": "python",
     "metadata": {},
     "outputs": [
      {
       "metadata": {},
       "output_type": "pyout",
       "prompt_number": 39,
       "text": [
        "array([<matplotlib.axes._subplots.AxesSubplot object at 0x109f9e6d0>,\n",
        "       <matplotlib.axes._subplots.AxesSubplot object at 0x10a2cc690>], dtype=object)"
       ]
      },
      {
       "metadata": {},
       "output_type": "display_data",
       "png": "[encoded data removed]",
       "text": [
        "<matplotlib.figure.Figure at 0x10a040810>"
       ]
      }
     ],
     "prompt_number": 39
    },
    {
     "cell_type": "code",
     "collapsed": false,
     "input": [
      "# They may look the same, buy see that y-axis is not the same\n",
      "# Your Turn - Do the same plot, but pass a second parameter to share the Y-Axis (sharey=True)\n",
      "titanic.Age.hist(bins=20, by=titanic.Sex, sharey=True)"
     ],
     "language": "python",
     "metadata": {},
     "outputs": [
      {
       "metadata": {},
       "output_type": "pyout",
       "prompt_number": 40,
       "text": [
        "array([<matplotlib.axes._subplots.AxesSubplot object at 0x10a3a4490>,\n",
        "       <matplotlib.axes._subplots.AxesSubplot object at 0x10a6bca10>], dtype=object)"
       ]
      },
      {
       "metadata": {},
       "output_type": "display_data",
       "png": "[encoded data removed]",
       "text": [
        "<matplotlib.figure.Figure at 0x109fc3190>"
       ]
      }
     ],
     "prompt_number": 40
    },
    {
     "cell_type": "code",
     "collapsed": false,
     "input": [
      "# Let's populate the missing Age from a Normal Distribution centered on Average Age and Standard Deviation"
     ],
     "language": "python",
     "metadata": {},
     "outputs": [],
     "prompt_number": 41
    },
    {
     "cell_type": "code",
     "collapsed": false,
     "input": [
      "# Get the Mean and STD of ALL Data\n",
      "print 'Mean Age:', titanic.Age.mean()\n",
      "print 'Std Age:', titanic.Age.std()"
     ],
     "language": "python",
     "metadata": {},
     "outputs": [
      {
       "output_type": "stream",
       "stream": "stdout",
       "text": [
        "Mean Age: 29.6991176471\n",
        "Std Age: 14.5264973323\n"
       ]
      }
     ],
     "prompt_number": 42
    },
    {
     "cell_type": "code",
     "collapsed": false,
     "input": [
      "# Create a Normal Distribution centered on Mean of 29.7 and Standard Dev of 14.5\n",
      "# Get 117 Entries since that's how many missing entries we have for Age\n",
      "def get_age_impute_values(n):\n",
      "    return np.random.normal(29.7, 14.5, n)"
     ],
     "language": "python",
     "metadata": {},
     "outputs": [],
     "prompt_number": 43
    },
    {
     "cell_type": "code",
     "collapsed": false,
     "input": [
      "get_age_impute_values(50)"
     ],
     "language": "python",
     "metadata": {},
     "outputs": [
      {
       "metadata": {},
       "output_type": "pyout",
       "prompt_number": 44,
       "text": [
        "array([ 40.14953748,  11.83556381,  30.73568357,  11.94851167,\n",
        "        29.42398518,  36.01809629,  10.29166453,  45.70028159,\n",
        "        26.82796427,  33.94459952,  56.75068197,  26.95364557,\n",
        "        51.44964397,  29.97977019,  34.34031805,  22.92200946,\n",
        "        20.52316552,  27.52868936,  18.96348404,  44.11729669,\n",
        "        30.85676722,  39.98969931,  22.38356995,  28.6812233 ,\n",
        "        24.30300262,  -2.58799363,  42.03881384,  55.57508921,\n",
        "        26.49542922,  59.50821193,  44.87787917,  19.38228674,\n",
        "        14.07157555,  54.39196623,  46.86813482,  15.13614028,\n",
        "        49.95969243,  42.5745069 ,  10.75158117,  44.65140944,\n",
        "        39.8602134 ,  44.6078464 ,  45.44771203,   7.40165418,\n",
        "        32.15455156,  -0.20597497,  37.14018123,  36.10581109,\n",
        "        49.06906901,  34.59642873])"
       ]
      }
     ],
     "prompt_number": 44
    },
    {
     "cell_type": "code",
     "collapsed": false,
     "input": [
      "# When we look for entries that are null we can create a mask or boolean filter\n",
      "age_missing_mask = titanic.Age.isnull()\n",
      "age_missing_mask"
     ],
     "language": "python",
     "metadata": {},
     "outputs": [
      {
       "metadata": {},
       "output_type": "pyout",
       "prompt_number": 45,
       "text": [
        "0    False\n",
        "1    False\n",
        "2    False\n",
        "...\n",
        "888     True\n",
        "889    False\n",
        "890    False\n",
        "Name: Age, Length: 891, dtype: bool"
       ]
      }
     ],
     "prompt_number": 45
    },
    {
     "cell_type": "code",
     "collapsed": false,
     "input": [
      "# Notice that we have 177 rows that have missing Age field\n",
      "titanic[age_missing_mask]"
     ],
     "language": "python",
     "metadata": {},
     "outputs": [
      {
       "html": [
        "<div style=\"max-height:1000px;max-width:1500px;overflow:auto;\">\n",
        "<table border=\"1\" class=\"dataframe\">\n",
        "  <thead>\n",
        "    <tr style=\"text-align: right;\">\n",
        "      <th></th>\n",
        "      <th>PassengerId</th>\n",
        "      <th>Survived</th>\n",
        "      <th>Pclass</th>\n",
        "      <th>Name</th>\n",
        "      <th>Sex</th>\n",
        "      <th>Age</th>\n",
        "      <th>SibSp</th>\n",
        "      <th>Parch</th>\n",
        "      <th>Ticket</th>\n",
        "      <th>Fare</th>\n",
        "      <th>Cabin</th>\n",
        "      <th>Embarked</th>\n",
        "    </tr>\n",
        "  </thead>\n",
        "  <tbody>\n",
        "    <tr>\n",
        "      <th>5  </th>\n",
        "      <td>   6</td>\n",
        "      <td> 0</td>\n",
        "      <td> 3</td>\n",
        "      <td>                         Moran, Mr. James</td>\n",
        "      <td>   male</td>\n",
        "      <td>NaN</td>\n",
        "      <td> 0</td>\n",
        "      <td> 0</td>\n",
        "      <td>     330877</td>\n",
        "      <td>  8.5</td>\n",
        "      <td> NaN</td>\n",
        "      <td> Q</td>\n",
        "    </tr>\n",
        "    <tr>\n",
        "      <th>17 </th>\n",
        "      <td>  18</td>\n",
        "      <td> 1</td>\n",
        "      <td> 2</td>\n",
        "      <td>             Williams, Mr. Charles Eugene</td>\n",
        "      <td>   male</td>\n",
        "      <td>NaN</td>\n",
        "      <td> 0</td>\n",
        "      <td> 0</td>\n",
        "      <td>     244373</td>\n",
        "      <td> 13.0</td>\n",
        "      <td> NaN</td>\n",
        "      <td> S</td>\n",
        "    </tr>\n",
        "    <tr>\n",
        "      <th>19 </th>\n",
        "      <td>  20</td>\n",
        "      <td> 1</td>\n",
        "      <td> 3</td>\n",
        "      <td>                  Masselmani, Mrs. Fatima</td>\n",
        "      <td> female</td>\n",
        "      <td>NaN</td>\n",
        "      <td> 0</td>\n",
        "      <td> 0</td>\n",
        "      <td>       2649</td>\n",
        "      <td>  7.2</td>\n",
        "      <td> NaN</td>\n",
        "      <td> C</td>\n",
        "    </tr>\n",
        "    <tr>\n",
        "      <th>26 </th>\n",
        "      <td>  27</td>\n",
        "      <td> 0</td>\n",
        "      <td> 3</td>\n",
        "      <td>                  Emir, Mr. Farred Chehab</td>\n",
        "      <td>   male</td>\n",
        "      <td>NaN</td>\n",
        "      <td> 0</td>\n",
        "      <td> 0</td>\n",
        "      <td>       2631</td>\n",
        "      <td>  7.2</td>\n",
        "      <td> NaN</td>\n",
        "      <td> C</td>\n",
        "    </tr>\n",
        "    <tr>\n",
        "      <th>28 </th>\n",
        "      <td>  29</td>\n",
        "      <td> 1</td>\n",
        "      <td> 3</td>\n",
        "      <td>            O'Dwyer, Miss. Ellen \"Nellie\"</td>\n",
        "      <td> female</td>\n",
        "      <td>NaN</td>\n",
        "      <td> 0</td>\n",
        "      <td> 0</td>\n",
        "      <td>     330959</td>\n",
        "      <td>  7.9</td>\n",
        "      <td> NaN</td>\n",
        "      <td> Q</td>\n",
        "    </tr>\n",
        "    <tr>\n",
        "      <th>...</th>\n",
        "      <td>...</td>\n",
        "      <td>...</td>\n",
        "      <td>...</td>\n",
        "      <td>...</td>\n",
        "      <td>...</td>\n",
        "      <td>...</td>\n",
        "      <td>...</td>\n",
        "      <td>...</td>\n",
        "      <td>...</td>\n",
        "      <td>...</td>\n",
        "      <td>...</td>\n",
        "      <td>...</td>\n",
        "    </tr>\n",
        "    <tr>\n",
        "      <th>859</th>\n",
        "      <td> 860</td>\n",
        "      <td> 0</td>\n",
        "      <td> 3</td>\n",
        "      <td>                         Razi, Mr. Raihed</td>\n",
        "      <td>   male</td>\n",
        "      <td>NaN</td>\n",
        "      <td> 0</td>\n",
        "      <td> 0</td>\n",
        "      <td>       2629</td>\n",
        "      <td>  7.2</td>\n",
        "      <td> NaN</td>\n",
        "      <td> C</td>\n",
        "    </tr>\n",
        "    <tr>\n",
        "      <th>863</th>\n",
        "      <td> 864</td>\n",
        "      <td> 0</td>\n",
        "      <td> 3</td>\n",
        "      <td>        Sage, Miss. Dorothy Edith \"Dolly\"</td>\n",
        "      <td> female</td>\n",
        "      <td>NaN</td>\n",
        "      <td> 8</td>\n",
        "      <td> 2</td>\n",
        "      <td>   CA. 2343</td>\n",
        "      <td> 69.5</td>\n",
        "      <td> NaN</td>\n",
        "      <td> S</td>\n",
        "    </tr>\n",
        "    <tr>\n",
        "      <th>868</th>\n",
        "      <td> 869</td>\n",
        "      <td> 0</td>\n",
        "      <td> 3</td>\n",
        "      <td>              van Melkebeke, Mr. Philemon</td>\n",
        "      <td>   male</td>\n",
        "      <td>NaN</td>\n",
        "      <td> 0</td>\n",
        "      <td> 0</td>\n",
        "      <td>     345777</td>\n",
        "      <td>  9.5</td>\n",
        "      <td> NaN</td>\n",
        "      <td> S</td>\n",
        "    </tr>\n",
        "    <tr>\n",
        "      <th>878</th>\n",
        "      <td> 879</td>\n",
        "      <td> 0</td>\n",
        "      <td> 3</td>\n",
        "      <td>                       Laleff, Mr. Kristo</td>\n",
        "      <td>   male</td>\n",
        "      <td>NaN</td>\n",
        "      <td> 0</td>\n",
        "      <td> 0</td>\n",
        "      <td>     349217</td>\n",
        "      <td>  7.9</td>\n",
        "      <td> NaN</td>\n",
        "      <td> S</td>\n",
        "    </tr>\n",
        "    <tr>\n",
        "      <th>888</th>\n",
        "      <td> 889</td>\n",
        "      <td> 0</td>\n",
        "      <td> 3</td>\n",
        "      <td> Johnston, Miss. Catherine Helen \"Carrie\"</td>\n",
        "      <td> female</td>\n",
        "      <td>NaN</td>\n",
        "      <td> 1</td>\n",
        "      <td> 2</td>\n",
        "      <td> W./C. 6607</td>\n",
        "      <td> 23.4</td>\n",
        "      <td> NaN</td>\n",
        "      <td> S</td>\n",
        "    </tr>\n",
        "  </tbody>\n",
        "</table>\n",
        "<p>177 rows \u00d7 12 columns</p>\n",
        "</div>"
       ],
       "metadata": {},
       "output_type": "pyout",
       "prompt_number": 46,
       "text": [
        "     PassengerId  Survived  Pclass                                      Name  \\\n",
        "5              6         0       3                          Moran, Mr. James   \n",
        "17            18         1       2              Williams, Mr. Charles Eugene   \n",
        "19            20         1       3                   Masselmani, Mrs. Fatima   \n",
        "26            27         0       3                   Emir, Mr. Farred Chehab   \n",
        "28            29         1       3             O'Dwyer, Miss. Ellen \"Nellie\"   \n",
        "..           ...       ...     ...                                       ...   \n",
        "859          860         0       3                          Razi, Mr. Raihed   \n",
        "863          864         0       3         Sage, Miss. Dorothy Edith \"Dolly\"   \n",
        "868          869         0       3               van Melkebeke, Mr. Philemon   \n",
        "878          879         0       3                        Laleff, Mr. Kristo   \n",
        "888          889         0       3  Johnston, Miss. Catherine Helen \"Carrie\"   \n",
        "\n",
        "        Sex  Age  SibSp  Parch      Ticket  Fare Cabin Embarked  \n",
        "5      male  NaN      0      0      330877   8.5   NaN        Q  \n",
        "17     male  NaN      0      0      244373  13.0   NaN        S  \n",
        "19   female  NaN      0      0        2649   7.2   NaN        C  \n",
        "26     male  NaN      0      0        2631   7.2   NaN        C  \n",
        "28   female  NaN      0      0      330959   7.9   NaN        Q  \n",
        "..      ...  ...    ...    ...         ...   ...   ...      ...  \n",
        "859    male  NaN      0      0        2629   7.2   NaN        C  \n",
        "863  female  NaN      8      2    CA. 2343  69.5   NaN        S  \n",
        "868    male  NaN      0      0      345777   9.5   NaN        S  \n",
        "878    male  NaN      0      0      349217   7.9   NaN        S  \n",
        "888  female  NaN      1      2  W./C. 6607  23.4   NaN        S  \n",
        "\n",
        "[177 rows x 12 columns]"
       ]
      }
     ],
     "prompt_number": 46
    },
    {
     "cell_type": "code",
     "collapsed": false,
     "input": [
      "# How do we set the values for Age?"
     ],
     "language": "python",
     "metadata": {},
     "outputs": [],
     "prompt_number": 47
    },
    {
     "cell_type": "code",
     "collapsed": false,
     "input": [
      "#loc select only certain rows based on criteria stated. This is how to swap specific rows in a column, not the whole column."
     ],
     "language": "python",
     "metadata": {},
     "outputs": [],
     "prompt_number": 48
    },
    {
     "cell_type": "code",
     "collapsed": false,
     "input": [
      "# Now we can set these values to the values we picked from Random Normal Distribution\n",
      "titanic.loc[titanic.Age.isnull(), 'Age'] = get_age_impute_values(n=177)\n",
      "#titanic.loc[age_missing_mask, 'Age'] = get_age_impute_values(n=177)"
     ],
     "language": "python",
     "metadata": {},
     "outputs": [],
     "prompt_number": 49
    },
    {
     "cell_type": "code",
     "collapsed": false,
     "input": [
      "age_missing_mask=titanic.Age<0\n",
      "titanic.loc[age_missing_mask, 'Age']=0"
     ],
     "language": "python",
     "metadata": {},
     "outputs": [],
     "prompt_number": 50
    },
    {
     "cell_type": "code",
     "collapsed": false,
     "input": [
      "titanic.head(6)"
     ],
     "language": "python",
     "metadata": {},
     "outputs": [
      {
       "html": [
        "<div style=\"max-height:1000px;max-width:1500px;overflow:auto;\">\n",
        "<table border=\"1\" class=\"dataframe\">\n",
        "  <thead>\n",
        "    <tr style=\"text-align: right;\">\n",
        "      <th></th>\n",
        "      <th>PassengerId</th>\n",
        "      <th>Survived</th>\n",
        "      <th>Pclass</th>\n",
        "      <th>Name</th>\n",
        "      <th>Sex</th>\n",
        "      <th>Age</th>\n",
        "      <th>SibSp</th>\n",
        "      <th>Parch</th>\n",
        "      <th>Ticket</th>\n",
        "      <th>Fare</th>\n",
        "      <th>Cabin</th>\n",
        "      <th>Embarked</th>\n",
        "    </tr>\n",
        "  </thead>\n",
        "  <tbody>\n",
        "    <tr>\n",
        "      <th>0</th>\n",
        "      <td> 1</td>\n",
        "      <td> 0</td>\n",
        "      <td> 3</td>\n",
        "      <td>                           Braund, Mr. Owen Harris</td>\n",
        "      <td>   male</td>\n",
        "      <td> 22.0</td>\n",
        "      <td> 1</td>\n",
        "      <td> 0</td>\n",
        "      <td>        A/5 21171</td>\n",
        "      <td>  7.2</td>\n",
        "      <td>  NaN</td>\n",
        "      <td> S</td>\n",
        "    </tr>\n",
        "    <tr>\n",
        "      <th>1</th>\n",
        "      <td> 2</td>\n",
        "      <td> 1</td>\n",
        "      <td> 1</td>\n",
        "      <td> Cumings, Mrs. John Bradley (Florence Briggs Th...</td>\n",
        "      <td> female</td>\n",
        "      <td> 38.0</td>\n",
        "      <td> 1</td>\n",
        "      <td> 0</td>\n",
        "      <td>         PC 17599</td>\n",
        "      <td> 71.3</td>\n",
        "      <td>  C85</td>\n",
        "      <td> C</td>\n",
        "    </tr>\n",
        "    <tr>\n",
        "      <th>2</th>\n",
        "      <td> 3</td>\n",
        "      <td> 1</td>\n",
        "      <td> 3</td>\n",
        "      <td>                            Heikkinen, Miss. Laina</td>\n",
        "      <td> female</td>\n",
        "      <td> 26.0</td>\n",
        "      <td> 0</td>\n",
        "      <td> 0</td>\n",
        "      <td> STON/O2. 3101282</td>\n",
        "      <td>  7.9</td>\n",
        "      <td>  NaN</td>\n",
        "      <td> S</td>\n",
        "    </tr>\n",
        "    <tr>\n",
        "      <th>3</th>\n",
        "      <td> 4</td>\n",
        "      <td> 1</td>\n",
        "      <td> 1</td>\n",
        "      <td>      Futrelle, Mrs. Jacques Heath (Lily May Peel)</td>\n",
        "      <td> female</td>\n",
        "      <td> 35.0</td>\n",
        "      <td> 1</td>\n",
        "      <td> 0</td>\n",
        "      <td>           113803</td>\n",
        "      <td> 53.1</td>\n",
        "      <td> C123</td>\n",
        "      <td> S</td>\n",
        "    </tr>\n",
        "    <tr>\n",
        "      <th>4</th>\n",
        "      <td> 5</td>\n",
        "      <td> 0</td>\n",
        "      <td> 3</td>\n",
        "      <td>                          Allen, Mr. William Henry</td>\n",
        "      <td>   male</td>\n",
        "      <td> 35.0</td>\n",
        "      <td> 0</td>\n",
        "      <td> 0</td>\n",
        "      <td>           373450</td>\n",
        "      <td>  8.1</td>\n",
        "      <td>  NaN</td>\n",
        "      <td> S</td>\n",
        "    </tr>\n",
        "    <tr>\n",
        "      <th>5</th>\n",
        "      <td> 6</td>\n",
        "      <td> 0</td>\n",
        "      <td> 3</td>\n",
        "      <td>                                  Moran, Mr. James</td>\n",
        "      <td>   male</td>\n",
        "      <td>  6.2</td>\n",
        "      <td> 0</td>\n",
        "      <td> 0</td>\n",
        "      <td>           330877</td>\n",
        "      <td>  8.5</td>\n",
        "      <td>  NaN</td>\n",
        "      <td> Q</td>\n",
        "    </tr>\n",
        "  </tbody>\n",
        "</table>\n",
        "</div>"
       ],
       "metadata": {},
       "output_type": "pyout",
       "prompt_number": 51,
       "text": [
        "   PassengerId  Survived  Pclass  \\\n",
        "0            1         0       3   \n",
        "1            2         1       1   \n",
        "2            3         1       3   \n",
        "3            4         1       1   \n",
        "4            5         0       3   \n",
        "5            6         0       3   \n",
        "\n",
        "                                                Name     Sex   Age  SibSp  \\\n",
        "0                            Braund, Mr. Owen Harris    male  22.0      1   \n",
        "1  Cumings, Mrs. John Bradley (Florence Briggs Th...  female  38.0      1   \n",
        "2                             Heikkinen, Miss. Laina  female  26.0      0   \n",
        "3       Futrelle, Mrs. Jacques Heath (Lily May Peel)  female  35.0      1   \n",
        "4                           Allen, Mr. William Henry    male  35.0      0   \n",
        "5                                   Moran, Mr. James    male   6.2      0   \n",
        "\n",
        "   Parch            Ticket  Fare Cabin Embarked  \n",
        "0      0         A/5 21171   7.2   NaN        S  \n",
        "1      0          PC 17599  71.3   C85        C  \n",
        "2      0  STON/O2. 3101282   7.9   NaN        S  \n",
        "3      0            113803  53.1  C123        S  \n",
        "4      0            373450   8.1   NaN        S  \n",
        "5      0            330877   8.5   NaN        Q  "
       ]
      }
     ],
     "prompt_number": 51
    },
    {
     "cell_type": "code",
     "collapsed": false,
     "input": [
      "titanic.info()"
     ],
     "language": "python",
     "metadata": {},
     "outputs": [
      {
       "output_type": "stream",
       "stream": "stdout",
       "text": [
        "<class 'pandas.core.frame.DataFrame'>\n",
        "Int64Index: 891 entries, 0 to 890\n",
        "Data columns (total 12 columns):\n",
        "PassengerId    891 non-null int64\n",
        "Survived       891 non-null int64\n",
        "Pclass         891 non-null int64\n",
        "Name           891 non-null object\n",
        "Sex            891 non-null object\n",
        "Age            891 non-null float64\n",
        "SibSp          891 non-null int64\n",
        "Parch          891 non-null int64\n",
        "Ticket         891 non-null object\n",
        "Fare           891 non-null float64\n",
        "Cabin          204 non-null object\n",
        "Embarked       889 non-null object\n",
        "dtypes: float64(2), int64(5), object(5)\n",
        "memory usage: 90.5+ KB\n"
       ]
      }
     ],
     "prompt_number": 52
    },
    {
     "cell_type": "code",
     "collapsed": false,
     "input": [
      "#change pclass to string because we want to make dummy variables later\n",
      "titanic['Pclass'] = titanic.Pclass.astype(str)"
     ],
     "language": "python",
     "metadata": {},
     "outputs": [],
     "prompt_number": 53
    },
    {
     "cell_type": "markdown",
     "metadata": {},
     "source": [
      "### Age Significant?"
     ]
    },
    {
     "cell_type": "code",
     "collapsed": false,
     "input": [
      "# "
     ],
     "language": "python",
     "metadata": {},
     "outputs": [],
     "prompt_number": 47
    },
    {
     "cell_type": "markdown",
     "metadata": {},
     "source": [
      "### Logistics Regression Model"
     ]
    },
    {
     "cell_type": "code",
     "collapsed": false,
     "input": [
      "X_data = titanic[['Pclass', 'Sex', 'Age', 'SibSp']]"
     ],
     "language": "python",
     "metadata": {},
     "outputs": [],
     "prompt_number": 54
    },
    {
     "cell_type": "code",
     "collapsed": false,
     "input": [
      "X_data.info()"
     ],
     "language": "python",
     "metadata": {},
     "outputs": [
      {
       "output_type": "stream",
       "stream": "stdout",
       "text": [
        "<class 'pandas.core.frame.DataFrame'>\n",
        "Int64Index: 891 entries, 0 to 890\n",
        "Data columns (total 4 columns):\n",
        "Pclass    891 non-null object\n",
        "Sex       891 non-null object\n",
        "Age       891 non-null float64\n",
        "SibSp     891 non-null int64\n",
        "dtypes: float64(1), int64(1), object(2)\n",
        "memory usage: 34.8+ KB\n"
       ]
      }
     ],
     "prompt_number": 55
    },
    {
     "cell_type": "code",
     "collapsed": false,
     "input": [
      "conda update pandas"
     ],
     "language": "python",
     "metadata": {},
     "outputs": [
      {
       "ename": "SyntaxError",
       "evalue": "invalid syntax (<ipython-input-61-a92e094982ee>, line 1)",
       "output_type": "pyerr",
       "traceback": [
        "\u001b[0;36m  File \u001b[0;32m\"<ipython-input-61-a92e094982ee>\"\u001b[0;36m, line \u001b[0;32m1\u001b[0m\n\u001b[0;31m    conda update pandas\u001b[0m\n\u001b[0m               ^\u001b[0m\n\u001b[0;31mSyntaxError\u001b[0m\u001b[0;31m:\u001b[0m invalid syntax\n"
       ]
      }
     ],
     "prompt_number": 61
    },
    {
     "cell_type": "code",
     "collapsed": false,
     "input": [
      "pd.__version__"
     ],
     "language": "python",
     "metadata": {},
     "outputs": [
      {
       "metadata": {},
       "output_type": "pyout",
       "prompt_number": 56,
       "text": [
        "'0.15.1'"
       ]
      }
     ],
     "prompt_number": 56
    },
    {
     "cell_type": "code",
     "collapsed": false,
     "input": [
      "X_data = pd.get_dummies(X_data)"
     ],
     "language": "python",
     "metadata": {},
     "outputs": [],
     "prompt_number": 57
    },
    {
     "cell_type": "code",
     "collapsed": false,
     "input": [
      "y_data = titanic['Survived']"
     ],
     "language": "python",
     "metadata": {},
     "outputs": [],
     "prompt_number": 58
    },
    {
     "cell_type": "code",
     "collapsed": false,
     "input": [
      "X_data"
     ],
     "language": "python",
     "metadata": {},
     "outputs": [
      {
       "html": [
        "<div style=\"max-height:1000px;max-width:1500px;overflow:auto;\">\n",
        "<table border=\"1\" class=\"dataframe\">\n",
        "  <thead>\n",
        "    <tr style=\"text-align: right;\">\n",
        "      <th></th>\n",
        "      <th>Age</th>\n",
        "      <th>SibSp</th>\n",
        "      <th>Pclass_1</th>\n",
        "      <th>Pclass_2</th>\n",
        "      <th>Pclass_3</th>\n",
        "      <th>Sex_female</th>\n",
        "      <th>Sex_male</th>\n",
        "    </tr>\n",
        "  </thead>\n",
        "  <tbody>\n",
        "    <tr>\n",
        "      <th>0  </th>\n",
        "      <td> 22.0</td>\n",
        "      <td> 1</td>\n",
        "      <td> 0</td>\n",
        "      <td> 0</td>\n",
        "      <td> 1</td>\n",
        "      <td> 0</td>\n",
        "      <td> 1</td>\n",
        "    </tr>\n",
        "    <tr>\n",
        "      <th>1  </th>\n",
        "      <td> 38.0</td>\n",
        "      <td> 1</td>\n",
        "      <td> 1</td>\n",
        "      <td> 0</td>\n",
        "      <td> 0</td>\n",
        "      <td> 1</td>\n",
        "      <td> 0</td>\n",
        "    </tr>\n",
        "    <tr>\n",
        "      <th>2  </th>\n",
        "      <td> 26.0</td>\n",
        "      <td> 0</td>\n",
        "      <td> 0</td>\n",
        "      <td> 0</td>\n",
        "      <td> 1</td>\n",
        "      <td> 1</td>\n",
        "      <td> 0</td>\n",
        "    </tr>\n",
        "    <tr>\n",
        "      <th>3  </th>\n",
        "      <td> 35.0</td>\n",
        "      <td> 1</td>\n",
        "      <td> 1</td>\n",
        "      <td> 0</td>\n",
        "      <td> 0</td>\n",
        "      <td> 1</td>\n",
        "      <td> 0</td>\n",
        "    </tr>\n",
        "    <tr>\n",
        "      <th>4  </th>\n",
        "      <td> 35.0</td>\n",
        "      <td> 0</td>\n",
        "      <td> 0</td>\n",
        "      <td> 0</td>\n",
        "      <td> 1</td>\n",
        "      <td> 0</td>\n",
        "      <td> 1</td>\n",
        "    </tr>\n",
        "    <tr>\n",
        "      <th>...</th>\n",
        "      <td>...</td>\n",
        "      <td>...</td>\n",
        "      <td>...</td>\n",
        "      <td>...</td>\n",
        "      <td>...</td>\n",
        "      <td>...</td>\n",
        "      <td>...</td>\n",
        "    </tr>\n",
        "    <tr>\n",
        "      <th>886</th>\n",
        "      <td> 27.0</td>\n",
        "      <td> 0</td>\n",
        "      <td> 0</td>\n",
        "      <td> 1</td>\n",
        "      <td> 0</td>\n",
        "      <td> 0</td>\n",
        "      <td> 1</td>\n",
        "    </tr>\n",
        "    <tr>\n",
        "      <th>887</th>\n",
        "      <td> 19.0</td>\n",
        "      <td> 0</td>\n",
        "      <td> 1</td>\n",
        "      <td> 0</td>\n",
        "      <td> 0</td>\n",
        "      <td> 1</td>\n",
        "      <td> 0</td>\n",
        "    </tr>\n",
        "    <tr>\n",
        "      <th>888</th>\n",
        "      <td> 33.9</td>\n",
        "      <td> 1</td>\n",
        "      <td> 0</td>\n",
        "      <td> 0</td>\n",
        "      <td> 1</td>\n",
        "      <td> 1</td>\n",
        "      <td> 0</td>\n",
        "    </tr>\n",
        "    <tr>\n",
        "      <th>889</th>\n",
        "      <td> 26.0</td>\n",
        "      <td> 0</td>\n",
        "      <td> 1</td>\n",
        "      <td> 0</td>\n",
        "      <td> 0</td>\n",
        "      <td> 0</td>\n",
        "      <td> 1</td>\n",
        "    </tr>\n",
        "    <tr>\n",
        "      <th>890</th>\n",
        "      <td> 32.0</td>\n",
        "      <td> 0</td>\n",
        "      <td> 0</td>\n",
        "      <td> 0</td>\n",
        "      <td> 1</td>\n",
        "      <td> 0</td>\n",
        "      <td> 1</td>\n",
        "    </tr>\n",
        "  </tbody>\n",
        "</table>\n",
        "<p>891 rows \u00d7 7 columns</p>\n",
        "</div>"
       ],
       "metadata": {},
       "output_type": "pyout",
       "prompt_number": 59,
       "text": [
        "      Age  SibSp  Pclass_1  Pclass_2  Pclass_3  Sex_female  Sex_male\n",
        "0    22.0      1         0         0         1           0         1\n",
        "1    38.0      1         1         0         0           1         0\n",
        "2    26.0      0         0         0         1           1         0\n",
        "3    35.0      1         1         0         0           1         0\n",
        "4    35.0      0         0         0         1           0         1\n",
        "..    ...    ...       ...       ...       ...         ...       ...\n",
        "886  27.0      0         0         1         0           0         1\n",
        "887  19.0      0         1         0         0           1         0\n",
        "888  33.9      1         0         0         1           1         0\n",
        "889  26.0      0         1         0         0           0         1\n",
        "890  32.0      0         0         0         1           0         1\n",
        "\n",
        "[891 rows x 7 columns]"
       ]
      }
     ],
     "prompt_number": 59
    },
    {
     "cell_type": "code",
     "collapsed": false,
     "input": [
      "from sklearn.cross_validation import train_test_split"
     ],
     "language": "python",
     "metadata": {},
     "outputs": [],
     "prompt_number": 60
    },
    {
     "cell_type": "code",
     "collapsed": false,
     "input": [
      "X_train, X_test, y_train, y_test = train_test_split(X_data, y_data, random_state=12, test_size=0.2)"
     ],
     "language": "python",
     "metadata": {},
     "outputs": [],
     "prompt_number": 61
    },
    {
     "cell_type": "code",
     "collapsed": false,
     "input": [
      "from sklearn.linear_model import LogisticRegression"
     ],
     "language": "python",
     "metadata": {},
     "outputs": [],
     "prompt_number": 62
    },
    {
     "cell_type": "code",
     "collapsed": false,
     "input": [
      "clf = LogisticRegression()"
     ],
     "language": "python",
     "metadata": {},
     "outputs": [],
     "prompt_number": 63
    },
    {
     "cell_type": "code",
     "collapsed": false,
     "input": [
      "clf.fit(X_train, y_train)"
     ],
     "language": "python",
     "metadata": {},
     "outputs": [
      {
       "metadata": {},
       "output_type": "pyout",
       "prompt_number": 64,
       "text": [
        "LogisticRegression(C=1.0, class_weight=None, dual=False, fit_intercept=True,\n",
        "          intercept_scaling=1, penalty='l2', random_state=None, tol=0.0001)"
       ]
      }
     ],
     "prompt_number": 64
    },
    {
     "cell_type": "code",
     "collapsed": false,
     "input": [
      "clf.score(X_test, y_test)\n",
      "#how many did I predict right v incorrectly"
     ],
     "language": "python",
     "metadata": {},
     "outputs": [
      {
       "metadata": {},
       "output_type": "pyout",
       "prompt_number": 65,
       "text": [
        "0.76536312849162014"
       ]
      }
     ],
     "prompt_number": 65
    },
    {
     "cell_type": "code",
     "collapsed": false,
     "input": [
      "from sklearn.metrics import confusion_matrix, classification_report"
     ],
     "language": "python",
     "metadata": {},
     "outputs": [],
     "prompt_number": 66
    },
    {
     "cell_type": "code",
     "collapsed": false,
     "input": [
      "y_pred = clf.predict(X_test)"
     ],
     "language": "python",
     "metadata": {},
     "outputs": [],
     "prompt_number": 67
    },
    {
     "cell_type": "code",
     "collapsed": false,
     "input": [
      "# Confusion Matrix for Type 1 and Type 2 Error\n",
      "#a and d are the correct predictions, b and c are incorrect predictions\n",
      "confusion_matrix(y_test, y_pred)"
     ],
     "language": "python",
     "metadata": {},
     "outputs": [
      {
       "metadata": {},
       "output_type": "pyout",
       "prompt_number": 68,
       "text": [
        "array([[86, 14],\n",
        "       [28, 51]])"
       ]
      }
     ],
     "prompt_number": 68
    },
    {
     "cell_type": "code",
     "collapsed": false,
     "input": [
      "# Examine Precision and Recall\n",
      "print classification_report(y_test, y_pred)"
     ],
     "language": "python",
     "metadata": {},
     "outputs": [
      {
       "output_type": "stream",
       "stream": "stdout",
       "text": [
        "             precision    recall  f1-score   support\n",
        "\n",
        "          0       0.75      0.86      0.80       100\n",
        "          1       0.78      0.65      0.71        79\n",
        "\n",
        "avg / total       0.77      0.77      0.76       179\n",
        "\n"
       ]
      }
     ],
     "prompt_number": 69
    },
    {
     "cell_type": "code",
     "collapsed": false,
     "input": [
      "# examine the coefficients and significance of Variables\n",
      "pd.DataFrame(zip(X_data.columns, np.transpose(clf.coef_)))"
     ],
     "language": "python",
     "metadata": {},
     "outputs": [
      {
       "html": [
        "<div style=\"max-height:1000px;max-width:1500px;overflow:auto;\">\n",
        "<table border=\"1\" class=\"dataframe\">\n",
        "  <thead>\n",
        "    <tr style=\"text-align: right;\">\n",
        "      <th></th>\n",
        "      <th>0</th>\n",
        "      <th>1</th>\n",
        "    </tr>\n",
        "  </thead>\n",
        "  <tbody>\n",
        "    <tr>\n",
        "      <th>0</th>\n",
        "      <td>        Age</td>\n",
        "      <td> [-0.0182966726766]</td>\n",
        "    </tr>\n",
        "    <tr>\n",
        "      <th>1</th>\n",
        "      <td>      SibSp</td>\n",
        "      <td>  [-0.257791878065]</td>\n",
        "    </tr>\n",
        "    <tr>\n",
        "      <th>2</th>\n",
        "      <td>   Pclass_1</td>\n",
        "      <td>    [1.16218969314]</td>\n",
        "    </tr>\n",
        "    <tr>\n",
        "      <th>3</th>\n",
        "      <td>   Pclass_2</td>\n",
        "      <td>   [0.123994479533]</td>\n",
        "    </tr>\n",
        "    <tr>\n",
        "      <th>4</th>\n",
        "      <td>   Pclass_3</td>\n",
        "      <td>  [-0.912659822337]</td>\n",
        "    </tr>\n",
        "    <tr>\n",
        "      <th>5</th>\n",
        "      <td> Sex_female</td>\n",
        "      <td>    [1.54117983517]</td>\n",
        "    </tr>\n",
        "    <tr>\n",
        "      <th>6</th>\n",
        "      <td>   Sex_male</td>\n",
        "      <td>   [-1.16765548483]</td>\n",
        "    </tr>\n",
        "  </tbody>\n",
        "</table>\n",
        "</div>"
       ],
       "metadata": {},
       "output_type": "pyout",
       "prompt_number": 70,
       "text": [
        "            0                   1\n",
        "0         Age  [-0.0182966726766]\n",
        "1       SibSp   [-0.257791878065]\n",
        "2    Pclass_1     [1.16218969314]\n",
        "3    Pclass_2    [0.123994479533]\n",
        "4    Pclass_3   [-0.912659822337]\n",
        "5  Sex_female     [1.54117983517]\n",
        "6    Sex_male    [-1.16765548483]"
       ]
      }
     ],
     "prompt_number": 70
    },
    {
     "cell_type": "code",
     "collapsed": false,
     "input": [
      "clf.predict_proba(X_test)"
     ],
     "language": "python",
     "metadata": {},
     "outputs": [
      {
       "metadata": {},
       "output_type": "pyout",
       "prompt_number": 72,
       "text": [
        "array([[ 0.69449635,  0.30550365],\n",
        "       [ 0.63784489,  0.36215511],\n",
        "       [ 0.89002741,  0.10997259],\n",
        "       [ 0.61228568,  0.38771432],\n",
        "       [ 0.89002741,  0.10997259],\n",
        "       [ 0.68272758,  0.31727242],\n",
        "       [ 0.40655329,  0.59344671],\n",
        "       [ 0.37565447,  0.62434553],\n",
        "       [ 0.76538687,  0.23461313],\n",
        "       [ 0.78787415,  0.21212585],\n",
        "       [ 0.95320471,  0.04679529],\n",
        "       [ 0.90974958,  0.09025042],\n",
        "       [ 0.82201806,  0.17798194],\n",
        "       [ 0.45131665,  0.54868335],\n",
        "       [ 0.38396838,  0.61603162],\n",
        "       [ 0.82491596,  0.17508404],\n",
        "       [ 0.79958568,  0.20041432],\n",
        "       [ 0.87898778,  0.12101222],\n",
        "       [ 0.90514031,  0.09485969],\n",
        "       [ 0.91607274,  0.08392726],\n",
        "       [ 0.51463181,  0.48536819],\n",
        "       [ 0.80766737,  0.19233263],\n",
        "       [ 0.92496801,  0.07503199],\n",
        "       [ 0.54829724,  0.45170276],\n",
        "       [ 0.39296939,  0.60703061],\n",
        "       [ 0.61722116,  0.38277884],\n",
        "       [ 0.21301749,  0.78698251],\n",
        "       [ 0.46039341,  0.53960659],\n",
        "       [ 0.92118757,  0.07881243],\n",
        "       [ 0.10167792,  0.89832208],\n",
        "       [ 0.91270938,  0.08729062],\n",
        "       [ 0.88912878,  0.11087122],\n",
        "       [ 0.35521996,  0.64478004],\n",
        "       [ 0.90514031,  0.09485969],\n",
        "       [ 0.89044382,  0.10955618],\n",
        "       [ 0.13170446,  0.86829554],\n",
        "       [ 0.896989  ,  0.103011  ],\n",
        "       [ 0.92438659,  0.07561341],\n",
        "       [ 0.74856248,  0.25143752],\n",
        "       [ 0.35445408,  0.64554592],\n",
        "       [ 0.86251269,  0.13748731],\n",
        "       [ 0.82777656,  0.17222344],\n",
        "       [ 0.1951933 ,  0.8048067 ],\n",
        "       [ 0.51062451,  0.48937549],\n",
        "       [ 0.93681683,  0.06318317],\n",
        "       [ 0.91848958,  0.08151042],\n",
        "       [ 0.06126888,  0.93873112],\n",
        "       [ 0.92368826,  0.07631174],\n",
        "       [ 0.83501066,  0.16498934],\n",
        "       [ 0.81684632,  0.18315368],\n",
        "       [ 0.68308238,  0.31691762],\n",
        "       [ 0.07646325,  0.92353675],\n",
        "       [ 0.06674658,  0.93325342],\n",
        "       [ 0.55906545,  0.44093455],\n",
        "       [ 0.90767227,  0.09232773],\n",
        "       [ 0.8671678 ,  0.1328322 ],\n",
        "       [ 0.88639425,  0.11360575],\n",
        "       [ 0.09838389,  0.90161611],\n",
        "       [ 0.57170983,  0.42829017],\n",
        "       [ 0.94706645,  0.05293355],\n",
        "       [ 0.93681683,  0.06318317],\n",
        "       [ 0.5040428 ,  0.4959572 ],\n",
        "       [ 0.40251971,  0.59748029],\n",
        "       [ 0.63722862,  0.36277138],\n",
        "       [ 0.89866737,  0.10133263],\n",
        "       [ 0.08179432,  0.91820568],\n",
        "       [ 0.21637855,  0.78362145],\n",
        "       [ 0.3371529 ,  0.6628471 ],\n",
        "       [ 0.90195144,  0.09804856],\n",
        "       [ 0.93172632,  0.06827368],\n",
        "       [ 0.91270938,  0.08729062],\n",
        "       [ 0.88639425,  0.11360575],\n",
        "       [ 0.81932539,  0.18067461],\n",
        "       [ 0.52688777,  0.47311223],\n",
        "       [ 0.39181773,  0.60818227],\n",
        "       [ 0.13419124,  0.86580876],\n",
        "       [ 0.91137305,  0.08862695],\n",
        "       [ 0.93234383,  0.06765617],\n",
        "       [ 0.39748344,  0.60251656],\n",
        "       [ 0.90032143,  0.09967857],\n",
        "       [ 0.15890319,  0.84109681],\n",
        "       [ 0.31154923,  0.68845077],\n",
        "       [ 0.13381097,  0.86618903],\n",
        "       [ 0.69095055,  0.30904945],\n",
        "       [ 0.89355833,  0.10644167],\n",
        "       [ 0.72766712,  0.27233288],\n",
        "       [ 0.1032096 ,  0.8967904 ],\n",
        "       [ 0.89180552,  0.10819448],\n",
        "       [ 0.91836683,  0.08163317],\n",
        "       [ 0.7197284 ,  0.2802716 ],\n",
        "       [ 0.88639425,  0.11360575],\n",
        "       [ 0.11034371,  0.88965629],\n",
        "       [ 0.12537344,  0.87462656],\n",
        "       [ 0.38861347,  0.61138653],\n",
        "       [ 0.58592632,  0.41407368],\n",
        "       [ 0.95242511,  0.04757489],\n",
        "       [ 0.1032096 ,  0.8967904 ],\n",
        "       [ 0.33825823,  0.66174177],\n",
        "       [ 0.09987146,  0.90012854],\n",
        "       [ 0.45666433,  0.54333567],\n",
        "       [ 0.66492567,  0.33507433],\n",
        "       [ 0.82491596,  0.17508404],\n",
        "       [ 0.42430332,  0.57569668],\n",
        "       [ 0.92238852,  0.07761148],\n",
        "       [ 0.92779847,  0.07220153],\n",
        "       [ 0.90823602,  0.09176398],\n",
        "       [ 0.92250574,  0.07749426],\n",
        "       [ 0.89002741,  0.10997259],\n",
        "       [ 0.37137306,  0.62862694],\n",
        "       [ 0.19233504,  0.80766496],\n",
        "       [ 0.09348214,  0.90651786],\n",
        "       [ 0.44679   ,  0.55321   ],\n",
        "       [ 0.45544497,  0.54455503],\n",
        "       [ 0.48221169,  0.51778831],\n",
        "       [ 0.27214879,  0.72785121],\n",
        "       [ 0.08191746,  0.91808254],\n",
        "       [ 0.20126931,  0.79873069],\n",
        "       [ 0.73095569,  0.26904431],\n",
        "       [ 0.72402625,  0.27597375],\n",
        "       [ 0.93338707,  0.06661293],\n",
        "       [ 0.68702993,  0.31297007],\n",
        "       [ 0.90355765,  0.09644235],\n",
        "       [ 0.94614167,  0.05385833],\n",
        "       [ 0.89002741,  0.10997259],\n",
        "       [ 0.45140303,  0.54859697],\n",
        "       [ 0.90823602,  0.09176398],\n",
        "       [ 0.53599967,  0.46400033],\n",
        "       [ 0.16050593,  0.83949407],\n",
        "       [ 0.24559851,  0.75440149],\n",
        "       [ 0.17585474,  0.82414526],\n",
        "       [ 0.93729212,  0.06270788],\n",
        "       [ 0.46885336,  0.53114664],\n",
        "       [ 0.66666695,  0.33333305],\n",
        "       [ 0.39296939,  0.60703061],\n",
        "       [ 0.98744061,  0.01255939],\n",
        "       [ 0.11756572,  0.88243428],\n",
        "       [ 0.58996201,  0.41003799],\n",
        "       [ 0.42908716,  0.57091284],\n",
        "       [ 0.32608282,  0.67391718],\n",
        "       [ 0.90687158,  0.09312842],\n",
        "       [ 0.53759044,  0.46240956],\n",
        "       [ 0.32572287,  0.67427713],\n",
        "       [ 0.94765205,  0.05234795],\n",
        "       [ 0.6205504 ,  0.3794496 ],\n",
        "       [ 0.38034148,  0.61965852],\n",
        "       [ 0.32055984,  0.67944016],\n",
        "       [ 0.92999872,  0.07000128],\n",
        "       [ 0.35865171,  0.64134829],\n",
        "       [ 0.58592632,  0.41407368],\n",
        "       [ 0.74282819,  0.25717181],\n",
        "       [ 0.91415613,  0.08584387],\n",
        "       [ 0.13207965,  0.86792035],\n",
        "       [ 0.89102164,  0.10897836],\n",
        "       [ 0.3217173 ,  0.6782827 ],\n",
        "       [ 0.9489273 ,  0.0510727 ],\n",
        "       [ 0.6198068 ,  0.3801932 ],\n",
        "       [ 0.93348651,  0.06651349],\n",
        "       [ 0.67982199,  0.32017801],\n",
        "       [ 0.35027873,  0.64972127],\n",
        "       [ 0.91972806,  0.08027194],\n",
        "       [ 0.91981101,  0.08018899],\n",
        "       [ 0.88639425,  0.11360575],\n",
        "       [ 0.63762523,  0.36237477],\n",
        "       [ 0.91450201,  0.08549799],\n",
        "       [ 0.37565447,  0.62434553],\n",
        "       [ 0.52228624,  0.47771376],\n",
        "       [ 0.11756572,  0.88243428],\n",
        "       [ 0.38466302,  0.61533698],\n",
        "       [ 0.301624  ,  0.698376  ],\n",
        "       [ 0.64098958,  0.35901042],\n",
        "       [ 0.60003194,  0.39996806],\n",
        "       [ 0.64221867,  0.35778133],\n",
        "       [ 0.89002741,  0.10997259],\n",
        "       [ 0.51318817,  0.48681183],\n",
        "       [ 0.88639425,  0.11360575],\n",
        "       [ 0.65885448,  0.34114552],\n",
        "       [ 0.90592289,  0.09407711],\n",
        "       [ 0.91270938,  0.08729062],\n",
        "       [ 0.12355816,  0.87644184]])"
       ]
      }
     ],
     "prompt_number": 72
    },
    {
     "cell_type": "code",
     "collapsed": false,
     "input": [
      "# Let's take a look at Predicted Probabilities\n",
      "y_pred_df = pd.DataFrame(clf.predict_proba(X_test))\n",
      "y_pred_df.rename(columns={0: 'No', 1: 'Yes'}, inplace=True)\n",
      "y_pred_df['y_pred'] = y_pred\n",
      "y_pred_df['y_true'] = y_test\n",
      "y_pred_df.tail()"
     ],
     "language": "python",
     "metadata": {},
     "outputs": [
      {
       "html": [
        "<div style=\"max-height:1000px;max-width:1500px;overflow:auto;\">\n",
        "<table border=\"1\" class=\"dataframe\">\n",
        "  <thead>\n",
        "    <tr style=\"text-align: right;\">\n",
        "      <th></th>\n",
        "      <th>No</th>\n",
        "      <th>Yes</th>\n",
        "      <th>y_pred</th>\n",
        "      <th>y_true</th>\n",
        "    </tr>\n",
        "  </thead>\n",
        "  <tbody>\n",
        "    <tr>\n",
        "      <th>174</th>\n",
        "      <td> 0.9</td>\n",
        "      <td> 0.1</td>\n",
        "      <td> 0</td>\n",
        "      <td> 0</td>\n",
        "    </tr>\n",
        "    <tr>\n",
        "      <th>175</th>\n",
        "      <td> 0.7</td>\n",
        "      <td> 0.3</td>\n",
        "      <td> 0</td>\n",
        "      <td> 0</td>\n",
        "    </tr>\n",
        "    <tr>\n",
        "      <th>176</th>\n",
        "      <td> 0.9</td>\n",
        "      <td> 0.1</td>\n",
        "      <td> 0</td>\n",
        "      <td> 0</td>\n",
        "    </tr>\n",
        "    <tr>\n",
        "      <th>177</th>\n",
        "      <td> 0.9</td>\n",
        "      <td> 0.1</td>\n",
        "      <td> 0</td>\n",
        "      <td> 0</td>\n",
        "    </tr>\n",
        "    <tr>\n",
        "      <th>178</th>\n",
        "      <td> 0.1</td>\n",
        "      <td> 0.9</td>\n",
        "      <td> 1</td>\n",
        "      <td> 1</td>\n",
        "    </tr>\n",
        "  </tbody>\n",
        "</table>\n",
        "</div>"
       ],
       "metadata": {},
       "output_type": "pyout",
       "prompt_number": 71,
       "text": [
        "      No  Yes  y_pred  y_true\n",
        "174  0.9  0.1       0       0\n",
        "175  0.7  0.3       0       0\n",
        "176  0.9  0.1       0       0\n",
        "177  0.9  0.1       0       0\n",
        "178  0.1  0.9       1       1"
       ]
      }
     ],
     "prompt_number": 71
    },
    {
     "cell_type": "code",
     "collapsed": false,
     "input": [
      "# Take a look at Predicted vs True Values\n",
      "sns.regplot(y_pred, y_test, x_jitter=0.1, y_jitter=0.1)"
     ],
     "language": "python",
     "metadata": {},
     "outputs": [
      {
       "metadata": {},
       "output_type": "pyout",
       "prompt_number": 65,
       "text": [
        "<matplotlib.axes._subplots.AxesSubplot at 0x109c850d0>"
       ]
      },
      {
       "metadata": {},
       "output_type": "display_data",
       "png": "[encoded data removed]",
       "text": [
        "<matplotlib.figure.Figure at 0x109c77490>"
       ]
      }
     ],
     "prompt_number": 65
    },
    {
     "cell_type": "markdown",
     "metadata": {},
     "source": [
      "### Submitting to Kaggle\n",
      "\n",
      "* Get the NEW Data from Kaggle that we need to Predict\n",
      "* Impute the same way we did the Training Data\n",
      "* Make Prediction using the same Classifer Object\n",
      "* Build a CSV and upload to Kaggle\n",
      "* Check the Leaderboard and Tweet yay!"
     ]
    },
    {
     "cell_type": "code",
     "collapsed": false,
     "input": [
      "#new date for which survival is not known\n",
      "titanic_new = pd.read_csv('../data/kaggle-titanic/test.csv')"
     ],
     "language": "python",
     "metadata": {},
     "outputs": [],
     "prompt_number": 73
    },
    {
     "cell_type": "code",
     "collapsed": false,
     "input": [
      "titanic_new.head(4)"
     ],
     "language": "python",
     "metadata": {},
     "outputs": [
      {
       "html": [
        "<div style=\"max-height:1000px;max-width:1500px;overflow:auto;\">\n",
        "<table border=\"1\" class=\"dataframe\">\n",
        "  <thead>\n",
        "    <tr style=\"text-align: right;\">\n",
        "      <th></th>\n",
        "      <th>PassengerId</th>\n",
        "      <th>Pclass</th>\n",
        "      <th>Name</th>\n",
        "      <th>Sex</th>\n",
        "      <th>Age</th>\n",
        "      <th>SibSp</th>\n",
        "      <th>Parch</th>\n",
        "      <th>Ticket</th>\n",
        "      <th>Fare</th>\n",
        "      <th>Cabin</th>\n",
        "      <th>Embarked</th>\n",
        "    </tr>\n",
        "  </thead>\n",
        "  <tbody>\n",
        "    <tr>\n",
        "      <th>0</th>\n",
        "      <td> 892</td>\n",
        "      <td> 3</td>\n",
        "      <td>                 Kelly, Mr. James</td>\n",
        "      <td>   male</td>\n",
        "      <td> 34.5</td>\n",
        "      <td> 0</td>\n",
        "      <td> 0</td>\n",
        "      <td> 330911</td>\n",
        "      <td> 7.8</td>\n",
        "      <td> NaN</td>\n",
        "      <td> Q</td>\n",
        "    </tr>\n",
        "    <tr>\n",
        "      <th>1</th>\n",
        "      <td> 893</td>\n",
        "      <td> 3</td>\n",
        "      <td> Wilkes, Mrs. James (Ellen Needs)</td>\n",
        "      <td> female</td>\n",
        "      <td> 47.0</td>\n",
        "      <td> 1</td>\n",
        "      <td> 0</td>\n",
        "      <td> 363272</td>\n",
        "      <td> 7.0</td>\n",
        "      <td> NaN</td>\n",
        "      <td> S</td>\n",
        "    </tr>\n",
        "    <tr>\n",
        "      <th>2</th>\n",
        "      <td> 894</td>\n",
        "      <td> 2</td>\n",
        "      <td>        Myles, Mr. Thomas Francis</td>\n",
        "      <td>   male</td>\n",
        "      <td> 62.0</td>\n",
        "      <td> 0</td>\n",
        "      <td> 0</td>\n",
        "      <td> 240276</td>\n",
        "      <td> 9.7</td>\n",
        "      <td> NaN</td>\n",
        "      <td> Q</td>\n",
        "    </tr>\n",
        "    <tr>\n",
        "      <th>3</th>\n",
        "      <td> 895</td>\n",
        "      <td> 3</td>\n",
        "      <td>                 Wirz, Mr. Albert</td>\n",
        "      <td>   male</td>\n",
        "      <td> 27.0</td>\n",
        "      <td> 0</td>\n",
        "      <td> 0</td>\n",
        "      <td> 315154</td>\n",
        "      <td> 8.7</td>\n",
        "      <td> NaN</td>\n",
        "      <td> S</td>\n",
        "    </tr>\n",
        "  </tbody>\n",
        "</table>\n",
        "</div>"
       ],
       "metadata": {},
       "output_type": "pyout",
       "prompt_number": 74,
       "text": [
        "   PassengerId  Pclass                              Name     Sex   Age  SibSp  \\\n",
        "0          892       3                  Kelly, Mr. James    male  34.5      0   \n",
        "1          893       3  Wilkes, Mrs. James (Ellen Needs)  female  47.0      1   \n",
        "2          894       2         Myles, Mr. Thomas Francis    male  62.0      0   \n",
        "3          895       3                  Wirz, Mr. Albert    male  27.0      0   \n",
        "\n",
        "   Parch  Ticket  Fare Cabin Embarked  \n",
        "0      0  330911   7.8   NaN        Q  \n",
        "1      0  363272   7.0   NaN        S  \n",
        "2      0  240276   9.7   NaN        Q  \n",
        "3      0  315154   8.7   NaN        S  "
       ]
      }
     ],
     "prompt_number": 74
    },
    {
     "cell_type": "code",
     "collapsed": false,
     "input": [
      "# Notice that there's NO \"Survived\" Column.  That's what we need to Predict\n",
      "titanic_new.info()"
     ],
     "language": "python",
     "metadata": {},
     "outputs": [
      {
       "output_type": "stream",
       "stream": "stdout",
       "text": [
        "<class 'pandas.core.frame.DataFrame'>\n",
        "Int64Index: 418 entries, 0 to 417\n",
        "Data columns (total 11 columns):\n",
        "PassengerId    418 non-null int64\n",
        "Pclass         418 non-null int64\n",
        "Name           418 non-null object\n",
        "Sex            418 non-null object\n",
        "Age            332 non-null float64\n",
        "SibSp          418 non-null int64\n",
        "Parch          418 non-null int64\n",
        "Ticket         418 non-null object\n",
        "Fare           417 non-null float64\n",
        "Cabin          91 non-null object\n",
        "Embarked       418 non-null object\n",
        "dtypes: float64(2), int64(4), object(5)\n",
        "memory usage: 39.2+ KB\n"
       ]
      }
     ],
     "prompt_number": 75
    },
    {
     "cell_type": "code",
     "collapsed": false,
     "input": [
      "age_missing_mask = titanic_new.Age.isnull()\n",
      "print sum(age_missing_mask)"
     ],
     "language": "python",
     "metadata": {},
     "outputs": [
      {
       "output_type": "stream",
       "stream": "stdout",
       "text": [
        "86\n"
       ]
      }
     ],
     "prompt_number": 76
    },
    {
     "cell_type": "code",
     "collapsed": false,
     "input": [
      "titanic_new.loc[age_missing_mask, 'Age'] = get_age_impute_values(86)"
     ],
     "language": "python",
     "metadata": {},
     "outputs": [],
     "prompt_number": 77
    },
    {
     "cell_type": "code",
     "collapsed": false,
     "input": [
      "# Convert the Passenger class to Categroical Variable\n",
      "titanic_new['Pclass'] = titanic_new.Pclass.astype(str)"
     ],
     "language": "python",
     "metadata": {},
     "outputs": [],
     "prompt_number": 78
    },
    {
     "cell_type": "code",
     "collapsed": false,
     "input": [
      "X_new = titanic_new[['Pclass', 'Sex', 'Age', 'SibSp']]"
     ],
     "language": "python",
     "metadata": {},
     "outputs": [],
     "prompt_number": 79
    },
    {
     "cell_type": "code",
     "collapsed": false,
     "input": [
      "X_new = pd.get_dummies(X_new)"
     ],
     "language": "python",
     "metadata": {},
     "outputs": [],
     "prompt_number": 80
    },
    {
     "cell_type": "code",
     "collapsed": false,
     "input": [
      "X_new"
     ],
     "language": "python",
     "metadata": {},
     "outputs": [
      {
       "html": [
        "<div style=\"max-height:1000px;max-width:1500px;overflow:auto;\">\n",
        "<table border=\"1\" class=\"dataframe\">\n",
        "  <thead>\n",
        "    <tr style=\"text-align: right;\">\n",
        "      <th></th>\n",
        "      <th>Age</th>\n",
        "      <th>SibSp</th>\n",
        "      <th>Pclass_1</th>\n",
        "      <th>Pclass_2</th>\n",
        "      <th>Pclass_3</th>\n",
        "      <th>Sex_female</th>\n",
        "      <th>Sex_male</th>\n",
        "    </tr>\n",
        "  </thead>\n",
        "  <tbody>\n",
        "    <tr>\n",
        "      <th>0  </th>\n",
        "      <td> 34.5</td>\n",
        "      <td> 0</td>\n",
        "      <td> 0</td>\n",
        "      <td> 0</td>\n",
        "      <td> 1</td>\n",
        "      <td> 0</td>\n",
        "      <td> 1</td>\n",
        "    </tr>\n",
        "    <tr>\n",
        "      <th>1  </th>\n",
        "      <td> 47.0</td>\n",
        "      <td> 1</td>\n",
        "      <td> 0</td>\n",
        "      <td> 0</td>\n",
        "      <td> 1</td>\n",
        "      <td> 1</td>\n",
        "      <td> 0</td>\n",
        "    </tr>\n",
        "    <tr>\n",
        "      <th>2  </th>\n",
        "      <td> 62.0</td>\n",
        "      <td> 0</td>\n",
        "      <td> 0</td>\n",
        "      <td> 1</td>\n",
        "      <td> 0</td>\n",
        "      <td> 0</td>\n",
        "      <td> 1</td>\n",
        "    </tr>\n",
        "    <tr>\n",
        "      <th>3  </th>\n",
        "      <td> 27.0</td>\n",
        "      <td> 0</td>\n",
        "      <td> 0</td>\n",
        "      <td> 0</td>\n",
        "      <td> 1</td>\n",
        "      <td> 0</td>\n",
        "      <td> 1</td>\n",
        "    </tr>\n",
        "    <tr>\n",
        "      <th>4  </th>\n",
        "      <td> 22.0</td>\n",
        "      <td> 1</td>\n",
        "      <td> 0</td>\n",
        "      <td> 0</td>\n",
        "      <td> 1</td>\n",
        "      <td> 1</td>\n",
        "      <td> 0</td>\n",
        "    </tr>\n",
        "    <tr>\n",
        "      <th>...</th>\n",
        "      <td>...</td>\n",
        "      <td>...</td>\n",
        "      <td>...</td>\n",
        "      <td>...</td>\n",
        "      <td>...</td>\n",
        "      <td>...</td>\n",
        "      <td>...</td>\n",
        "    </tr>\n",
        "    <tr>\n",
        "      <th>413</th>\n",
        "      <td> 14.8</td>\n",
        "      <td> 0</td>\n",
        "      <td> 0</td>\n",
        "      <td> 0</td>\n",
        "      <td> 1</td>\n",
        "      <td> 0</td>\n",
        "      <td> 1</td>\n",
        "    </tr>\n",
        "    <tr>\n",
        "      <th>414</th>\n",
        "      <td> 39.0</td>\n",
        "      <td> 0</td>\n",
        "      <td> 1</td>\n",
        "      <td> 0</td>\n",
        "      <td> 0</td>\n",
        "      <td> 1</td>\n",
        "      <td> 0</td>\n",
        "    </tr>\n",
        "    <tr>\n",
        "      <th>415</th>\n",
        "      <td> 38.5</td>\n",
        "      <td> 0</td>\n",
        "      <td> 0</td>\n",
        "      <td> 0</td>\n",
        "      <td> 1</td>\n",
        "      <td> 0</td>\n",
        "      <td> 1</td>\n",
        "    </tr>\n",
        "    <tr>\n",
        "      <th>416</th>\n",
        "      <td> -0.3</td>\n",
        "      <td> 0</td>\n",
        "      <td> 0</td>\n",
        "      <td> 0</td>\n",
        "      <td> 1</td>\n",
        "      <td> 0</td>\n",
        "      <td> 1</td>\n",
        "    </tr>\n",
        "    <tr>\n",
        "      <th>417</th>\n",
        "      <td> 63.1</td>\n",
        "      <td> 1</td>\n",
        "      <td> 0</td>\n",
        "      <td> 0</td>\n",
        "      <td> 1</td>\n",
        "      <td> 0</td>\n",
        "      <td> 1</td>\n",
        "    </tr>\n",
        "  </tbody>\n",
        "</table>\n",
        "<p>418 rows \u00d7 7 columns</p>\n",
        "</div>"
       ],
       "metadata": {},
       "output_type": "pyout",
       "prompt_number": 81,
       "text": [
        "      Age  SibSp  Pclass_1  Pclass_2  Pclass_3  Sex_female  Sex_male\n",
        "0    34.5      0         0         0         1           0         1\n",
        "1    47.0      1         0         0         1           1         0\n",
        "2    62.0      0         0         1         0           0         1\n",
        "3    27.0      0         0         0         1           0         1\n",
        "4    22.0      1         0         0         1           1         0\n",
        "..    ...    ...       ...       ...       ...         ...       ...\n",
        "413  14.8      0         0         0         1           0         1\n",
        "414  39.0      0         1         0         0           1         0\n",
        "415  38.5      0         0         0         1           0         1\n",
        "416  -0.3      0         0         0         1           0         1\n",
        "417  63.1      1         0         0         1           0         1\n",
        "\n",
        "[418 rows x 7 columns]"
       ]
      }
     ],
     "prompt_number": 81
    },
    {
     "cell_type": "code",
     "collapsed": false,
     "input": [
      "y_pred_new = clf.predict(X_new)"
     ],
     "language": "python",
     "metadata": {},
     "outputs": [],
     "prompt_number": 82
    },
    {
     "cell_type": "code",
     "collapsed": false,
     "input": [
      "submission = pd.DataFrame({'PassengerId': titanic_new.PassengerId,\n",
      "                          'Survived': y_pred_new\n",
      "                          })"
     ],
     "language": "python",
     "metadata": {},
     "outputs": [],
     "prompt_number": 83
    },
    {
     "cell_type": "code",
     "collapsed": false,
     "input": [
      "submission.head(4)"
     ],
     "language": "python",
     "metadata": {},
     "outputs": [
      {
       "html": [
        "<div style=\"max-height:1000px;max-width:1500px;overflow:auto;\">\n",
        "<table border=\"1\" class=\"dataframe\">\n",
        "  <thead>\n",
        "    <tr style=\"text-align: right;\">\n",
        "      <th></th>\n",
        "      <th>PassengerId</th>\n",
        "      <th>Survived</th>\n",
        "    </tr>\n",
        "  </thead>\n",
        "  <tbody>\n",
        "    <tr>\n",
        "      <th>0</th>\n",
        "      <td> 892</td>\n",
        "      <td> 0</td>\n",
        "    </tr>\n",
        "    <tr>\n",
        "      <th>1</th>\n",
        "      <td> 893</td>\n",
        "      <td> 0</td>\n",
        "    </tr>\n",
        "    <tr>\n",
        "      <th>2</th>\n",
        "      <td> 894</td>\n",
        "      <td> 0</td>\n",
        "    </tr>\n",
        "    <tr>\n",
        "      <th>3</th>\n",
        "      <td> 895</td>\n",
        "      <td> 0</td>\n",
        "    </tr>\n",
        "  </tbody>\n",
        "</table>\n",
        "</div>"
       ],
       "metadata": {},
       "output_type": "pyout",
       "prompt_number": 84,
       "text": [
        "   PassengerId  Survived\n",
        "0          892         0\n",
        "1          893         0\n",
        "2          894         0\n",
        "3          895         0"
       ]
      }
     ],
     "prompt_number": 84
    },
    {
     "cell_type": "code",
     "collapsed": false,
     "input": [
      "# We don't want the Index row numbers in submission\n",
      "submission.to_csv('submission.csv', index=False)"
     ],
     "language": "python",
     "metadata": {},
     "outputs": [],
     "prompt_number": 85
    },
    {
     "cell_type": "code",
     "collapsed": false,
     "input": [],
     "language": "python",
     "metadata": {},
     "outputs": [],
     "prompt_number": 78
    },
    {
     "cell_type": "code",
     "collapsed": false,
     "input": [],
     "language": "python",
     "metadata": {},
     "outputs": []
    }
   ],
   "metadata": {}
  }
 ]
}