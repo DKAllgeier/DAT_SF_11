{
 "metadata": {
  "name": "",
  "signature": "sha256:d0a49cb75213ee5e71e9a82da9a90f9fb82f8d12ee456140ddad07429e83be5d"
 },
 "nbformat": 3,
 "nbformat_minor": 0,
 "worksheets": [
  {
   "cells": [
    {
     "cell_type": "markdown",
     "metadata": {},
     "source": [
      "# This notebooks has a number of problems to help you get better at Python"
     ]
    },
    {
     "cell_type": "markdown",
     "metadata": {},
     "source": [
      "### Problem 1: Write a function to convert miles to Kilo Meters\n",
      "\n",
      "Hint: 1 mile = 1.6 km"
     ]
    },
    {
     "cell_type": "code",
     "collapsed": false,
     "input": [
      "# Code the following function\n",
      "def convert_to_km(miles):\n",
      "    '''Returns km value for miles.\n",
      "    '''\n",
      "    km=miles*1.6\n",
      "    return km\n",
      "convert_to_km(26)"
     ],
     "language": "python",
     "metadata": {},
     "outputs": [
      {
       "metadata": {},
       "output_type": "pyout",
       "prompt_number": 10,
       "text": [
        "41.6"
       ]
      }
     ],
     "prompt_number": 10
    },
    {
     "cell_type": "code",
     "collapsed": false,
     "input": [
      "# This is your scratch space to do what you want like test.  \n",
      "# To create more scratch space, just click on Insert -> Cell from the menu"
     ],
     "language": "python",
     "metadata": {},
     "outputs": [],
     "prompt_number": 2
    },
    {
     "cell_type": "code",
     "collapsed": false,
     "input": [
      "# If your code is right, the following asserts would succeed, otherwise, you will get a Traceback error\n",
      "# If you get an error, go back to above code and modify and try again.\n",
      "assert(convert_to_km(0) == 0)\n",
      "assert(convert_to_km(1) == 1.6)\n",
      "assert(convert_to_km(2) == 3.2)\n",
      "assert(convert_to_km(1.25) == 2.0)"
     ],
     "language": "python",
     "metadata": {},
     "outputs": [],
     "prompt_number": 12
    },
    {
     "cell_type": "markdown",
     "metadata": {},
     "source": [
      "### Problem 2: Write a function to compute powers of 2\n",
      "\n",
      "Hint: Powers of 2 are 1, 2, 4, 8, 16, 32 and so on for 2 to the power of 0, 1, 2, 3, 4, 5."
     ]
    },
    {
     "cell_type": "code",
     "collapsed": false,
     "input": [
      "# Code the following function\n",
      "def power_of_2(power):\n",
      "    '''Returns 2 to the power value.\n",
      "    '''\n",
      "    square=2**power\n",
      "    return square\n",
      "power_of_2(3)"
     ],
     "language": "python",
     "metadata": {},
     "outputs": [
      {
       "metadata": {},
       "output_type": "pyout",
       "prompt_number": 13,
       "text": [
        "8"
       ]
      }
     ],
     "prompt_number": 13
    },
    {
     "cell_type": "code",
     "collapsed": false,
     "input": [
      "# For example, you can test your code by typing power_of_2(1) and confirming the result."
     ],
     "language": "python",
     "metadata": {},
     "outputs": []
    },
    {
     "cell_type": "code",
     "collapsed": false,
     "input": [
      "# If your code is right, the following asserts would succeed\n",
      "assert(power_of_2(0) == 1)\n",
      "assert(power_of_2(1) == 2)\n",
      "assert(power_of_2(2) == 4)\n",
      "assert(power_of_2(3) == 8)"
     ],
     "language": "python",
     "metadata": {},
     "outputs": [],
     "prompt_number": 14
    },
    {
     "cell_type": "markdown",
     "metadata": {},
     "source": [
      " #### Problem 3: Write a function to check if the number is a power of 2\n",
      " \n",
      " If I pass in a value of 1, 2, 4, 8, 16 ... it should return True.  Otherwise, it should return False."
     ]
    },
    {
     "cell_type": "code",
     "collapsed": false,
     "input": [
      "import math\n",
      "def check_power_of_2(numb):\n",
      "    '''Returns True if numb is a power of 2, else returns False'''\n",
      "    \"\"\"return ((numb & (numb - 1)) == 0) and numb != 0\"\"\"\n",
      "#I don't know why this works\n",
      "    for i in range(0,numb):\n",
      "        return numb==2**i\n",
      "print check_power_of_2(4)"
     ],
     "language": "python",
     "metadata": {},
     "outputs": [
      {
       "output_type": "stream",
       "stream": "stdout",
       "text": [
        "False\n"
       ]
      }
     ],
     "prompt_number": 56
    },
    {
     "cell_type": "code",
     "collapsed": false,
     "input": [
      "# If your code is right, the following asserts would succeed.\n",
      "assert(check_power_of_2(2) is True)\n",
      "assert(check_power_of_2(3) is False)\n",
      "assert(check_power_of_2(8) is True)\n",
      "assert(check_power_of_2(12) is False)"
     ],
     "language": "python",
     "metadata": {},
     "outputs": [
      {
       "ename": "AssertionError",
       "evalue": "",
       "output_type": "pyerr",
       "traceback": [
        "\u001b[0;31m---------------------------------------------------------------------------\u001b[0m\n\u001b[0;31mAssertionError\u001b[0m                            Traceback (most recent call last)",
        "\u001b[0;32m<ipython-input-57-9128763702e4>\u001b[0m in \u001b[0;36m<module>\u001b[0;34m()\u001b[0m\n\u001b[1;32m      1\u001b[0m \u001b[0;31m# If your code is right, the following asserts would succeed.\u001b[0m\u001b[0;34m\u001b[0m\u001b[0;34m\u001b[0m\u001b[0m\n\u001b[0;32m----> 2\u001b[0;31m \u001b[0;32massert\u001b[0m\u001b[0;34m(\u001b[0m\u001b[0mcheck_power_of_2\u001b[0m\u001b[0;34m(\u001b[0m\u001b[0;36m2\u001b[0m\u001b[0;34m)\u001b[0m \u001b[0;32mis\u001b[0m \u001b[0mTrue\u001b[0m\u001b[0;34m)\u001b[0m\u001b[0;34m\u001b[0m\u001b[0m\n\u001b[0m\u001b[1;32m      3\u001b[0m \u001b[0;32massert\u001b[0m\u001b[0;34m(\u001b[0m\u001b[0mcheck_power_of_2\u001b[0m\u001b[0;34m(\u001b[0m\u001b[0;36m3\u001b[0m\u001b[0;34m)\u001b[0m \u001b[0;32mis\u001b[0m \u001b[0mFalse\u001b[0m\u001b[0;34m)\u001b[0m\u001b[0;34m\u001b[0m\u001b[0m\n\u001b[1;32m      4\u001b[0m \u001b[0;32massert\u001b[0m\u001b[0;34m(\u001b[0m\u001b[0mcheck_power_of_2\u001b[0m\u001b[0;34m(\u001b[0m\u001b[0;36m8\u001b[0m\u001b[0;34m)\u001b[0m \u001b[0;32mis\u001b[0m \u001b[0mTrue\u001b[0m\u001b[0;34m)\u001b[0m\u001b[0;34m\u001b[0m\u001b[0m\n\u001b[1;32m      5\u001b[0m \u001b[0;32massert\u001b[0m\u001b[0;34m(\u001b[0m\u001b[0mcheck_power_of_2\u001b[0m\u001b[0;34m(\u001b[0m\u001b[0;36m12\u001b[0m\u001b[0;34m)\u001b[0m \u001b[0;32mis\u001b[0m \u001b[0mFalse\u001b[0m\u001b[0;34m)\u001b[0m\u001b[0;34m\u001b[0m\u001b[0m\n",
        "\u001b[0;31mAssertionError\u001b[0m: "
       ]
      }
     ],
     "prompt_number": 57
    },
    {
     "cell_type": "markdown",
     "metadata": {},
     "source": [
      "### Problem 4: Write a function that returns the nth fibonaci sequence\n",
      "\n",
      "If I call with value of:\n",
      "    * 1, return the first fib sequence of 1\n",
      "    * 2, return 2nd number in fub seq of 1\n",
      "    * 3, return 1 + 1 = 2\n",
      "    * 4, return 1 + 2 = 3\n",
      "    * 5, return 2 + 3 = 5\n",
      "    * 6, return 3 + 5 = 8\n",
      "\n",
      "Ref: http://en.wikipedia.org/wiki/Fibonacci_number"
     ]
    },
    {
     "cell_type": "code",
     "collapsed": false,
     "input": [
      "def fib_value(numb):\n",
      "    '''returns the nth numb in fibonaci sequence'''\n",
      "    if numb<2:\n",
      "        return numb\n",
      "    else: \n",
      "        return fib_value(numb-1)+fib_value(numb-2)\n"
     ],
     "language": "python",
     "metadata": {},
     "outputs": [],
     "prompt_number": 35
    },
    {
     "cell_type": "code",
     "collapsed": false,
     "input": [
      "# If your code is right, the following asserts would succeed. \n",
      "assert(fib_value(1) == 1)\n",
      "assert(fib_value(5) == 5)\n",
      "assert(fib_value(6) == 8)\n",
      "assert(fib_value(7) == 13)"
     ],
     "language": "python",
     "metadata": {},
     "outputs": [],
     "prompt_number": 36
    },
    {
     "cell_type": "markdown",
     "metadata": {},
     "source": [
      "### Problem 5: Write a function to check if a number is a prime number"
     ]
    },
    {
     "cell_type": "code",
     "collapsed": false,
     "input": [
      "def is_prime(numb):\n",
      "    '''Returns True if the number is a prime number'''\n",
      "    if numb==2:\n",
      "        return True\n",
      "    for i in range(3,numb):\n",
      "        return numb%i!=0\n",
      "print is_prime(4)"
     ],
     "language": "python",
     "metadata": {},
     "outputs": [
      {
       "output_type": "stream",
       "stream": "stdout",
       "text": [
        "True\n"
       ]
      }
     ],
     "prompt_number": 45
    },
    {
     "cell_type": "code",
     "collapsed": false,
     "input": [
      "# If your code is right, the following asserts would succeed. \n",
      "assert(is_prime(2) is True)\n",
      "assert(is_prime(11) is True)\n",
      "assert(is_prime(12) is False)\n",
      "assert(is_prime(13) is True)"
     ],
     "language": "python",
     "metadata": {},
     "outputs": [],
     "prompt_number": 46
    },
    {
     "cell_type": "markdown",
     "metadata": {},
     "source": [
      "### Problem 6: Write a function that returns the max number in a given sequence (list)\n",
      "\n",
      "Don't use the max function\n",
      "\n",
      "* For [1, 3, 2], return 3\n",
      "* For [3, 3, 4, 5, 1], return 5\n",
      "* For [], return None"
     ]
    },
    {
     "cell_type": "code",
     "collapsed": false,
     "input": [
      "def find_max(seq):\n",
      "    '''Returns max value in the seq (list).  If the seq is empty, return None'''\n",
      "    seq.sort()\n",
      "    if seq==[]:\n",
      "        return None\n",
      "    else:\n",
      "        return seq[-1]\n",
      "print find_max([1,3,2])"
     ],
     "language": "python",
     "metadata": {},
     "outputs": [
      {
       "output_type": "stream",
       "stream": "stdout",
       "text": [
        "3\n"
       ]
      }
     ],
     "prompt_number": 64
    },
    {
     "cell_type": "code",
     "collapsed": false,
     "input": [
      "# If your code is right, the following asserts would succeed.\n",
      "assert(find_max([1, 3, 2]) == 3)\n",
      "assert(find_max([3, 3, 4, 5, 1]) == 5)\n",
      "assert(find_max([]) is None)"
     ],
     "language": "python",
     "metadata": {},
     "outputs": [],
     "prompt_number": 65
    },
    {
     "cell_type": "markdown",
     "metadata": {},
     "source": [
      "### Problem 7: Find the most common (repeated) number in a sequence\n",
      "\n",
      "* For [1, 1, 3, 2], return 1 (most common or repeated value)\n",
      "* For [1, 2, 2, 2, 3], return 2\n",
      "* For empty list [], return None\n",
      "\n",
      "Hint: Creating a Dictionary of numbers with their counts might be useful"
     ]
    },
    {
     "cell_type": "code",
     "collapsed": false,
     "input": [
      "def most_common(seq):\n",
      "    '''Returns the most common number in the sequence, return None if seq is empty'''\n",
      "    pass"
     ],
     "language": "python",
     "metadata": {},
     "outputs": []
    },
    {
     "cell_type": "code",
     "collapsed": false,
     "input": [
      "# If your code is right, the following asserts would succeed.\n",
      "assert(most_common([1, 1, 3, 2]) == 1)\n",
      "assert(most_common([1, 2, 2, 2, 5]) == 2)\n",
      "assert(most_common([]) is None)"
     ],
     "language": "python",
     "metadata": {},
     "outputs": []
    },
    {
     "cell_type": "markdown",
     "metadata": {},
     "source": [
      "### Problem 8: Check if a string is a palindrome.\n",
      "\n",
      "Palindrome read the same backwards and forwards.\n",
      "\n",
      "Ref: http://en.wikipedia.org/wiki/Palindrome"
     ]
    },
    {
     "cell_type": "code",
     "collapsed": false,
     "input": [
      "def is_palindrome(seq):\n",
      "    '''Returns True if seq is a palindrome else return False'''\n",
      "    return seq==seq[::-1]"
     ],
     "language": "python",
     "metadata": {},
     "outputs": [],
     "prompt_number": 66
    },
    {
     "cell_type": "code",
     "collapsed": false,
     "input": [
      "# If your code is right, the following asserts would succeed.\n",
      "assert(is_palindrome('radar') is True)\n",
      "assert(is_palindrome('civic') is True)\n",
      "assert(is_palindrome('honda') is False)"
     ],
     "language": "python",
     "metadata": {},
     "outputs": [],
     "prompt_number": 67
    },
    {
     "cell_type": "markdown",
     "metadata": {},
     "source": [
      "### Problem 9: Find the five most commonly used words in Gettysburg Address\n",
      "\n",
      "Hint: http://www.d.umn.edu/~rmaclin/gettysburg-address.html"
     ]
    },
    {
     "cell_type": "code",
     "collapsed": false,
     "input": [
      "# If the following import gives error, go to command prompt and run \"conda install requests\"\n",
      "import requests\n",
      "\n",
      "url = 'http://www.d.umn.edu/~rmaclin/gettysburg-address.html'\n",
      "gettsburg = requests.get(url).text"
     ],
     "language": "python",
     "metadata": {},
     "outputs": [],
     "prompt_number": 68
    },
    {
     "cell_type": "code",
     "collapsed": false,
     "input": [
      "def word_count(document):\n",
      "    wordcount={}\n",
      "    for word in gettsburg.read().split():\n",
      "        if word not in wordcount:\n",
      "            wordcount[word]=1\n",
      "        else:\n",
      "            wordcount[word]+=1\n",
      "    return (word, wordcount)\n",
      "\n",
      "print word_count(gettsburg)\n"
     ],
     "language": "python",
     "metadata": {},
     "outputs": [
      {
       "ename": "AttributeError",
       "evalue": "'unicode' object has no attribute 'read'",
       "output_type": "pyerr",
       "traceback": [
        "\u001b[0;31m---------------------------------------------------------------------------\u001b[0m\n\u001b[0;31mAttributeError\u001b[0m                            Traceback (most recent call last)",
        "\u001b[0;32m<ipython-input-78-8c4119b3a017>\u001b[0m in \u001b[0;36m<module>\u001b[0;34m()\u001b[0m\n\u001b[1;32m      7\u001b[0m             \u001b[0mwordcount\u001b[0m\u001b[0;34m[\u001b[0m\u001b[0mword\u001b[0m\u001b[0;34m]\u001b[0m\u001b[0;34m+=\u001b[0m\u001b[0;36m1\u001b[0m\u001b[0;34m\u001b[0m\u001b[0m\n\u001b[1;32m      8\u001b[0m     \u001b[0;32mreturn\u001b[0m \u001b[0;34m(\u001b[0m\u001b[0mword\u001b[0m\u001b[0;34m,\u001b[0m \u001b[0mwordcount\u001b[0m\u001b[0;34m)\u001b[0m\u001b[0;34m\u001b[0m\u001b[0m\n\u001b[0;32m----> 9\u001b[0;31m \u001b[0;32mprint\u001b[0m \u001b[0mword_count\u001b[0m\u001b[0;34m(\u001b[0m\u001b[0mgettsburg\u001b[0m\u001b[0;34m)\u001b[0m\u001b[0;34m\u001b[0m\u001b[0m\n\u001b[0m",
        "\u001b[0;32m<ipython-input-78-8c4119b3a017>\u001b[0m in \u001b[0;36mword_count\u001b[0;34m(document)\u001b[0m\n\u001b[1;32m      1\u001b[0m \u001b[0;32mdef\u001b[0m \u001b[0mword_count\u001b[0m\u001b[0;34m(\u001b[0m\u001b[0mdocument\u001b[0m\u001b[0;34m)\u001b[0m\u001b[0;34m:\u001b[0m\u001b[0;34m\u001b[0m\u001b[0m\n\u001b[1;32m      2\u001b[0m     \u001b[0mwordcount\u001b[0m\u001b[0;34m=\u001b[0m\u001b[0;34m{\u001b[0m\u001b[0;34m}\u001b[0m\u001b[0;34m\u001b[0m\u001b[0m\n\u001b[0;32m----> 3\u001b[0;31m     \u001b[0;32mfor\u001b[0m \u001b[0mword\u001b[0m \u001b[0;32min\u001b[0m \u001b[0mgettsburg\u001b[0m\u001b[0;34m.\u001b[0m\u001b[0mread\u001b[0m\u001b[0;34m(\u001b[0m\u001b[0;34m)\u001b[0m\u001b[0;34m.\u001b[0m\u001b[0msplit\u001b[0m\u001b[0;34m(\u001b[0m\u001b[0;34m)\u001b[0m\u001b[0;34m:\u001b[0m\u001b[0;34m\u001b[0m\u001b[0m\n\u001b[0m\u001b[1;32m      4\u001b[0m         \u001b[0;32mif\u001b[0m \u001b[0mword\u001b[0m \u001b[0;32mnot\u001b[0m \u001b[0;32min\u001b[0m \u001b[0mwordcount\u001b[0m\u001b[0;34m:\u001b[0m\u001b[0;34m\u001b[0m\u001b[0m\n\u001b[1;32m      5\u001b[0m             \u001b[0mwordcount\u001b[0m\u001b[0;34m[\u001b[0m\u001b[0mword\u001b[0m\u001b[0;34m]\u001b[0m\u001b[0;34m=\u001b[0m\u001b[0;36m1\u001b[0m\u001b[0;34m\u001b[0m\u001b[0m\n",
        "\u001b[0;31mAttributeError\u001b[0m: 'unicode' object has no attribute 'read'"
       ]
      }
     ],
     "prompt_number": 78
    },
    {
     "cell_type": "markdown",
     "metadata": {},
     "source": [
      "# Problem 10: Do problem 9 excluding stop words like \"a, the, and etc.\""
     ]
    },
    {
     "cell_type": "code",
     "collapsed": false,
     "input": [],
     "language": "python",
     "metadata": {},
     "outputs": []
    }
   ],
   "metadata": {}
  }
 ]
}