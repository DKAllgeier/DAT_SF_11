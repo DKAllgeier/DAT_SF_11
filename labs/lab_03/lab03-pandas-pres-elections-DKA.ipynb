{
 "metadata": {
  "name": "",
  "signature": "sha256:0767b8898e449d8f605ae870eaa8a51559d6f516d361533452abf9a404c4f634"
 },
 "nbformat": 3,
 "nbformat_minor": 0,
 "worksheets": [
  {
   "cells": [
    {
     "cell_type": "code",
     "collapsed": false,
     "input": [
      "# Standard imports for data analysis packages in Python\n",
      "import pandas as pd\n",
      "import numpy as np\n",
      "import seaborn as sns\n",
      "import matplotlib.pyplot as plt\n",
      "\n",
      "# This enables inline Plots\n",
      "%matplotlib inline\n",
      "\n",
      "# Limit rows displayed in notebook\n",
      "pd.set_option('display.max_rows', 10)\n",
      "pd.set_option('display.precision', 2)"
     ],
     "language": "python",
     "metadata": {},
     "outputs": [],
     "prompt_number": 98
    },
    {
     "cell_type": "code",
     "collapsed": false,
     "input": [
      "# Let's explore Presidential Elections Dataset\n",
      "\n",
      "pres_2004 = pd.read_csv('../data/us_pres_elections/2004_election_results.csv')"
     ],
     "language": "python",
     "metadata": {},
     "outputs": [],
     "prompt_number": 99
    },
    {
     "cell_type": "code",
     "collapsed": false,
     "input": [
      "# Look at first 5 rows\n",
      "pres_2004"
     ],
     "language": "python",
     "metadata": {},
     "outputs": [
      {
       "html": [
        "<div style=\"max-height:1000px;max-width:1500px;overflow:auto;\">\n",
        "<table border=\"1\" class=\"dataframe\">\n",
        "  <thead>\n",
        "    <tr style=\"text-align: right;\">\n",
        "      <th></th>\n",
        "      <th>STATE</th>\n",
        "      <th> Bush</th>\n",
        "      <th>Kerry</th>\n",
        "      <th>All Others</th>\n",
        "      <th>Total Vote</th>\n",
        "    </tr>\n",
        "  </thead>\n",
        "  <tbody>\n",
        "    <tr>\n",
        "      <th>0 </th>\n",
        "      <td> AL</td>\n",
        "      <td> 1,176,394</td>\n",
        "      <td>   693,933</td>\n",
        "      <td>  13,122</td>\n",
        "      <td>  1,883,449</td>\n",
        "    </tr>\n",
        "    <tr>\n",
        "      <th>1 </th>\n",
        "      <td> AK</td>\n",
        "      <td>   190,889</td>\n",
        "      <td>   111,025</td>\n",
        "      <td>  10,684</td>\n",
        "      <td>    312,598</td>\n",
        "    </tr>\n",
        "    <tr>\n",
        "      <th>2 </th>\n",
        "      <td> AZ</td>\n",
        "      <td> 1,104,294</td>\n",
        "      <td>   893,524</td>\n",
        "      <td>  14,767</td>\n",
        "      <td>  2,012,585</td>\n",
        "    </tr>\n",
        "    <tr>\n",
        "      <th>3 </th>\n",
        "      <td> AR</td>\n",
        "      <td>   572,898</td>\n",
        "      <td>   469,953</td>\n",
        "      <td>  12,094</td>\n",
        "      <td>  1,054,945</td>\n",
        "    </tr>\n",
        "    <tr>\n",
        "      <th>4 </th>\n",
        "      <td> CA</td>\n",
        "      <td> 5,509,826</td>\n",
        "      <td> 6,745,485</td>\n",
        "      <td> 166,541</td>\n",
        "      <td> 12,421,852</td>\n",
        "    </tr>\n",
        "    <tr>\n",
        "      <th>...</th>\n",
        "      <td>...</td>\n",
        "      <td>...</td>\n",
        "      <td>...</td>\n",
        "      <td>...</td>\n",
        "      <td>...</td>\n",
        "    </tr>\n",
        "    <tr>\n",
        "      <th>46</th>\n",
        "      <td> VA</td>\n",
        "      <td> 1,716,959</td>\n",
        "      <td> 1,454,742</td>\n",
        "      <td>  26,666</td>\n",
        "      <td>  3,198,367</td>\n",
        "    </tr>\n",
        "    <tr>\n",
        "      <th>47</th>\n",
        "      <td> WA</td>\n",
        "      <td> 1,304,894</td>\n",
        "      <td> 1,510,201</td>\n",
        "      <td>  43,989</td>\n",
        "      <td>  2,859,084</td>\n",
        "    </tr>\n",
        "    <tr>\n",
        "      <th>48</th>\n",
        "      <td> WV</td>\n",
        "      <td>   423,778</td>\n",
        "      <td>   326,541</td>\n",
        "      <td>   5,568</td>\n",
        "      <td>    755,887</td>\n",
        "    </tr>\n",
        "    <tr>\n",
        "      <th>49</th>\n",
        "      <td> WI</td>\n",
        "      <td> 1,478,120</td>\n",
        "      <td> 1,489,504</td>\n",
        "      <td>  29,383</td>\n",
        "      <td>  2,997,007</td>\n",
        "    </tr>\n",
        "    <tr>\n",
        "      <th>50</th>\n",
        "      <td> WY</td>\n",
        "      <td>   167,629</td>\n",
        "      <td>    70,776</td>\n",
        "      <td>   5,023</td>\n",
        "      <td>    243,428</td>\n",
        "    </tr>\n",
        "  </tbody>\n",
        "</table>\n",
        "<p>51 rows \u00d7 5 columns</p>\n",
        "</div>"
       ],
       "metadata": {},
       "output_type": "pyout",
       "prompt_number": 100,
       "text": [
        "   STATE       Bush      Kerry All Others  Total Vote\n",
        "0     AL  1,176,394    693,933     13,122   1,883,449\n",
        "1     AK    190,889    111,025     10,684     312,598\n",
        "2     AZ  1,104,294    893,524     14,767   2,012,585\n",
        "3     AR    572,898    469,953     12,094   1,054,945\n",
        "4     CA  5,509,826  6,745,485    166,541  12,421,852\n",
        "..   ...        ...        ...        ...         ...\n",
        "46    VA  1,716,959  1,454,742     26,666   3,198,367\n",
        "47    WA  1,304,894  1,510,201     43,989   2,859,084\n",
        "48    WV    423,778    326,541      5,568     755,887\n",
        "49    WI  1,478,120  1,489,504     29,383   2,997,007\n",
        "50    WY    167,629     70,776      5,023     243,428\n",
        "\n",
        "[51 rows x 5 columns]"
       ]
      }
     ],
     "prompt_number": 100
    },
    {
     "cell_type": "code",
     "collapsed": false,
     "input": [
      "# last 5 rows\n",
      "pres_2004.tail(5)"
     ],
     "language": "python",
     "metadata": {},
     "outputs": [
      {
       "html": [
        "<div style=\"max-height:1000px;max-width:1500px;overflow:auto;\">\n",
        "<table border=\"1\" class=\"dataframe\">\n",
        "  <thead>\n",
        "    <tr style=\"text-align: right;\">\n",
        "      <th></th>\n",
        "      <th>STATE</th>\n",
        "      <th> Bush</th>\n",
        "      <th>Kerry</th>\n",
        "      <th>All Others</th>\n",
        "      <th>Total Vote</th>\n",
        "    </tr>\n",
        "  </thead>\n",
        "  <tbody>\n",
        "    <tr>\n",
        "      <th>46</th>\n",
        "      <td> VA</td>\n",
        "      <td> 1,716,959</td>\n",
        "      <td> 1,454,742</td>\n",
        "      <td> 26,666</td>\n",
        "      <td> 3,198,367</td>\n",
        "    </tr>\n",
        "    <tr>\n",
        "      <th>47</th>\n",
        "      <td> WA</td>\n",
        "      <td> 1,304,894</td>\n",
        "      <td> 1,510,201</td>\n",
        "      <td> 43,989</td>\n",
        "      <td> 2,859,084</td>\n",
        "    </tr>\n",
        "    <tr>\n",
        "      <th>48</th>\n",
        "      <td> WV</td>\n",
        "      <td>   423,778</td>\n",
        "      <td>   326,541</td>\n",
        "      <td>  5,568</td>\n",
        "      <td>   755,887</td>\n",
        "    </tr>\n",
        "    <tr>\n",
        "      <th>49</th>\n",
        "      <td> WI</td>\n",
        "      <td> 1,478,120</td>\n",
        "      <td> 1,489,504</td>\n",
        "      <td> 29,383</td>\n",
        "      <td> 2,997,007</td>\n",
        "    </tr>\n",
        "    <tr>\n",
        "      <th>50</th>\n",
        "      <td> WY</td>\n",
        "      <td>   167,629</td>\n",
        "      <td>    70,776</td>\n",
        "      <td>  5,023</td>\n",
        "      <td>   243,428</td>\n",
        "    </tr>\n",
        "  </tbody>\n",
        "</table>\n",
        "</div>"
       ],
       "metadata": {},
       "output_type": "pyout",
       "prompt_number": 101,
       "text": [
        "   STATE       Bush      Kerry All Others Total Vote\n",
        "46    VA  1,716,959  1,454,742     26,666  3,198,367\n",
        "47    WA  1,304,894  1,510,201     43,989  2,859,084\n",
        "48    WV    423,778    326,541      5,568    755,887\n",
        "49    WI  1,478,120  1,489,504     29,383  2,997,007\n",
        "50    WY    167,629     70,776      5,023    243,428"
       ]
      }
     ],
     "prompt_number": 101
    },
    {
     "cell_type": "code",
     "collapsed": false,
     "input": [
      "# do a Info to look at datatypes\n",
      "# Do you see any missing data?\n",
      "pres_2004.info()\n",
      "#everything is a string!\n",
      "#use pandas to format and enumerate data"
     ],
     "language": "python",
     "metadata": {},
     "outputs": [
      {
       "output_type": "stream",
       "stream": "stdout",
       "text": [
        "<class 'pandas.core.frame.DataFrame'>\n",
        "Int64Index: 51 entries, 0 to 50\n",
        "Data columns (total 5 columns):\n",
        "STATE         51 non-null object\n",
        " Bush         51 non-null object\n",
        "Kerry         51 non-null object\n",
        "All Others    51 non-null object\n",
        "Total Vote    51 non-null object\n",
        "dtypes: object(5)"
       ]
      }
     ],
     "prompt_number": 102
    },
    {
     "cell_type": "code",
     "collapsed": false,
     "input": [
      "pres_2004.columns"
     ],
     "language": "python",
     "metadata": {},
     "outputs": [
      {
       "metadata": {},
       "output_type": "pyout",
       "prompt_number": 103,
       "text": [
        "Index([u'STATE', u' Bush', u'Kerry', u'All Others', u'Total Vote'], dtype='object')"
       ]
      }
     ],
     "prompt_number": 103
    },
    {
     "cell_type": "code",
     "collapsed": false,
     "input": [
      "# Notice that 'Bush' has a space in the front.\n",
      "# Replace column name ' Bush' with 'Bush'\n",
      "pres_2004.rename(columns={' Bush':'Bush'}, inplace=True)\n",
      "## Your Turn"
     ],
     "language": "python",
     "metadata": {},
     "outputs": [],
     "prompt_number": 104
    },
    {
     "cell_type": "code",
     "collapsed": false,
     "input": [
      "pres_2004.columns"
     ],
     "language": "python",
     "metadata": {},
     "outputs": [
      {
       "metadata": {},
       "output_type": "pyout",
       "prompt_number": 105,
       "text": [
        "Index([u'STATE', u'Bush', u'Kerry', u'All Others', u'Total Vote'], dtype='object')"
       ]
      }
     ],
     "prompt_number": 105
    },
    {
     "cell_type": "code",
     "collapsed": false,
     "input": [
      "# Let's convert the string value for votes into numbers\n",
      "# Here's a sample - pres_2004.Kerry.map(lambda x: x.strip().replace(',', '')).astype(int)\n",
      "\n",
      "# Do this for Bush, Kerry, All Others, Total Votes\n",
      "pres_2004.Bush[0]"
     ],
     "language": "python",
     "metadata": {},
     "outputs": [
      {
       "metadata": {},
       "output_type": "pyout",
       "prompt_number": 106,
       "text": [
        "'1,176,394'"
       ]
      }
     ],
     "prompt_number": 106
    },
    {
     "cell_type": "code",
     "collapsed": false,
     "input": [
      "'''pres_2004['Bush']=pres_2004.Bush.map(lambda x: x.strip().replace(',', '')).astype(int)\n",
      "pres_2004['Kerry']=pres_2004.Kerry.map(lambda x: x.strip().replace(',', '')).astype(int)\n",
      "pres_2004['All Others']=pres_2004['All_Others'].map(lambda x: x.strip().replace(',', '')).astype(int)\n",
      "pres_2004['Total Votes']=pres_2004['Total_Vote].map(lambda x: x.strip().replace(',', '')).astype(int)'''\n",
      "\n",
      "#wont change to int with commas in numbers\n",
      "#map changes whole row, apply is for whole columns\n",
      "\n",
      "for col in ['Kerry','Bush','All Others','Total Vote']:\n",
      "    print col\n",
      "    pres_2004[col]=pres_2004[col].map(lambda x: x.strip().replace(',', '')).astype(int)"
     ],
     "language": "python",
     "metadata": {},
     "outputs": [
      {
       "output_type": "stream",
       "stream": "stdout",
       "text": [
        "Kerry\n",
        "Bush\n",
        "All Others\n",
        "Total Vote\n"
       ]
      }
     ],
     "prompt_number": 107
    },
    {
     "cell_type": "code",
     "collapsed": false,
     "input": [
      "' 693,933 '.strip().replace(',', '')"
     ],
     "language": "python",
     "metadata": {},
     "outputs": [
      {
       "metadata": {},
       "output_type": "pyout",
       "prompt_number": 108,
       "text": [
        "'693933'"
       ]
      }
     ],
     "prompt_number": 108
    },
    {
     "cell_type": "code",
     "collapsed": false,
     "input": [
      "# OK Now, read the \"electoral_votes_by_state.csv\" Dataset.  What do you see\n",
      "# Call it electoral_votes\n",
      "electoral_votes = pd.read_csv('../data/us_pres_elections/electoral_votes_by_state.csv')"
     ],
     "language": "python",
     "metadata": {},
     "outputs": [],
     "prompt_number": 109
    },
    {
     "cell_type": "code",
     "collapsed": false,
     "input": [
      "electoral_votes.info()"
     ],
     "language": "python",
     "metadata": {},
     "outputs": [
      {
       "output_type": "stream",
       "stream": "stdout",
       "text": [
        "<class 'pandas.core.frame.DataFrame'>\n",
        "Int64Index: 51 entries, 0 to 50\n",
        "Data columns (total 2 columns):\n",
        "STATE              51 non-null object\n",
        "Electoral Votes    51 non-null int64\n",
        "dtypes: int64(1), object(1)"
       ]
      }
     ],
     "prompt_number": 110
    },
    {
     "cell_type": "markdown",
     "metadata": {},
     "source": [
      "### Merge Electoral votes with pres_2004 to see who won and by how many electoral votes\n",
      "\n",
      "* Merge vs Join"
     ]
    },
    {
     "cell_type": "code",
     "collapsed": false,
     "input": [
      "pres_2004.merge(electoral_votes)"
     ],
     "language": "python",
     "metadata": {},
     "outputs": [
      {
       "html": [
        "<div style=\"max-height:1000px;max-width:1500px;overflow:auto;\">\n",
        "<table border=\"1\" class=\"dataframe\">\n",
        "  <thead>\n",
        "    <tr style=\"text-align: right;\">\n",
        "      <th></th>\n",
        "      <th>STATE</th>\n",
        "      <th>Bush</th>\n",
        "      <th>Kerry</th>\n",
        "      <th>All Others</th>\n",
        "      <th>Total Vote</th>\n",
        "      <th>Electoral Votes</th>\n",
        "    </tr>\n",
        "  </thead>\n",
        "  <tbody>\n",
        "    <tr>\n",
        "      <th>0 </th>\n",
        "      <td> AL</td>\n",
        "      <td> 1176394</td>\n",
        "      <td>  693933</td>\n",
        "      <td>  13122</td>\n",
        "      <td>  1883449</td>\n",
        "      <td>  9</td>\n",
        "    </tr>\n",
        "    <tr>\n",
        "      <th>1 </th>\n",
        "      <td> AK</td>\n",
        "      <td>  190889</td>\n",
        "      <td>  111025</td>\n",
        "      <td>  10684</td>\n",
        "      <td>   312598</td>\n",
        "      <td>  3</td>\n",
        "    </tr>\n",
        "    <tr>\n",
        "      <th>2 </th>\n",
        "      <td> AZ</td>\n",
        "      <td> 1104294</td>\n",
        "      <td>  893524</td>\n",
        "      <td>  14767</td>\n",
        "      <td>  2012585</td>\n",
        "      <td> 10</td>\n",
        "    </tr>\n",
        "    <tr>\n",
        "      <th>3 </th>\n",
        "      <td> AR</td>\n",
        "      <td>  572898</td>\n",
        "      <td>  469953</td>\n",
        "      <td>  12094</td>\n",
        "      <td>  1054945</td>\n",
        "      <td>  6</td>\n",
        "    </tr>\n",
        "    <tr>\n",
        "      <th>4 </th>\n",
        "      <td> CA</td>\n",
        "      <td> 5509826</td>\n",
        "      <td> 6745485</td>\n",
        "      <td> 166541</td>\n",
        "      <td> 12421852</td>\n",
        "      <td> 55</td>\n",
        "    </tr>\n",
        "    <tr>\n",
        "      <th>...</th>\n",
        "      <td>...</td>\n",
        "      <td>...</td>\n",
        "      <td>...</td>\n",
        "      <td>...</td>\n",
        "      <td>...</td>\n",
        "      <td>...</td>\n",
        "    </tr>\n",
        "    <tr>\n",
        "      <th>46</th>\n",
        "      <td> VA</td>\n",
        "      <td> 1716959</td>\n",
        "      <td> 1454742</td>\n",
        "      <td>  26666</td>\n",
        "      <td>  3198367</td>\n",
        "      <td> 13</td>\n",
        "    </tr>\n",
        "    <tr>\n",
        "      <th>47</th>\n",
        "      <td> WA</td>\n",
        "      <td> 1304894</td>\n",
        "      <td> 1510201</td>\n",
        "      <td>  43989</td>\n",
        "      <td>  2859084</td>\n",
        "      <td> 11</td>\n",
        "    </tr>\n",
        "    <tr>\n",
        "      <th>48</th>\n",
        "      <td> WV</td>\n",
        "      <td>  423778</td>\n",
        "      <td>  326541</td>\n",
        "      <td>   5568</td>\n",
        "      <td>   755887</td>\n",
        "      <td>  5</td>\n",
        "    </tr>\n",
        "    <tr>\n",
        "      <th>49</th>\n",
        "      <td> WI</td>\n",
        "      <td> 1478120</td>\n",
        "      <td> 1489504</td>\n",
        "      <td>  29383</td>\n",
        "      <td>  2997007</td>\n",
        "      <td> 10</td>\n",
        "    </tr>\n",
        "    <tr>\n",
        "      <th>50</th>\n",
        "      <td> WY</td>\n",
        "      <td>  167629</td>\n",
        "      <td>   70776</td>\n",
        "      <td>   5023</td>\n",
        "      <td>   243428</td>\n",
        "      <td>  3</td>\n",
        "    </tr>\n",
        "  </tbody>\n",
        "</table>\n",
        "<p>51 rows \u00d7 6 columns</p>\n",
        "</div>"
       ],
       "metadata": {},
       "output_type": "pyout",
       "prompt_number": 111,
       "text": [
        "   STATE     Bush    Kerry  All Others  Total Vote  Electoral Votes\n",
        "0     AL  1176394   693933       13122     1883449                9\n",
        "1     AK   190889   111025       10684      312598                3\n",
        "2     AZ  1104294   893524       14767     2012585               10\n",
        "3     AR   572898   469953       12094     1054945                6\n",
        "4     CA  5509826  6745485      166541    12421852               55\n",
        "..   ...      ...      ...         ...         ...              ...\n",
        "46    VA  1716959  1454742       26666     3198367               13\n",
        "47    WA  1304894  1510201       43989     2859084               11\n",
        "48    WV   423778   326541        5568      755887                5\n",
        "49    WI  1478120  1489504       29383     2997007               10\n",
        "50    WY   167629    70776        5023      243428                3\n",
        "\n",
        "[51 rows x 6 columns]"
       ]
      }
     ],
     "prompt_number": 111
    },
    {
     "cell_type": "code",
     "collapsed": false,
     "input": [
      "#Arthur's solution\n",
      "pres_2004=pres_2004.merge(electoral_votes)\n",
      "'''print 'Bush', pres_2004[pres_2004.Bush>mycheck.Kerry]['Electoral Votes'].sum()\n",
      "print 'Kerry', pres_2004[pres_2004.Bush<mycheck.Kerry]['Electoral Votes'].sum()'''"
     ],
     "language": "python",
     "metadata": {},
     "outputs": [
      {
       "metadata": {},
       "output_type": "pyout",
       "prompt_number": 118,
       "text": [
        "\"print 'Bush', mycheck[mycheck.Bush>mycheck.Kerry]['Electoral Votes'].sum()\\nprint 'Kerry', mycheck[mycheck.Bush<mycheck.Kerry]['Electoral Votes'].sum()\""
       ]
      }
     ],
     "prompt_number": 118
    },
    {
     "cell_type": "code",
     "collapsed": false,
     "input": [
      "# Award the electoral Votes to the candidate that had the most votes in the state\n",
      "# How much did Kerry and Bush get?\n",
      "pres_2004['Bush_votes']=0\n",
      "pres_2004['Kerry_votes']=0\n",
      "bush_mask=pres_2004['Bush']>pres_2004['Kerry']\n",
      "kerry_mask=pres_2004['Kerry']>pres_2004['Bush']\n",
      "pres_2004.ix[bush_mask,'Bush_votes']=pres_2004.ix[bush_mask, 'Electoral Votes']\n",
      "pres_2004.ix[kerry_mask,'Kerry_votes']=pres_2004.ix[kerry_mask, 'Electoral Votes']"
     ],
     "language": "python",
     "metadata": {},
     "outputs": [],
     "prompt_number": 119
    },
    {
     "cell_type": "code",
     "collapsed": false,
     "input": [
      "bush_mask"
     ],
     "language": "python",
     "metadata": {},
     "outputs": [
      {
       "metadata": {},
       "output_type": "pyout",
       "prompt_number": 120,
       "text": [
        "0    True\n",
        "1    True\n",
        "2    True\n",
        "...\n",
        "48     True\n",
        "49    False\n",
        "50     True\n",
        "Length: 51, dtype: bool"
       ]
      }
     ],
     "prompt_number": 120
    },
    {
     "cell_type": "code",
     "collapsed": false,
     "input": [
      "pres_2004['Bush_votes']=(pres_2004['Bush']>pres_2004['Kerry'])*pres_2004['Electoral Votes']"
     ],
     "language": "python",
     "metadata": {},
     "outputs": [],
     "prompt_number": 121
    },
    {
     "cell_type": "code",
     "collapsed": false,
     "input": [
      "print 'Kerry', pres_2004.Kerry_votes.sum()\n",
      "print 'Bush', pres_2004.Bush_votes.sum()"
     ],
     "language": "python",
     "metadata": {},
     "outputs": [
      {
       "output_type": "stream",
       "stream": "stdout",
       "text": [
        "Kerry 252\n",
        "Bush 286\n"
       ]
      }
     ],
     "prompt_number": 122
    },
    {
     "cell_type": "code",
     "collapsed": false,
     "input": [
      "pres_2004.info"
     ],
     "language": "python",
     "metadata": {},
     "outputs": [
      {
       "metadata": {},
       "output_type": "pyout",
       "prompt_number": 123,
       "text": [
        "<bound method DataFrame.info of    STATE     Bush    Kerry  All Others  Total Vote  Bush_votes  Kerry_votes  \\\n",
        "0     AL  1176394   693933       13122     1883449           9            0   \n",
        "1     AK   190889   111025       10684      312598           3            0   \n",
        "2     AZ  1104294   893524       14767     2012585          10            0   \n",
        "3     AR   572898   469953       12094     1054945           6            0   \n",
        "4     CA  5509826  6745485      166541    12421852           0           55   \n",
        "..   ...      ...      ...         ...         ...         ...          ...   \n",
        "46    VA  1716959  1454742       26666     3198367          13            0   \n",
        "47    WA  1304894  1510201       43989     2859084           0           11   \n",
        "48    WV   423778   326541        5568      755887           5            0   \n",
        "49    WI  1478120  1489504       29383     2997007           0           10   \n",
        "50    WY   167629    70776        5023      243428           3            0   \n",
        "\n",
        "    Electoral Votes  \n",
        "0                 9  \n",
        "1                 3  \n",
        "2                10  \n",
        "3                 6  \n",
        "4                55  \n",
        "..              ...  \n",
        "46               13  \n",
        "47               11  \n",
        "48                5  \n",
        "49               10  \n",
        "50                3  \n",
        "\n",
        "[51 rows x 8 columns]>"
       ]
      }
     ],
     "prompt_number": 123
    },
    {
     "cell_type": "code",
     "collapsed": false,
     "input": [
      "# Now add a NEW Column and set it to 2004.  We are going to merge files later\n",
      "pres_2004['year'] = 2004"
     ],
     "language": "python",
     "metadata": {},
     "outputs": [],
     "prompt_number": 124
    },
    {
     "cell_type": "raw",
     "metadata": {},
     "source": [
      "pres_2004"
     ]
    },
    {
     "cell_type": "markdown",
     "metadata": {},
     "source": [
      "### Read in 2008 and Append the rows of 2008 with 2004"
     ]
    },
    {
     "cell_type": "code",
     "collapsed": false,
     "input": [
      "pres_2008 = pd.read_csv('../data/us_pres_elections/2008_election_results.csv')"
     ],
     "language": "python",
     "metadata": {},
     "outputs": [],
     "prompt_number": 79
    },
    {
     "cell_type": "code",
     "collapsed": false,
     "input": [
      "pres_2008.info\n",
      "#State is written as STATE in pres_2004"
     ],
     "language": "python",
     "metadata": {},
     "outputs": [
      {
       "metadata": {},
       "output_type": "pyout",
       "prompt_number": 116,
       "text": [
        "<bound method DataFrame.info of    State    Obama   McCain  All Others  Total Vote\n",
        "0     AL   813479  1266546       19794     2099819\n",
        "1     AK   123594   193841        8762      326197\n",
        "2     AZ  1034707  1230111       28657     2293475\n",
        "3     AR   422310   638017       26290     1086617\n",
        "4     CA  8274473  5011781      275646    13561900\n",
        "..   ...      ...      ...         ...         ...\n",
        "46    VA  1959532  1725005       38723     3723260\n",
        "47    WA  1750848  1229216       56814     3036878\n",
        "48    WV   303857   397466       12128      713451\n",
        "49    WI  1677211  1262393       43813     2983417\n",
        "50    WY    82868   164958        6832      254658\n",
        "\n",
        "[51 rows x 5 columns]>"
       ]
      }
     ],
     "prompt_number": 116
    },
    {
     "cell_type": "code",
     "collapsed": false,
     "input": [
      "for col in ['Obama','McCain','All Others','Total Vote']:\n",
      "    print col\n",
      "    pres_2008[col]=pres_2008[col].map(lambda x: x.strip().replace(',', '')).astype(int)"
     ],
     "language": "python",
     "metadata": {},
     "outputs": [
      {
       "output_type": "stream",
       "stream": "stdout",
       "text": [
        "Obama\n",
        "McCain\n",
        "All Others\n",
        "Total Vote\n"
       ]
      }
     ],
     "prompt_number": 82
    },
    {
     "cell_type": "code",
     "collapsed": false,
     "input": [
      "pres_2008=pres_2008.merge(electoral)"
     ],
     "language": "python",
     "metadata": {},
     "outputs": []
    },
    {
     "cell_type": "code",
     "collapsed": false,
     "input": [
      "# your turn\n",
      "pres_2004.append"
     ],
     "language": "python",
     "metadata": {},
     "outputs": [],
     "prompt_number": 85
    },
    {
     "cell_type": "code",
     "collapsed": false,
     "input": [],
     "language": "python",
     "metadata": {},
     "outputs": []
    },
    {
     "cell_type": "markdown",
     "metadata": {},
     "source": [
      "### Read in 2012 Election results too"
     ]
    },
    {
     "cell_type": "code",
     "collapsed": false,
     "input": [
      "# Your Turn"
     ],
     "language": "python",
     "metadata": {},
     "outputs": [],
     "prompt_number": 88
    },
    {
     "cell_type": "code",
     "collapsed": false,
     "input": [],
     "language": "python",
     "metadata": {},
     "outputs": [],
     "prompt_number": 88
    },
    {
     "cell_type": "markdown",
     "metadata": {},
     "source": [
      "### Create a new data frame to classify each of the presidential candidates in 2004, 2008 and 2012 as Democrat or Republican"
     ]
    },
    {
     "cell_type": "code",
     "collapsed": false,
     "input": [
      "# Your Turn"
     ],
     "language": "python",
     "metadata": {},
     "outputs": [],
     "prompt_number": 89
    },
    {
     "cell_type": "code",
     "collapsed": false,
     "input": [],
     "language": "python",
     "metadata": {},
     "outputs": [],
     "prompt_number": 89
    },
    {
     "cell_type": "markdown",
     "metadata": {},
     "source": [
      "### Now, can you give electoral vote counts for the three elections (04, 08, 12) by Party Afiliation"
     ]
    },
    {
     "cell_type": "code",
     "collapsed": false,
     "input": [
      "# your turn"
     ],
     "language": "python",
     "metadata": {},
     "outputs": [],
     "prompt_number": 90
    },
    {
     "cell_type": "code",
     "collapsed": false,
     "input": [],
     "language": "python",
     "metadata": {},
     "outputs": [],
     "prompt_number": 90
    },
    {
     "cell_type": "markdown",
     "metadata": {},
     "source": [
      "### What States are safely Republican or Democratic."
     ]
    },
    {
     "cell_type": "code",
     "collapsed": false,
     "input": [
      "# Your Turn"
     ],
     "language": "python",
     "metadata": {},
     "outputs": [],
     "prompt_number": 91
    },
    {
     "cell_type": "code",
     "collapsed": false,
     "input": [],
     "language": "python",
     "metadata": {},
     "outputs": [],
     "prompt_number": 91
    },
    {
     "cell_type": "markdown",
     "metadata": {},
     "source": [
      "### Challenge: What states decide the fate of elections?"
     ]
    },
    {
     "cell_type": "code",
     "collapsed": false,
     "input": [
      "# Your Turn"
     ],
     "language": "python",
     "metadata": {},
     "outputs": [],
     "prompt_number": 92
    },
    {
     "cell_type": "code",
     "collapsed": false,
     "input": [],
     "language": "python",
     "metadata": {},
     "outputs": []
    }
   ],
   "metadata": {}
  }
 ]
}